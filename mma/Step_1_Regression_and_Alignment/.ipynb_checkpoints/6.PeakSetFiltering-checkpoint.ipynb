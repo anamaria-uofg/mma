{
 "cells": [
  {
   "cell_type": "code",
   "execution_count": 1,
   "metadata": {},
   "outputs": [],
   "source": [
    "import pandas as pd\n",
    "import numpy as np\n",
    "import matplotlib.pyplot as plt\n",
    "import seaborn as sns\n",
    "import sys\n",
    "sys.path.append('..')"
   ]
  },
  {
   "cell_type": "code",
   "execution_count": 2,
   "metadata": {},
   "outputs": [],
   "source": [
    "%load_ext autoreload\n",
    "%autoreload 2"
   ]
  },
  {
   "cell_type": "code",
   "execution_count": 3,
   "metadata": {},
   "outputs": [],
   "source": [
    "WIN = 'D:/'\n",
    "MAC = '/Volumes/Transcend2/17_20_PhD/19_20_PhD_Metabolomics/'\n",
    "\n",
    "osp = MAC"
   ]
  },
  {
   "cell_type": "markdown",
   "metadata": {},
   "source": [
    "## 1. Load aligned peaksets"
   ]
  },
  {
   "cell_type": "code",
   "execution_count": 11,
   "metadata": {},
   "outputs": [],
   "source": [
    "output_dir = osp+'/pymz/mzmine/peak_picked_files/samples_alignment/'"
   ]
  },
  {
   "cell_type": "code",
   "execution_count": 17,
   "metadata": {},
   "outputs": [],
   "source": [
    "output_dir = osp+'/pymz/mzmine/peak_picked_files/samples_alignment_including_hat/'"
   ]
  },
  {
   "cell_type": "code",
   "execution_count": 4,
   "metadata": {},
   "outputs": [],
   "source": [
    "output_dir = osp+'/pymz/mzmine/peak_picked_files/samples_alignment_including_tryps/'"
   ]
  },
  {
   "cell_type": "code",
   "execution_count": 7,
   "metadata": {},
   "outputs": [],
   "source": [
    "output_dir = osp+'positive_mode/samples/alignment/'"
   ]
  },
  {
   "cell_type": "code",
   "execution_count": 6,
   "metadata": {},
   "outputs": [],
   "source": [
    "output_dir = osp+'pymz/mzmine/peak_picked_files/zik/'"
   ]
  },
  {
   "cell_type": "code",
   "execution_count": 8,
   "metadata": {},
   "outputs": [],
   "source": [
    "output_dir = osp+'Metabolomics_datasets/picked_peaks/'"
   ]
  },
  {
   "cell_type": "code",
   "execution_count": 21,
   "metadata": {},
   "outputs": [],
   "source": [
    "all_df = pd.read_csv(output_dir+'pp_aligned.csv', index_col=0)\n",
    "feature_description = all_df.iloc[:,:2]\n",
    "all_samples = all_df.iloc[:,2:-1]\n",
    "all_samples.columns = [x.split(\" \")[0] for x in list(all_samples.columns)]"
   ]
  },
  {
   "cell_type": "code",
   "execution_count": 22,
   "metadata": {},
   "outputs": [
    {
     "data": {
      "text/html": [
       "<div>\n",
       "<style scoped>\n",
       "    .dataframe tbody tr th:only-of-type {\n",
       "        vertical-align: middle;\n",
       "    }\n",
       "\n",
       "    .dataframe tbody tr th {\n",
       "        vertical-align: top;\n",
       "    }\n",
       "\n",
       "    .dataframe thead th {\n",
       "        text-align: right;\n",
       "    }\n",
       "</style>\n",
       "<table border=\"1\" class=\"dataframe\">\n",
       "  <thead>\n",
       "    <tr style=\"text-align: right;\">\n",
       "      <th></th>\n",
       "      <th>NoDrug_4.mzXML</th>\n",
       "      <th>NoDrug_1.mzXML</th>\n",
       "      <th>NoDrug_3.mzXML</th>\n",
       "      <th>NoDrug_2.mzXML</th>\n",
       "      <th>C1_2.mzXML</th>\n",
       "      <th>C1.mzXML</th>\n",
       "      <th>C2.mzXML</th>\n",
       "      <th>C2_2.mzXML</th>\n",
       "      <th>C3.mzXML</th>\n",
       "      <th>C3_2.mzXML</th>\n",
       "      <th>...</th>\n",
       "      <th>VL18.mzXML</th>\n",
       "      <th>VL19.mzXML</th>\n",
       "      <th>ZIK3.mzXML</th>\n",
       "      <th>ZIK4.mzXML</th>\n",
       "      <th>ZIK6.mzXML</th>\n",
       "      <th>ZIK5.mzXML</th>\n",
       "      <th>ZIK8.mzXML</th>\n",
       "      <th>ZIK7.mzXML</th>\n",
       "      <th>ZIK9.mzXML</th>\n",
       "      <th>ZIK10.mzXML</th>\n",
       "    </tr>\n",
       "    <tr>\n",
       "      <th>row ID</th>\n",
       "      <th></th>\n",
       "      <th></th>\n",
       "      <th></th>\n",
       "      <th></th>\n",
       "      <th></th>\n",
       "      <th></th>\n",
       "      <th></th>\n",
       "      <th></th>\n",
       "      <th></th>\n",
       "      <th></th>\n",
       "      <th></th>\n",
       "      <th></th>\n",
       "      <th></th>\n",
       "      <th></th>\n",
       "      <th></th>\n",
       "      <th></th>\n",
       "      <th></th>\n",
       "      <th></th>\n",
       "      <th></th>\n",
       "      <th></th>\n",
       "      <th></th>\n",
       "    </tr>\n",
       "  </thead>\n",
       "  <tbody>\n",
       "    <tr>\n",
       "      <th>1</th>\n",
       "      <td>2.210049e+07</td>\n",
       "      <td>2.164965e+07</td>\n",
       "      <td>2.465453e+07</td>\n",
       "      <td>1.851856e+07</td>\n",
       "      <td>4.614353e+07</td>\n",
       "      <td>2.085426e+07</td>\n",
       "      <td>3.013930e+07</td>\n",
       "      <td>4.325300e+07</td>\n",
       "      <td>3.383469e+07</td>\n",
       "      <td>5.313842e+07</td>\n",
       "      <td>...</td>\n",
       "      <td>2.122167e+07</td>\n",
       "      <td>4.795888e+07</td>\n",
       "      <td>2.944607e+07</td>\n",
       "      <td>2.781514e+07</td>\n",
       "      <td>2.862125e+07</td>\n",
       "      <td>2.204861e+07</td>\n",
       "      <td>2.464016e+07</td>\n",
       "      <td>2.464048e+07</td>\n",
       "      <td>3.781691e+07</td>\n",
       "      <td>3.300827e+07</td>\n",
       "    </tr>\n",
       "    <tr>\n",
       "      <th>2</th>\n",
       "      <td>1.109462e+06</td>\n",
       "      <td>1.125820e+06</td>\n",
       "      <td>1.277906e+06</td>\n",
       "      <td>0.000000e+00</td>\n",
       "      <td>1.522104e+06</td>\n",
       "      <td>0.000000e+00</td>\n",
       "      <td>6.422153e+05</td>\n",
       "      <td>1.105686e+06</td>\n",
       "      <td>7.841148e+05</td>\n",
       "      <td>1.414808e+06</td>\n",
       "      <td>...</td>\n",
       "      <td>0.000000e+00</td>\n",
       "      <td>1.319757e+06</td>\n",
       "      <td>6.903945e+05</td>\n",
       "      <td>0.000000e+00</td>\n",
       "      <td>7.704952e+05</td>\n",
       "      <td>0.000000e+00</td>\n",
       "      <td>7.333863e+05</td>\n",
       "      <td>9.377857e+05</td>\n",
       "      <td>1.220752e+06</td>\n",
       "      <td>1.014742e+06</td>\n",
       "    </tr>\n",
       "    <tr>\n",
       "      <th>3</th>\n",
       "      <td>5.694724e+06</td>\n",
       "      <td>5.068886e+06</td>\n",
       "      <td>5.906159e+06</td>\n",
       "      <td>4.117903e+06</td>\n",
       "      <td>4.091100e+07</td>\n",
       "      <td>3.058282e+07</td>\n",
       "      <td>2.702779e+07</td>\n",
       "      <td>4.887425e+07</td>\n",
       "      <td>2.500291e+07</td>\n",
       "      <td>7.197281e+07</td>\n",
       "      <td>...</td>\n",
       "      <td>3.035807e+07</td>\n",
       "      <td>5.982381e+07</td>\n",
       "      <td>2.178095e+07</td>\n",
       "      <td>2.599395e+07</td>\n",
       "      <td>2.517629e+07</td>\n",
       "      <td>4.409439e+07</td>\n",
       "      <td>2.841725e+07</td>\n",
       "      <td>2.658106e+07</td>\n",
       "      <td>2.954860e+07</td>\n",
       "      <td>3.733972e+07</td>\n",
       "    </tr>\n",
       "    <tr>\n",
       "      <th>4</th>\n",
       "      <td>1.027413e+07</td>\n",
       "      <td>1.383614e+07</td>\n",
       "      <td>1.200453e+07</td>\n",
       "      <td>1.210949e+07</td>\n",
       "      <td>6.502450e+06</td>\n",
       "      <td>3.275266e+06</td>\n",
       "      <td>3.863122e+06</td>\n",
       "      <td>5.804167e+06</td>\n",
       "      <td>6.054794e+06</td>\n",
       "      <td>7.903980e+06</td>\n",
       "      <td>...</td>\n",
       "      <td>3.923343e+06</td>\n",
       "      <td>7.417835e+06</td>\n",
       "      <td>5.307918e+06</td>\n",
       "      <td>2.592165e+06</td>\n",
       "      <td>4.342657e+06</td>\n",
       "      <td>7.609846e+06</td>\n",
       "      <td>4.032461e+06</td>\n",
       "      <td>2.640288e+06</td>\n",
       "      <td>3.371975e+06</td>\n",
       "      <td>3.978803e+06</td>\n",
       "    </tr>\n",
       "    <tr>\n",
       "      <th>5</th>\n",
       "      <td>5.327243e+06</td>\n",
       "      <td>4.054727e+06</td>\n",
       "      <td>4.162697e+06</td>\n",
       "      <td>4.567699e+06</td>\n",
       "      <td>1.020940e+07</td>\n",
       "      <td>1.966871e+07</td>\n",
       "      <td>2.106180e+07</td>\n",
       "      <td>8.555656e+06</td>\n",
       "      <td>0.000000e+00</td>\n",
       "      <td>8.547658e+06</td>\n",
       "      <td>...</td>\n",
       "      <td>0.000000e+00</td>\n",
       "      <td>0.000000e+00</td>\n",
       "      <td>2.208745e+07</td>\n",
       "      <td>1.968036e+07</td>\n",
       "      <td>2.334410e+07</td>\n",
       "      <td>2.206928e+07</td>\n",
       "      <td>2.282602e+07</td>\n",
       "      <td>2.185117e+07</td>\n",
       "      <td>2.081503e+07</td>\n",
       "      <td>0.000000e+00</td>\n",
       "    </tr>\n",
       "    <tr>\n",
       "      <th>...</th>\n",
       "      <td>...</td>\n",
       "      <td>...</td>\n",
       "      <td>...</td>\n",
       "      <td>...</td>\n",
       "      <td>...</td>\n",
       "      <td>...</td>\n",
       "      <td>...</td>\n",
       "      <td>...</td>\n",
       "      <td>...</td>\n",
       "      <td>...</td>\n",
       "      <td>...</td>\n",
       "      <td>...</td>\n",
       "      <td>...</td>\n",
       "      <td>...</td>\n",
       "      <td>...</td>\n",
       "      <td>...</td>\n",
       "      <td>...</td>\n",
       "      <td>...</td>\n",
       "      <td>...</td>\n",
       "      <td>...</td>\n",
       "      <td>...</td>\n",
       "    </tr>\n",
       "    <tr>\n",
       "      <th>37396</th>\n",
       "      <td>0.000000e+00</td>\n",
       "      <td>0.000000e+00</td>\n",
       "      <td>0.000000e+00</td>\n",
       "      <td>0.000000e+00</td>\n",
       "      <td>0.000000e+00</td>\n",
       "      <td>0.000000e+00</td>\n",
       "      <td>0.000000e+00</td>\n",
       "      <td>0.000000e+00</td>\n",
       "      <td>0.000000e+00</td>\n",
       "      <td>0.000000e+00</td>\n",
       "      <td>...</td>\n",
       "      <td>0.000000e+00</td>\n",
       "      <td>0.000000e+00</td>\n",
       "      <td>0.000000e+00</td>\n",
       "      <td>0.000000e+00</td>\n",
       "      <td>0.000000e+00</td>\n",
       "      <td>0.000000e+00</td>\n",
       "      <td>0.000000e+00</td>\n",
       "      <td>0.000000e+00</td>\n",
       "      <td>0.000000e+00</td>\n",
       "      <td>8.240223e+04</td>\n",
       "    </tr>\n",
       "    <tr>\n",
       "      <th>37397</th>\n",
       "      <td>0.000000e+00</td>\n",
       "      <td>0.000000e+00</td>\n",
       "      <td>0.000000e+00</td>\n",
       "      <td>0.000000e+00</td>\n",
       "      <td>0.000000e+00</td>\n",
       "      <td>0.000000e+00</td>\n",
       "      <td>0.000000e+00</td>\n",
       "      <td>0.000000e+00</td>\n",
       "      <td>0.000000e+00</td>\n",
       "      <td>0.000000e+00</td>\n",
       "      <td>...</td>\n",
       "      <td>0.000000e+00</td>\n",
       "      <td>0.000000e+00</td>\n",
       "      <td>0.000000e+00</td>\n",
       "      <td>0.000000e+00</td>\n",
       "      <td>0.000000e+00</td>\n",
       "      <td>0.000000e+00</td>\n",
       "      <td>0.000000e+00</td>\n",
       "      <td>0.000000e+00</td>\n",
       "      <td>0.000000e+00</td>\n",
       "      <td>1.073175e+06</td>\n",
       "    </tr>\n",
       "    <tr>\n",
       "      <th>37398</th>\n",
       "      <td>0.000000e+00</td>\n",
       "      <td>0.000000e+00</td>\n",
       "      <td>0.000000e+00</td>\n",
       "      <td>0.000000e+00</td>\n",
       "      <td>0.000000e+00</td>\n",
       "      <td>0.000000e+00</td>\n",
       "      <td>0.000000e+00</td>\n",
       "      <td>0.000000e+00</td>\n",
       "      <td>0.000000e+00</td>\n",
       "      <td>0.000000e+00</td>\n",
       "      <td>...</td>\n",
       "      <td>0.000000e+00</td>\n",
       "      <td>0.000000e+00</td>\n",
       "      <td>0.000000e+00</td>\n",
       "      <td>0.000000e+00</td>\n",
       "      <td>0.000000e+00</td>\n",
       "      <td>0.000000e+00</td>\n",
       "      <td>0.000000e+00</td>\n",
       "      <td>0.000000e+00</td>\n",
       "      <td>0.000000e+00</td>\n",
       "      <td>1.042923e+05</td>\n",
       "    </tr>\n",
       "    <tr>\n",
       "      <th>37399</th>\n",
       "      <td>0.000000e+00</td>\n",
       "      <td>0.000000e+00</td>\n",
       "      <td>0.000000e+00</td>\n",
       "      <td>0.000000e+00</td>\n",
       "      <td>0.000000e+00</td>\n",
       "      <td>0.000000e+00</td>\n",
       "      <td>0.000000e+00</td>\n",
       "      <td>0.000000e+00</td>\n",
       "      <td>0.000000e+00</td>\n",
       "      <td>0.000000e+00</td>\n",
       "      <td>...</td>\n",
       "      <td>0.000000e+00</td>\n",
       "      <td>0.000000e+00</td>\n",
       "      <td>0.000000e+00</td>\n",
       "      <td>0.000000e+00</td>\n",
       "      <td>0.000000e+00</td>\n",
       "      <td>0.000000e+00</td>\n",
       "      <td>0.000000e+00</td>\n",
       "      <td>0.000000e+00</td>\n",
       "      <td>0.000000e+00</td>\n",
       "      <td>7.706217e+05</td>\n",
       "    </tr>\n",
       "    <tr>\n",
       "      <th>37400</th>\n",
       "      <td>0.000000e+00</td>\n",
       "      <td>0.000000e+00</td>\n",
       "      <td>0.000000e+00</td>\n",
       "      <td>0.000000e+00</td>\n",
       "      <td>0.000000e+00</td>\n",
       "      <td>0.000000e+00</td>\n",
       "      <td>0.000000e+00</td>\n",
       "      <td>0.000000e+00</td>\n",
       "      <td>0.000000e+00</td>\n",
       "      <td>0.000000e+00</td>\n",
       "      <td>...</td>\n",
       "      <td>0.000000e+00</td>\n",
       "      <td>0.000000e+00</td>\n",
       "      <td>0.000000e+00</td>\n",
       "      <td>0.000000e+00</td>\n",
       "      <td>0.000000e+00</td>\n",
       "      <td>0.000000e+00</td>\n",
       "      <td>0.000000e+00</td>\n",
       "      <td>0.000000e+00</td>\n",
       "      <td>0.000000e+00</td>\n",
       "      <td>8.068703e+04</td>\n",
       "    </tr>\n",
       "  </tbody>\n",
       "</table>\n",
       "<p>37400 rows × 80 columns</p>\n",
       "</div>"
      ],
      "text/plain": [
       "        NoDrug_4.mzXML  NoDrug_1.mzXML  NoDrug_3.mzXML  NoDrug_2.mzXML  \\\n",
       "row ID                                                                   \n",
       "1         2.210049e+07    2.164965e+07    2.465453e+07    1.851856e+07   \n",
       "2         1.109462e+06    1.125820e+06    1.277906e+06    0.000000e+00   \n",
       "3         5.694724e+06    5.068886e+06    5.906159e+06    4.117903e+06   \n",
       "4         1.027413e+07    1.383614e+07    1.200453e+07    1.210949e+07   \n",
       "5         5.327243e+06    4.054727e+06    4.162697e+06    4.567699e+06   \n",
       "...                ...             ...             ...             ...   \n",
       "37396     0.000000e+00    0.000000e+00    0.000000e+00    0.000000e+00   \n",
       "37397     0.000000e+00    0.000000e+00    0.000000e+00    0.000000e+00   \n",
       "37398     0.000000e+00    0.000000e+00    0.000000e+00    0.000000e+00   \n",
       "37399     0.000000e+00    0.000000e+00    0.000000e+00    0.000000e+00   \n",
       "37400     0.000000e+00    0.000000e+00    0.000000e+00    0.000000e+00   \n",
       "\n",
       "          C1_2.mzXML      C1.mzXML      C2.mzXML    C2_2.mzXML      C3.mzXML  \\\n",
       "row ID                                                                         \n",
       "1       4.614353e+07  2.085426e+07  3.013930e+07  4.325300e+07  3.383469e+07   \n",
       "2       1.522104e+06  0.000000e+00  6.422153e+05  1.105686e+06  7.841148e+05   \n",
       "3       4.091100e+07  3.058282e+07  2.702779e+07  4.887425e+07  2.500291e+07   \n",
       "4       6.502450e+06  3.275266e+06  3.863122e+06  5.804167e+06  6.054794e+06   \n",
       "5       1.020940e+07  1.966871e+07  2.106180e+07  8.555656e+06  0.000000e+00   \n",
       "...              ...           ...           ...           ...           ...   \n",
       "37396   0.000000e+00  0.000000e+00  0.000000e+00  0.000000e+00  0.000000e+00   \n",
       "37397   0.000000e+00  0.000000e+00  0.000000e+00  0.000000e+00  0.000000e+00   \n",
       "37398   0.000000e+00  0.000000e+00  0.000000e+00  0.000000e+00  0.000000e+00   \n",
       "37399   0.000000e+00  0.000000e+00  0.000000e+00  0.000000e+00  0.000000e+00   \n",
       "37400   0.000000e+00  0.000000e+00  0.000000e+00  0.000000e+00  0.000000e+00   \n",
       "\n",
       "          C3_2.mzXML  ...    VL18.mzXML    VL19.mzXML    ZIK3.mzXML  \\\n",
       "row ID                ...                                             \n",
       "1       5.313842e+07  ...  2.122167e+07  4.795888e+07  2.944607e+07   \n",
       "2       1.414808e+06  ...  0.000000e+00  1.319757e+06  6.903945e+05   \n",
       "3       7.197281e+07  ...  3.035807e+07  5.982381e+07  2.178095e+07   \n",
       "4       7.903980e+06  ...  3.923343e+06  7.417835e+06  5.307918e+06   \n",
       "5       8.547658e+06  ...  0.000000e+00  0.000000e+00  2.208745e+07   \n",
       "...              ...  ...           ...           ...           ...   \n",
       "37396   0.000000e+00  ...  0.000000e+00  0.000000e+00  0.000000e+00   \n",
       "37397   0.000000e+00  ...  0.000000e+00  0.000000e+00  0.000000e+00   \n",
       "37398   0.000000e+00  ...  0.000000e+00  0.000000e+00  0.000000e+00   \n",
       "37399   0.000000e+00  ...  0.000000e+00  0.000000e+00  0.000000e+00   \n",
       "37400   0.000000e+00  ...  0.000000e+00  0.000000e+00  0.000000e+00   \n",
       "\n",
       "          ZIK4.mzXML    ZIK6.mzXML    ZIK5.mzXML    ZIK8.mzXML    ZIK7.mzXML  \\\n",
       "row ID                                                                         \n",
       "1       2.781514e+07  2.862125e+07  2.204861e+07  2.464016e+07  2.464048e+07   \n",
       "2       0.000000e+00  7.704952e+05  0.000000e+00  7.333863e+05  9.377857e+05   \n",
       "3       2.599395e+07  2.517629e+07  4.409439e+07  2.841725e+07  2.658106e+07   \n",
       "4       2.592165e+06  4.342657e+06  7.609846e+06  4.032461e+06  2.640288e+06   \n",
       "5       1.968036e+07  2.334410e+07  2.206928e+07  2.282602e+07  2.185117e+07   \n",
       "...              ...           ...           ...           ...           ...   \n",
       "37396   0.000000e+00  0.000000e+00  0.000000e+00  0.000000e+00  0.000000e+00   \n",
       "37397   0.000000e+00  0.000000e+00  0.000000e+00  0.000000e+00  0.000000e+00   \n",
       "37398   0.000000e+00  0.000000e+00  0.000000e+00  0.000000e+00  0.000000e+00   \n",
       "37399   0.000000e+00  0.000000e+00  0.000000e+00  0.000000e+00  0.000000e+00   \n",
       "37400   0.000000e+00  0.000000e+00  0.000000e+00  0.000000e+00  0.000000e+00   \n",
       "\n",
       "          ZIK9.mzXML   ZIK10.mzXML  \n",
       "row ID                              \n",
       "1       3.781691e+07  3.300827e+07  \n",
       "2       1.220752e+06  1.014742e+06  \n",
       "3       2.954860e+07  3.733972e+07  \n",
       "4       3.371975e+06  3.978803e+06  \n",
       "5       2.081503e+07  0.000000e+00  \n",
       "...              ...           ...  \n",
       "37396   0.000000e+00  8.240223e+04  \n",
       "37397   0.000000e+00  1.073175e+06  \n",
       "37398   0.000000e+00  1.042923e+05  \n",
       "37399   0.000000e+00  7.706217e+05  \n",
       "37400   0.000000e+00  8.068703e+04  \n",
       "\n",
       "[37400 rows x 80 columns]"
      ]
     },
     "execution_count": 22,
     "metadata": {},
     "output_type": "execute_result"
    }
   ],
   "source": [
    "all_samples"
   ]
  },
  {
   "cell_type": "code",
   "execution_count": 25,
   "metadata": {},
   "outputs": [],
   "source": [
    "file = open(osp+'hat_meta.txt', 'w')\n",
    "for col in all_samples.columns:\n",
    "    if col.startswith('A') or col.startswith('B'):\n",
    "        if col.split('.')[0].endswith('C'):\n",
    "            file.write(col+'\\t'+'control'+'\\t'+'HAT'+'\\t'+'controlHAT'+'\\n')\n",
    "        elif col.split('.')[0].endswith('P'):\n",
    "            file.write(col+'\\t'+'infected'+'\\t'+'HAT'+'\\t'+'infectedHAT'+'\\n')\n",
    "file.close()\n",
    "        "
   ]
  },
  {
   "cell_type": "markdown",
   "metadata": {},
   "source": [
    "## 2. Label samples"
   ]
  },
  {
   "cell_type": "code",
   "execution_count": 8,
   "metadata": {},
   "outputs": [],
   "source": [
    "sample_description = pd.read_csv(osp+'sample_description.csv', index_col=0)"
   ]
  },
  {
   "cell_type": "code",
   "execution_count": 23,
   "metadata": {},
   "outputs": [],
   "source": [
    "sample_description = pd.read_csv(osp+'sample_description_including_tryps.csv', index_col=0)"
   ]
  },
  {
   "cell_type": "code",
   "execution_count": 24,
   "metadata": {},
   "outputs": [],
   "source": [
    "all_samples = all_samples[sample_description.index]"
   ]
  },
  {
   "cell_type": "markdown",
   "metadata": {},
   "source": [
    "## 3. Log transformation"
   ]
  },
  {
   "cell_type": "code",
   "execution_count": 105,
   "metadata": {},
   "outputs": [
    {
     "name": "stdout",
     "output_type": "stream",
     "text": [
      "Total number of peaksets: 37400\n"
     ]
    }
   ],
   "source": [
    "all_samples_log = np.log2(all_samples+1)\n",
    "print('Total number of peaksets: {}'.format(len(all_samples_log)))"
   ]
  },
  {
   "cell_type": "code",
   "execution_count": 26,
   "metadata": {},
   "outputs": [],
   "source": [
    "all_samples_log = all_samples"
   ]
  },
  {
   "cell_type": "code",
   "execution_count": 15,
   "metadata": {
    "collapsed": true
   },
   "outputs": [
    {
     "data": {
      "text/plain": [
       "<matplotlib.axes._subplots.AxesSubplot at 0x11b67e1f0>"
      ]
     },
     "execution_count": 15,
     "metadata": {},
     "output_type": "execute_result"
    },
    {
     "data": {
      "image/png": "[encoded data removed]",
      "text/plain": [
       "<Figure size 432x288 with 1 Axes>"
      ]
     },
     "metadata": {
      "needs_background": "light"
     },
     "output_type": "display_data"
    }
   ],
   "source": [
    "all_samples_log.plot.density(legend = False)"
   ]
  },
  {
   "cell_type": "code",
   "execution_count": 28,
   "metadata": {},
   "outputs": [
    {
     "data": {
      "image/png": "[encoded data removed]",
      "text/plain": [
       "<Figure size 720x360 with 2 Axes>"
      ]
     },
     "metadata": {
      "needs_background": "light"
     },
     "output_type": "display_data"
    }
   ],
   "source": [
    "plt.figure(figsize=(10,5))\n",
    "plt.imshow(all_samples_log,aspect='auto')\n",
    "plt.colorbar()\n",
    "plt.show()"
   ]
  },
  {
   "cell_type": "code",
   "execution_count": 147,
   "metadata": {},
   "outputs": [],
   "source": [
    "all_samples_log.iloc[np.subtract(list(trypspecific),1)].to_csv(osp+'positive_mode/trypsspec.csv')"
   ]
  },
  {
   "cell_type": "code",
   "execution_count": 106,
   "metadata": {},
   "outputs": [],
   "source": [
    "all_samples_log[ro].to_csv(osp+'positive_mode/inters.csv')"
   ]
  },
  {
   "cell_type": "markdown",
   "metadata": {},
   "source": [
    "## 4. PCA plot"
   ]
  },
  {
   "cell_type": "code",
   "execution_count": 86,
   "metadata": {},
   "outputs": [],
   "source": [
    "# rearranging the dataframe\n",
    "Zik = all_samples_log.transpose()[np.array(sample_description['Dataset'] == 'Zika')].transpose()\n",
    "zik_con = Zik.transpose()[np.array(sample_description[sample_description[\"Dataset\"] == \"Zika\"]['Condition'] ==\"control\")].transpose()\n",
    "zik_inf = Zik.transpose()[np.array(sample_description[sample_description[\"Dataset\"] == \"Zika\"]['Condition'] ==\"infected\")].transpose()\n",
    "Mal = all_samples_log.transpose()[np.array(sample_description['Dataset'] == 'Malaria')].transpose()\n",
    "mal_con = Mal.transpose()[np.array(sample_description[sample_description[\"Dataset\"] == \"Malaria\"]['Condition'] ==\"control\")].transpose()\n",
    "mal_inf = Mal.transpose()[np.array(sample_description[sample_description[\"Dataset\"] == \"Malaria\"]['Condition'] ==\"infected\")].transpose()\n",
    "vl = all_samples_log.transpose()[np.array(sample_description['Dataset'] == 'VL')].transpose()\n",
    "vl_con = vl.transpose()[np.array(sample_description[sample_description[\"Dataset\"] == \"VL\"]['Condition'] ==\"control\")].transpose()\n",
    "vl_inf = vl.transpose()[np.array(sample_description[sample_description[\"Dataset\"] == \"VL\"]['Condition'] ==\"infected\")].transpose()\n"
   ]
  },
  {
   "cell_type": "code",
   "execution_count": 33,
   "metadata": {},
   "outputs": [],
   "source": [
    "hat = all_samples_log.transpose()[np.array(sample_description['Dataset'] == 'HAT')].transpose()\n",
    "hat_con = hat.transpose()[np.array(sample_description[sample_description[\"Dataset\"] == \"HAT\"]['Condition'] ==\"control\")].transpose()\n",
    "hat_inf = hat.transpose()[np.array(sample_description[sample_description[\"Dataset\"] == \"HAT\"]['Condition'] ==\"infected\")].transpose()\n"
   ]
  },
  {
   "cell_type": "code",
   "execution_count": 87,
   "metadata": {},
   "outputs": [],
   "source": [
    "tryps = all_samples_log.transpose()[np.array(sample_description['Dataset'] == 'Tryps')].transpose()\n",
    "tryps_con = tryps.transpose()[np.array(sample_description[sample_description[\"Dataset\"] == \"Tryps\"]['Condition'] ==\"control\")].transpose()\n",
    "#tryps_drug = tryps.transpose()[np.array(sample_description[sample_description[\"Dataset\"] == \"Tryps\"]['Condition'] ==\"infected\")].transpose()\n"
   ]
  },
  {
   "cell_type": "code",
   "execution_count": 12,
   "metadata": {},
   "outputs": [],
   "source": [
    "pdList = [vl_con,zik_con,mal_con, vl_inf,zik_inf, mal_inf]  \n",
    "all_samples_log_rearanged = pd.concat(pdList, axis = 1)"
   ]
  },
  {
   "cell_type": "code",
   "execution_count": 32,
   "metadata": {},
   "outputs": [],
   "source": [
    "pdList = [vl_con,zik_con,mal_con, tryps_con, vl_inf,zik_inf, mal_inf]  \n",
    "all_samples_log_rearanged = pd.concat(pdList, axis = 1)"
   ]
  },
  {
   "cell_type": "code",
   "execution_count": 33,
   "metadata": {
    "scrolled": true
   },
   "outputs": [
    {
     "data": {
      "text/plain": [
       "<matplotlib.axes._subplots.AxesSubplot at 0x11e1fe880>"
      ]
     },
     "execution_count": 33,
     "metadata": {},
     "output_type": "execute_result"
    },
    {
     "data": {
      "image/png": "[encoded data removed]",
      "text/plain": [
       "<Figure size 576x360 with 1 Axes>"
      ]
     },
     "metadata": {
      "needs_background": "light"
     },
     "output_type": "display_data"
    }
   ],
   "source": [
    "from sklearn.decomposition import PCA\n",
    "pca_samples = PCA(n_components=3)\n",
    "\n",
    "principalComponents = pca_samples.fit_transform(all_samples_log.transpose())\n",
    "principalComponents_df = pd.DataFrame(data = principalComponents, columns= ['PC1','PC2', 'PC3'])\n",
    "principalComponents_df['condition'] = list(sample_description['Condition'])\n",
    "principalComponents_df['dataset'] = list(sample_description['Dataset'])\n",
    "\n",
    "plt.figure(figsize=(8,5))\n",
    "sns.scatterplot(x=\"PC1\", y=\"PC2\",hue=\"dataset\",\n",
    "    palette=sns.color_palette(\"hls\", 4),\n",
    "    data=principalComponents_df,\n",
    "    legend=\"full\",\n",
    "    alpha=0.8\n",
    ")"
   ]
  },
  {
   "cell_type": "markdown",
   "metadata": {},
   "source": [
    "## 5. Filtering"
   ]
  },
  {
   "cell_type": "code",
   "execution_count": 14,
   "metadata": {},
   "outputs": [
    {
     "name": "stdout",
     "output_type": "stream",
     "text": [
      "Total number of peaksets remaining after filtering: 625\n"
     ]
    }
   ],
   "source": [
    "from metab_utils import get_ids_for_top_percent\n",
    "idzik = get_ids_for_top_percent(Zik, 50)\n",
    "idmal = get_ids_for_top_percent(Mal, 50)\n",
    "idvl = get_ids_for_top_percent(vl, 50)\n",
    "\n",
    "inters = set(idzik) & set(idmal) & set(idvl)\n",
    "print('Total number of peaksets remaining after filtering: {}'.format(len(inters)))"
   ]
  },
  {
   "cell_type": "code",
   "execution_count": 37,
   "metadata": {},
   "outputs": [
    {
     "name": "stdout",
     "output_type": "stream",
     "text": [
      "Total number of peaksets remaining after filtering: 59\n"
     ]
    }
   ],
   "source": [
    "from metab_utils import get_ids_for_top_percent\n",
    "idzik = get_ids_for_top_percent(Zik, 50)\n",
    "idmal = get_ids_for_top_percent(Mal, 50)\n",
    "idvl = get_ids_for_top_percent(vl, 50)\n",
    "idhat = get_ids_for_top_percent(hat, 50)\n",
    "inters = set(idzik) & set(idmal) & set(idvl) & set(idhat)\n",
    "print('Total number of peaksets remaining after filtering: {}'.format(len(inters)))"
   ]
  },
  {
   "cell_type": "code",
   "execution_count": 173,
   "metadata": {},
   "outputs": [
    {
     "name": "stdout",
     "output_type": "stream",
     "text": [
      "Total number of peaksets remaining after filtering: 102\n"
     ]
    }
   ],
   "source": [
    "from metab_utils import get_ids_for_top_percent\n",
    "idzik = get_ids_for_top_percent(Zik, 50)\n",
    "idmal = get_ids_for_top_percent(Mal, 50)\n",
    "idvl = get_ids_for_top_percent(vl, 50)\n",
    "idtryps = get_ids_for_top_percent(tryps, 25)\n",
    "inters = set(idzik) & set(idmal) & set(idvl) & set(idtryps)\n",
    "print('Total number of peaksets remaining after filtering: {}'.format(len(inters)))"
   ]
  },
  {
   "cell_type": "code",
   "execution_count": 167,
   "metadata": {},
   "outputs": [],
   "source": []
  },
  {
   "cell_type": "code",
   "execution_count": 174,
   "metadata": {},
   "outputs": [],
   "source": [
    "from metab_utils import get_ids_for_zero\n",
    "pdzero = pd.concat([Mal, Zik, vl], axis = 1)\n",
    "idpd = get_ids_for_zero(pdzero)\n",
    "trypspecific = set(idpd) & set(idtryps)\n",
    "print('Total number of peaksets specific: {}'.format(len(trypspecific)))"
   ]
  },
  {
   "cell_type": "code",
   "execution_count": 175,
   "metadata": {},
   "outputs": [
    {
     "data": {
      "text/plain": [
       "74"
      ]
     },
     "execution_count": 175,
     "metadata": {},
     "output_type": "execute_result"
    }
   ],
   "source": [
    "len(trypspecific)"
   ]
  },
  {
   "cell_type": "code",
   "execution_count": 170,
   "metadata": {},
   "outputs": [],
   "source": []
  },
  {
   "cell_type": "code",
   "execution_count": 177,
   "metadata": {},
   "outputs": [],
   "source": [
    "trypspecificdata = all_samples_log.loc[list(trypspecific)]"
   ]
  },
  {
   "cell_type": "code",
   "execution_count": 183,
   "metadata": {},
   "outputs": [],
   "source": [
    "all_samples_log_filtered = all_samples_log.loc[list(inters)]\n",
    "\n",
    "filtered_samples_log_description = all_samples_log_filtered.transpose()\n",
    "\n",
    "filtered_samples_log_description['Condition'] = ''\n",
    "filtered_samples_log_description['Dataset'] = ''\n",
    "filtered_samples_log_description['ConditionDataset'] = ''\n",
    "\n",
    "\n",
    "filtered_samples_log_description['Condition'] = sample_description['Condition']\n",
    "filtered_samples_log_description['Dataset'] = sample_description['Dataset']\n",
    "filtered_samples_log_description['ConditionDataset'] = sample_description['ConditionDataset']\n",
    " \n"
   ]
  },
  {
   "cell_type": "code",
   "execution_count": 184,
   "metadata": {},
   "outputs": [
    {
     "data": {
      "text/html": [
       "<div>\n",
       "<style scoped>\n",
       "    .dataframe tbody tr th:only-of-type {\n",
       "        vertical-align: middle;\n",
       "    }\n",
       "\n",
       "    .dataframe tbody tr th {\n",
       "        vertical-align: top;\n",
       "    }\n",
       "\n",
       "    .dataframe thead th {\n",
       "        text-align: right;\n",
       "    }\n",
       "</style>\n",
       "<table border=\"1\" class=\"dataframe\">\n",
       "  <thead>\n",
       "    <tr style=\"text-align: right;\">\n",
       "      <th></th>\n",
       "      <th>KM_10.mzXML</th>\n",
       "      <th>KM_9.mzXML</th>\n",
       "      <th>KM_3.mzXML</th>\n",
       "      <th>KM_4.mzXML</th>\n",
       "      <th>KM_1.mzXML</th>\n",
       "      <th>KM_16.mzXML</th>\n",
       "      <th>KM_13.mzXML</th>\n",
       "      <th>KM_12.mzXML</th>\n",
       "      <th>KM_19.mzXML</th>\n",
       "      <th>KM_18.mzXML</th>\n",
       "      <th>...</th>\n",
       "      <th>C4.mzXML</th>\n",
       "      <th>ZIK9.mzXML</th>\n",
       "      <th>ZIK8.mzXML</th>\n",
       "      <th>ZIK3.mzXML</th>\n",
       "      <th>ZIK2.mzXML</th>\n",
       "      <th>C10.mzXML</th>\n",
       "      <th>NoDrug_1.mzXML</th>\n",
       "      <th>NoDrug_2.mzXML</th>\n",
       "      <th>NoDrug_3.mzXML</th>\n",
       "      <th>NoDrug_4.mzXML</th>\n",
       "    </tr>\n",
       "    <tr>\n",
       "      <th>row ID</th>\n",
       "      <th></th>\n",
       "      <th></th>\n",
       "      <th></th>\n",
       "      <th></th>\n",
       "      <th></th>\n",
       "      <th></th>\n",
       "      <th></th>\n",
       "      <th></th>\n",
       "      <th></th>\n",
       "      <th></th>\n",
       "      <th></th>\n",
       "      <th></th>\n",
       "      <th></th>\n",
       "      <th></th>\n",
       "      <th></th>\n",
       "      <th></th>\n",
       "      <th></th>\n",
       "      <th></th>\n",
       "      <th></th>\n",
       "      <th></th>\n",
       "      <th></th>\n",
       "    </tr>\n",
       "  </thead>\n",
       "  <tbody>\n",
       "    <tr>\n",
       "      <th>1</th>\n",
       "      <td>24.034782</td>\n",
       "      <td>23.717935</td>\n",
       "      <td>24.964773</td>\n",
       "      <td>24.620879</td>\n",
       "      <td>25.288263</td>\n",
       "      <td>23.936180</td>\n",
       "      <td>23.776002</td>\n",
       "      <td>23.816009</td>\n",
       "      <td>23.860667</td>\n",
       "      <td>24.145128</td>\n",
       "      <td>...</td>\n",
       "      <td>25.375658</td>\n",
       "      <td>25.172528</td>\n",
       "      <td>24.554508</td>\n",
       "      <td>24.811572</td>\n",
       "      <td>24.873509</td>\n",
       "      <td>24.852681</td>\n",
       "      <td>24.367840</td>\n",
       "      <td>24.142469</td>\n",
       "      <td>24.555349</td>\n",
       "      <td>24.397575</td>\n",
       "    </tr>\n",
       "    <tr>\n",
       "      <th>3</th>\n",
       "      <td>23.938543</td>\n",
       "      <td>23.991582</td>\n",
       "      <td>24.355475</td>\n",
       "      <td>24.503843</td>\n",
       "      <td>24.896361</td>\n",
       "      <td>24.474136</td>\n",
       "      <td>23.801311</td>\n",
       "      <td>24.026387</td>\n",
       "      <td>24.375719</td>\n",
       "      <td>24.351991</td>\n",
       "      <td>...</td>\n",
       "      <td>25.157297</td>\n",
       "      <td>24.816587</td>\n",
       "      <td>24.760264</td>\n",
       "      <td>24.376564</td>\n",
       "      <td>25.186434</td>\n",
       "      <td>25.137707</td>\n",
       "      <td>22.273237</td>\n",
       "      <td>21.973479</td>\n",
       "      <td>22.493789</td>\n",
       "      <td>22.441195</td>\n",
       "    </tr>\n",
       "    <tr>\n",
       "      <th>4</th>\n",
       "      <td>21.444871</td>\n",
       "      <td>0.000000</td>\n",
       "      <td>21.574131</td>\n",
       "      <td>21.022640</td>\n",
       "      <td>0.000000</td>\n",
       "      <td>20.876129</td>\n",
       "      <td>20.263194</td>\n",
       "      <td>21.316227</td>\n",
       "      <td>20.872196</td>\n",
       "      <td>0.000000</td>\n",
       "      <td>...</td>\n",
       "      <td>22.395409</td>\n",
       "      <td>21.685163</td>\n",
       "      <td>21.943230</td>\n",
       "      <td>22.339715</td>\n",
       "      <td>22.519694</td>\n",
       "      <td>22.478577</td>\n",
       "      <td>23.721938</td>\n",
       "      <td>23.529634</td>\n",
       "      <td>23.517075</td>\n",
       "      <td>23.292513</td>\n",
       "    </tr>\n",
       "    <tr>\n",
       "      <th>6</th>\n",
       "      <td>22.594205</td>\n",
       "      <td>22.007230</td>\n",
       "      <td>22.381499</td>\n",
       "      <td>22.550861</td>\n",
       "      <td>22.621415</td>\n",
       "      <td>22.131022</td>\n",
       "      <td>21.999412</td>\n",
       "      <td>22.651236</td>\n",
       "      <td>23.049294</td>\n",
       "      <td>22.179691</td>\n",
       "      <td>...</td>\n",
       "      <td>23.573510</td>\n",
       "      <td>23.357453</td>\n",
       "      <td>23.755862</td>\n",
       "      <td>23.956140</td>\n",
       "      <td>24.585814</td>\n",
       "      <td>24.186237</td>\n",
       "      <td>23.774062</td>\n",
       "      <td>23.532798</td>\n",
       "      <td>23.823019</td>\n",
       "      <td>23.598339</td>\n",
       "    </tr>\n",
       "    <tr>\n",
       "      <th>19</th>\n",
       "      <td>26.606063</td>\n",
       "      <td>25.846862</td>\n",
       "      <td>26.843050</td>\n",
       "      <td>26.811841</td>\n",
       "      <td>27.487106</td>\n",
       "      <td>26.475081</td>\n",
       "      <td>26.919924</td>\n",
       "      <td>26.752088</td>\n",
       "      <td>26.766646</td>\n",
       "      <td>26.699433</td>\n",
       "      <td>...</td>\n",
       "      <td>27.444240</td>\n",
       "      <td>27.418370</td>\n",
       "      <td>27.417544</td>\n",
       "      <td>27.344832</td>\n",
       "      <td>27.951803</td>\n",
       "      <td>27.995474</td>\n",
       "      <td>25.973028</td>\n",
       "      <td>25.843472</td>\n",
       "      <td>25.727346</td>\n",
       "      <td>25.342772</td>\n",
       "    </tr>\n",
       "    <tr>\n",
       "      <th>...</th>\n",
       "      <td>...</td>\n",
       "      <td>...</td>\n",
       "      <td>...</td>\n",
       "      <td>...</td>\n",
       "      <td>...</td>\n",
       "      <td>...</td>\n",
       "      <td>...</td>\n",
       "      <td>...</td>\n",
       "      <td>...</td>\n",
       "      <td>...</td>\n",
       "      <td>...</td>\n",
       "      <td>...</td>\n",
       "      <td>...</td>\n",
       "      <td>...</td>\n",
       "      <td>...</td>\n",
       "      <td>...</td>\n",
       "      <td>...</td>\n",
       "      <td>...</td>\n",
       "      <td>...</td>\n",
       "      <td>...</td>\n",
       "      <td>...</td>\n",
       "    </tr>\n",
       "    <tr>\n",
       "      <th>311</th>\n",
       "      <td>24.157494</td>\n",
       "      <td>23.906636</td>\n",
       "      <td>22.632377</td>\n",
       "      <td>24.097285</td>\n",
       "      <td>25.361811</td>\n",
       "      <td>25.677861</td>\n",
       "      <td>24.673926</td>\n",
       "      <td>24.711319</td>\n",
       "      <td>23.262302</td>\n",
       "      <td>25.181409</td>\n",
       "      <td>...</td>\n",
       "      <td>25.395786</td>\n",
       "      <td>26.190659</td>\n",
       "      <td>25.545828</td>\n",
       "      <td>25.265867</td>\n",
       "      <td>26.133570</td>\n",
       "      <td>25.540544</td>\n",
       "      <td>22.676861</td>\n",
       "      <td>22.541483</td>\n",
       "      <td>22.600067</td>\n",
       "      <td>22.453035</td>\n",
       "    </tr>\n",
       "    <tr>\n",
       "      <th>312</th>\n",
       "      <td>23.892421</td>\n",
       "      <td>23.548995</td>\n",
       "      <td>0.000000</td>\n",
       "      <td>23.687411</td>\n",
       "      <td>25.047199</td>\n",
       "      <td>24.655989</td>\n",
       "      <td>24.203047</td>\n",
       "      <td>25.023055</td>\n",
       "      <td>22.405377</td>\n",
       "      <td>24.245809</td>\n",
       "      <td>...</td>\n",
       "      <td>25.511047</td>\n",
       "      <td>25.623532</td>\n",
       "      <td>25.171418</td>\n",
       "      <td>25.268540</td>\n",
       "      <td>25.554038</td>\n",
       "      <td>25.655930</td>\n",
       "      <td>22.875209</td>\n",
       "      <td>22.663856</td>\n",
       "      <td>22.778591</td>\n",
       "      <td>22.603492</td>\n",
       "    </tr>\n",
       "    <tr>\n",
       "      <th>313</th>\n",
       "      <td>22.403966</td>\n",
       "      <td>22.638977</td>\n",
       "      <td>0.000000</td>\n",
       "      <td>22.498307</td>\n",
       "      <td>23.863635</td>\n",
       "      <td>23.378055</td>\n",
       "      <td>22.477345</td>\n",
       "      <td>0.000000</td>\n",
       "      <td>0.000000</td>\n",
       "      <td>0.000000</td>\n",
       "      <td>...</td>\n",
       "      <td>24.324350</td>\n",
       "      <td>24.323075</td>\n",
       "      <td>24.096685</td>\n",
       "      <td>24.286076</td>\n",
       "      <td>24.193796</td>\n",
       "      <td>24.481774</td>\n",
       "      <td>21.834159</td>\n",
       "      <td>21.683410</td>\n",
       "      <td>21.811913</td>\n",
       "      <td>21.632333</td>\n",
       "    </tr>\n",
       "    <tr>\n",
       "      <th>375</th>\n",
       "      <td>24.506674</td>\n",
       "      <td>26.399999</td>\n",
       "      <td>24.346183</td>\n",
       "      <td>24.848749</td>\n",
       "      <td>26.698283</td>\n",
       "      <td>26.450304</td>\n",
       "      <td>25.268831</td>\n",
       "      <td>25.652269</td>\n",
       "      <td>22.924196</td>\n",
       "      <td>25.687823</td>\n",
       "      <td>...</td>\n",
       "      <td>25.979193</td>\n",
       "      <td>25.845322</td>\n",
       "      <td>25.406733</td>\n",
       "      <td>25.110306</td>\n",
       "      <td>26.013658</td>\n",
       "      <td>25.536781</td>\n",
       "      <td>20.736049</td>\n",
       "      <td>20.877857</td>\n",
       "      <td>20.554352</td>\n",
       "      <td>0.000000</td>\n",
       "    </tr>\n",
       "    <tr>\n",
       "      <th>380</th>\n",
       "      <td>0.000000</td>\n",
       "      <td>22.317379</td>\n",
       "      <td>21.004943</td>\n",
       "      <td>23.120928</td>\n",
       "      <td>0.000000</td>\n",
       "      <td>23.535110</td>\n",
       "      <td>22.187353</td>\n",
       "      <td>22.223722</td>\n",
       "      <td>0.000000</td>\n",
       "      <td>23.395699</td>\n",
       "      <td>...</td>\n",
       "      <td>23.472024</td>\n",
       "      <td>24.849820</td>\n",
       "      <td>24.192327</td>\n",
       "      <td>23.851354</td>\n",
       "      <td>25.257717</td>\n",
       "      <td>24.287004</td>\n",
       "      <td>22.933865</td>\n",
       "      <td>22.787190</td>\n",
       "      <td>22.927666</td>\n",
       "      <td>0.000000</td>\n",
       "    </tr>\n",
       "  </tbody>\n",
       "</table>\n",
       "<p>102 rows × 73 columns</p>\n",
       "</div>"
      ],
      "text/plain": [
       "        KM_10.mzXML  KM_9.mzXML  KM_3.mzXML  KM_4.mzXML  KM_1.mzXML  \\\n",
       "row ID                                                                \n",
       "1         24.034782   23.717935   24.964773   24.620879   25.288263   \n",
       "3         23.938543   23.991582   24.355475   24.503843   24.896361   \n",
       "4         21.444871    0.000000   21.574131   21.022640    0.000000   \n",
       "6         22.594205   22.007230   22.381499   22.550861   22.621415   \n",
       "19        26.606063   25.846862   26.843050   26.811841   27.487106   \n",
       "...             ...         ...         ...         ...         ...   \n",
       "311       24.157494   23.906636   22.632377   24.097285   25.361811   \n",
       "312       23.892421   23.548995    0.000000   23.687411   25.047199   \n",
       "313       22.403966   22.638977    0.000000   22.498307   23.863635   \n",
       "375       24.506674   26.399999   24.346183   24.848749   26.698283   \n",
       "380        0.000000   22.317379   21.004943   23.120928    0.000000   \n",
       "\n",
       "        KM_16.mzXML  KM_13.mzXML  KM_12.mzXML  KM_19.mzXML  KM_18.mzXML  ...  \\\n",
       "row ID                                                                   ...   \n",
       "1         23.936180    23.776002    23.816009    23.860667    24.145128  ...   \n",
       "3         24.474136    23.801311    24.026387    24.375719    24.351991  ...   \n",
       "4         20.876129    20.263194    21.316227    20.872196     0.000000  ...   \n",
       "6         22.131022    21.999412    22.651236    23.049294    22.179691  ...   \n",
       "19        26.475081    26.919924    26.752088    26.766646    26.699433  ...   \n",
       "...             ...          ...          ...          ...          ...  ...   \n",
       "311       25.677861    24.673926    24.711319    23.262302    25.181409  ...   \n",
       "312       24.655989    24.203047    25.023055    22.405377    24.245809  ...   \n",
       "313       23.378055    22.477345     0.000000     0.000000     0.000000  ...   \n",
       "375       26.450304    25.268831    25.652269    22.924196    25.687823  ...   \n",
       "380       23.535110    22.187353    22.223722     0.000000    23.395699  ...   \n",
       "\n",
       "         C4.mzXML  ZIK9.mzXML  ZIK8.mzXML  ZIK3.mzXML  ZIK2.mzXML  C10.mzXML  \\\n",
       "row ID                                                                         \n",
       "1       25.375658   25.172528   24.554508   24.811572   24.873509  24.852681   \n",
       "3       25.157297   24.816587   24.760264   24.376564   25.186434  25.137707   \n",
       "4       22.395409   21.685163   21.943230   22.339715   22.519694  22.478577   \n",
       "6       23.573510   23.357453   23.755862   23.956140   24.585814  24.186237   \n",
       "19      27.444240   27.418370   27.417544   27.344832   27.951803  27.995474   \n",
       "...           ...         ...         ...         ...         ...        ...   \n",
       "311     25.395786   26.190659   25.545828   25.265867   26.133570  25.540544   \n",
       "312     25.511047   25.623532   25.171418   25.268540   25.554038  25.655930   \n",
       "313     24.324350   24.323075   24.096685   24.286076   24.193796  24.481774   \n",
       "375     25.979193   25.845322   25.406733   25.110306   26.013658  25.536781   \n",
       "380     23.472024   24.849820   24.192327   23.851354   25.257717  24.287004   \n",
       "\n",
       "        NoDrug_1.mzXML  NoDrug_2.mzXML  NoDrug_3.mzXML  NoDrug_4.mzXML  \n",
       "row ID                                                                  \n",
       "1            24.367840       24.142469       24.555349       24.397575  \n",
       "3            22.273237       21.973479       22.493789       22.441195  \n",
       "4            23.721938       23.529634       23.517075       23.292513  \n",
       "6            23.774062       23.532798       23.823019       23.598339  \n",
       "19           25.973028       25.843472       25.727346       25.342772  \n",
       "...                ...             ...             ...             ...  \n",
       "311          22.676861       22.541483       22.600067       22.453035  \n",
       "312          22.875209       22.663856       22.778591       22.603492  \n",
       "313          21.834159       21.683410       21.811913       21.632333  \n",
       "375          20.736049       20.877857       20.554352        0.000000  \n",
       "380          22.933865       22.787190       22.927666        0.000000  \n",
       "\n",
       "[102 rows x 73 columns]"
      ]
     },
     "execution_count": 184,
     "metadata": {},
     "output_type": "execute_result"
    }
   ],
   "source": [
    "all_samples_log_filtered"
   ]
  },
  {
   "cell_type": "code",
   "execution_count": 47,
   "metadata": {},
   "outputs": [],
   "source": [
    "filtered_samples_log_description.to_csv(osp+'/positive_mode/filtered_samples_including_tryps_description.csv', \n",
    "                                        header=True, index=True, sep=',', mode='w')"
   ]
  },
  {
   "cell_type": "code",
   "execution_count": 48,
   "metadata": {},
   "outputs": [],
   "source": [
    "all_samples_filtered = all_samples.loc[list(inters)]\n",
    "all_samples_filtered.to_csv(osp+'positive_mode/samples_filtered_including_tryps.csv')"
   ]
  },
  {
   "cell_type": "code",
   "execution_count": 41,
   "metadata": {},
   "outputs": [
    {
     "data": {
      "text/plain": [
       "<matplotlib.axes._subplots.AxesSubplot at 0x1272efb80>"
      ]
     },
     "execution_count": 41,
     "metadata": {},
     "output_type": "execute_result"
    },
    {
     "data": {
      "image/png": "[encoded data removed]",
      "text/plain": [
       "<Figure size 432x288 with 1 Axes>"
      ]
     },
     "metadata": {
      "needs_background": "light"
     },
     "output_type": "display_data"
    }
   ],
   "source": [
    "all_samples_log_filtered.plot.density(legend=False)"
   ]
  },
  {
   "cell_type": "code",
   "execution_count": 38,
   "metadata": {},
   "outputs": [
    {
     "data": {
      "text/plain": [
       "<matplotlib.axes._subplots.AxesSubplot at 0x11d92e820>"
      ]
     },
     "execution_count": 38,
     "metadata": {},
     "output_type": "execute_result"
    },
    {
     "data": {
      "image/png": "[encoded data removed]",
      "text/plain": [
       "<Figure size 576x360 with 1 Axes>"
      ]
     },
     "metadata": {
      "needs_background": "light"
     },
     "output_type": "display_data"
    }
   ],
   "source": [
    "pca_samples = PCA(n_components=3)\n",
    "\n",
    "principalComponents = pca_samples.fit_transform(all_samples_log_filtered.transpose())\n",
    "principalComponents_df = pd.DataFrame(data = principalComponents, columns= ['PC1','PC2', 'PC3'])\n",
    "principalComponents_df['condition'] = list(sample_description['Condition'])\n",
    "principalComponents_df['dataset'] = list(sample_description['Dataset'])\n",
    "\n",
    "plt.figure(figsize=(8,5))\n",
    "sns.scatterplot(x=\"PC1\", y=\"PC2\",hue=\"condition\",\n",
    "    palette=sns.color_palette(\"hls\", 2),\n",
    "    data=principalComponents_df,\n",
    "    legend=\"full\",\n",
    "    alpha=0.8\n",
    ")"
   ]
  },
  {
   "cell_type": "code",
   "execution_count": null,
   "metadata": {},
   "outputs": [],
   "source": []
  },
  {
   "cell_type": "code",
   "execution_count": 102,
   "metadata": {},
   "outputs": [],
   "source": []
  },
  {
   "cell_type": "markdown",
   "metadata": {},
   "source": [
    "## 6. Imputing missing values with KNN (skip this step now)"
   ]
  },
  {
   "cell_type": "code",
   "execution_count": 65,
   "metadata": {},
   "outputs": [],
   "source": [
    "all_samples_log_filtered_na = all_samples_log_filtered.copy()\n",
    "all_samples_log_filtered_na.replace(0, np.nan, inplace = True)"
   ]
  },
  {
   "cell_type": "code",
   "execution_count": 66,
   "metadata": {},
   "outputs": [],
   "source": [
    "sys.path.append('..')\n",
    "from metab_utils import impute_knn\n"
   ]
  },
  {
   "cell_type": "code",
   "execution_count": 67,
   "metadata": {},
   "outputs": [],
   "source": [
    "sample_values = all_samples_log_filtered_na"
   ]
  },
  {
   "cell_type": "code",
   "execution_count": 69,
   "metadata": {},
   "outputs": [
    {
     "name": "stdout",
     "output_type": "stream",
     "text": [
      "Imputing row 1/59 with 0 missing, elapsed time: 0.005\n",
      "Imputing row 1/59 with 0 missing, elapsed time: 0.003\n",
      "Imputing row 1/59 with 0 missing, elapsed time: 0.002\n",
      "Imputing row 1/59 with 8 missing, elapsed time: 0.003\n",
      "Imputing row 1/59 with 0 missing, elapsed time: 0.003\n",
      "Imputing row 1/59 with 0 missing, elapsed time: 0.003\n"
     ]
    }
   ],
   "source": [
    "zik_con_filled = impute_knn(sample_values, list(zik_con.columns))\n",
    "zik_inf_filled = impute_knn(sample_values, list(zik_inf.columns))\n",
    "vl_con_filled = impute_knn(sample_values, list(vl_con.columns))\n",
    "vl_inf_filled = impute_knn(sample_values, list(vl_inf.columns))\n",
    "mal_con_filled = impute_knn(sample_values, list(mal_con.columns))\n",
    "mal_inf_filled = impute_knn(sample_values, list(mal_inf.columns))\n"
   ]
  },
  {
   "cell_type": "code",
   "execution_count": 70,
   "metadata": {},
   "outputs": [
    {
     "name": "stdout",
     "output_type": "stream",
     "text": [
      "Imputing row 1/59 with 0 missing, elapsed time: 0.004\n",
      "Imputing row 1/59 with 0 missing, elapsed time: 0.005\n"
     ]
    }
   ],
   "source": [
    "hat_con_filled = impute_knn(sample_values, list(hat_con.columns))\n",
    "hat_inf_filled = impute_knn(sample_values, list(hat_inf.columns))"
   ]
  },
  {
   "cell_type": "code",
   "execution_count": 71,
   "metadata": {},
   "outputs": [],
   "source": [
    "pdList = [vl_inf_filled,vl_con_filled,zik_inf_filled, zik_con_filled, mal_inf_filled,mal_con_filled, hat_con_filled, hat_inf_filled]  \n",
    "all_samples_log_filtered_filled = pd.concat(pdList, axis = 1)\n",
    "all_samples_log_filtered_filled = all_samples_log_filtered_filled[list(all_samples_log.columns)]\n"
   ]
  },
  {
   "cell_type": "code",
   "execution_count": 72,
   "metadata": {},
   "outputs": [],
   "source": [
    "filtered_samples_log_description = all_samples_log_filtered_filled.transpose()\n",
    "\n",
    "filtered_samples_log_description['Condition'] = ''\n",
    "filtered_samples_log_description['Dataset'] = ''\n",
    "filtered_samples_log_description['ConditionDataset'] = ''\n",
    "\n",
    "\n",
    "filtered_samples_log_description['Condition'] = sample_description['Condition']\n",
    "filtered_samples_log_description['Dataset'] = sample_description['Dataset']\n",
    "filtered_samples_log_description['ConditionDataset'] = sample_description['ConditionDataset']\n",
    " \n",
    "filtered_samples_log_description.to_csv(osp+'/positive_mode/samples_including_hat/filtered_samples_including_hat_filled_description.csv', header=True, index=True, sep=',', mode='w')"
   ]
  },
  {
   "cell_type": "code",
   "execution_count": null,
   "metadata": {},
   "outputs": [],
   "source": []
  },
  {
   "cell_type": "markdown",
   "metadata": {},
   "source": [
    "## 7. Limma analysis in R"
   ]
  },
  {
   "cell_type": "code",
   "execution_count": 51,
   "metadata": {},
   "outputs": [],
   "source": [
    "output_dir = osp+'positive_mode/samples_including_tryps/'\n",
    "sample_description_file = output_dir + 'sample_description_including_tryps.csv'\n",
    "all_samples_log_filtered_file = output_dir + 'samples_filtered_including_tryps.csv'\n",
    "\n",
    "\n",
    "sample_description.to_csv(sample_description_file, header=True, index=True, sep=',', mode='w')\n",
    "all_samples_log_filtered.to_csv(all_samples_log_filtered_file, header=True, index=True, sep=',', mode='w')"
   ]
  },
  {
   "cell_type": "code",
   "execution_count": 52,
   "metadata": {},
   "outputs": [],
   "source": [
    "%load_ext rpy2.ipython"
   ]
  },
  {
   "cell_type": "code",
   "execution_count": 53,
   "metadata": {
    "collapsed": true
   },
   "outputs": [
    {
     "name": "stderr",
     "output_type": "stream",
     "text": [
      "R[write to console]: Loading required package: BiocGenerics\n",
      "\n",
      "R[write to console]: Loading required package: parallel\n",
      "\n",
      "R[write to console]: \n",
      "Attaching package: ‘BiocGenerics’\n",
      "\n",
      "\n",
      "R[write to console]: The following objects are masked from ‘package:parallel’:\n",
      "\n",
      "    clusterApply, clusterApplyLB, clusterCall, clusterEvalQ,\n",
      "    clusterExport, clusterMap, parApply, parCapply, parLapply,\n",
      "    parLapplyLB, parRapply, parSapply, parSapplyLB\n",
      "\n",
      "\n",
      "R[write to console]: The following object is masked from ‘package:limma’:\n",
      "\n",
      "    plotMA\n",
      "\n",
      "\n",
      "R[write to console]: The following objects are masked from ‘package:stats’:\n",
      "\n",
      "    IQR, mad, sd, var, xtabs\n",
      "\n",
      "\n",
      "R[write to console]: The following objects are masked from ‘package:base’:\n",
      "\n",
      "    anyDuplicated, append, as.data.frame, basename, cbind, colnames,\n",
      "    dirname, do.call, duplicated, eval, evalq, Filter, Find, get, grep,\n",
      "    grepl, intersect, is.unsorted, lapply, Map, mapply, match, mget,\n",
      "    order, paste, pmax, pmax.int, pmin, pmin.int, Position, rank,\n",
      "    rbind, Reduce, rownames, sapply, setdiff, sort, table, tapply,\n",
      "    union, unique, unsplit, which, which.max, which.min\n",
      "\n",
      "\n",
      "R[write to console]: Welcome to Bioconductor\n",
      "\n",
      "    Vignettes contain introductory material; view with\n",
      "    'browseVignettes()'. To cite Bioconductor, see\n",
      "    'citation(\"Biobase\")', and for packages 'citation(\"pkgname\")'.\n",
      "\n",
      "\n"
     ]
    }
   ],
   "source": [
    "%%R\n",
    "\n",
    "library(limma)\n",
    "library(Biobase)"
   ]
  },
  {
   "cell_type": "code",
   "execution_count": 54,
   "metadata": {},
   "outputs": [],
   "source": [
    "file_to_be_analysed = all_samples_log_filtered_file"
   ]
  },
  {
   "cell_type": "code",
   "execution_count": null,
   "metadata": {},
   "outputs": [],
   "source": []
  },
  {
   "cell_type": "code",
   "execution_count": 55,
   "metadata": {},
   "outputs": [],
   "source": [
    "%%R -i file_to_be_analysed -i sample_description_file\n",
    "\n",
    "\n",
    "eset = readExpressionSet(file_to_be_analysed, sample_description_file, \n",
    "                         exprsArgs=list(sep=\",\", header=TRUE,quote=\"\",row.names = 1),\n",
    "                         phenoDataArgs=list(sep=\",\", header=TRUE,quote=\"\"))\n",
    "\n",
    "edata = exprs(eset)\n",
    "pheno = pData(eset)\n",
    "\n",
    "#creating the levels for the Condition and Dataset in pData\n",
    "levels(pheno$Condition) = c('control','infected')\n",
    "levels(pheno$Dataset)  = c('Malaria', 'VL', 'Zika', 'Tryps')\n",
    "pData(eset) = pheno"
   ]
  },
  {
   "cell_type": "code",
   "execution_count": 53,
   "metadata": {
    "collapsed": true
   },
   "outputs": [
    {
     "data": {
      "image/png": "[encoded data removed]"
     },
     "metadata": {},
     "output_type": "display_data"
    }
   ],
   "source": [
    "%%R -o edata2\n",
    "\n",
    "eset.dataset = factor(as.character(pData(eset)$Dataset))\n",
    "eset.condition = factor(as.character(pData(eset)$Condition))\n",
    "\n",
    "batch = pheno$Dataset\n",
    "edata2 = removeBatchEffect(edata, batch, design = model.matrix(~eset.condition))\n",
    "par(mfrow=c(1,2), cex.axis=0.5, las=2)\n",
    "boxplot(as.data.frame(edata),main=\"Original\")\n",
    "boxplot(as.data.frame(edata2),main=\"Batch corrected\")\n",
    "write.table(edata2, file = \"/Users/anamaria/Desktop/batchremoved.csv\", sep = \",\", quote = FALSE)"
   ]
  },
  {
   "cell_type": "code",
   "execution_count": 56,
   "metadata": {},
   "outputs": [],
   "source": [
    "limma_table_file = output_dir + 'limma_independent_toptable_hat.csv'"
   ]
  },
  {
   "cell_type": "code",
   "execution_count": 57,
   "metadata": {},
   "outputs": [],
   "source": [
    "%%R -i limma_table_file\n",
    "\n",
    "eset.dataset = factor(as.character(pData(eset)$Dataset))\n",
    "eset.condition = factor(as.character(pData(eset)$Condition))\n",
    "\n",
    "eset.design = model.matrix(~ 0 + eset.condition + eset.dataset)\n",
    "eset.fit = lmFit(eset, eset.design)\n",
    "\n",
    "\n",
    "#define the contrasts you want to make, estimate the coefficients \n",
    "#and std errs for these contrasts, eBayes moderation of std errs.\n",
    "contr = makeContrasts(eset.conditioninfected - eset.conditioncontrol, levels=colnames(coef(eset.fit)))\n",
    "eset.fit = contrasts.fit(eset.fit, contr)\n",
    "eset.fit = eBayes(eset.fit)\n",
    "\n",
    "#Extract results per metabolite\n",
    "top.table = topTable(eset.fit, sort.by=\"p\", n=Inf)\n",
    "write.csv(top.table, file = limma_table_file, sep = \",\", quote = FALSE)"
   ]
  },
  {
   "cell_type": "code",
   "execution_count": 58,
   "metadata": {},
   "outputs": [],
   "source": [
    "limma_table = pd.read_csv(limma_table_file, sep=',')\n",
    "limma_table.index = limma_table[limma_table.columns[0]]\n",
    "del limma_table[(limma_table.columns[0])]"
   ]
  },
  {
   "cell_type": "code",
   "execution_count": 59,
   "metadata": {},
   "outputs": [
    {
     "name": "stdout",
     "output_type": "stream",
     "text": [
      "The number of significantly different metabolites is: 58\n"
     ]
    }
   ],
   "source": [
    "print(\"The number of significantly different metabolites is:\",len(limma_table[limma_table['adj.P.Val'] < 0.05]))"
   ]
  },
  {
   "cell_type": "code",
   "execution_count": 60,
   "metadata": {},
   "outputs": [],
   "source": [
    "#Prepare .csv for mummichog\n",
    "data = feature_description.loc[limma_table.index]\n",
    "data['adj-p'] = limma_table['adj.P.Val']\n",
    "data['t-val'] = limma_table['t']\n",
    "data['logFC'] = limma_table['logFC']\n",
    "data['custom_id'] = list(data.index)\n",
    "data.to_csv(output_dir+'limma_independent_toptable_features_mm.csv', header=True, index=None, sep='\\t', mode='w')\n",
    "#needs to be with \\t instead of , , for mummichog to work"
   ]
  },
  {
   "cell_type": "code",
   "execution_count": 61,
   "metadata": {
    "scrolled": true
   },
   "outputs": [
    {
     "data": {
      "text/html": [
       "<div>\n",
       "<style scoped>\n",
       "    .dataframe tbody tr th:only-of-type {\n",
       "        vertical-align: middle;\n",
       "    }\n",
       "\n",
       "    .dataframe tbody tr th {\n",
       "        vertical-align: top;\n",
       "    }\n",
       "\n",
       "    .dataframe thead th {\n",
       "        text-align: right;\n",
       "    }\n",
       "</style>\n",
       "<table border=\"1\" class=\"dataframe\">\n",
       "  <thead>\n",
       "    <tr style=\"text-align: right;\">\n",
       "      <th></th>\n",
       "      <th>row m/z</th>\n",
       "      <th>row retention time</th>\n",
       "      <th>adj-p</th>\n",
       "      <th>t-val</th>\n",
       "      <th>logFC</th>\n",
       "      <th>custom_id</th>\n",
       "    </tr>\n",
       "    <tr>\n",
       "      <th>Unnamed: 0</th>\n",
       "      <th></th>\n",
       "      <th></th>\n",
       "      <th></th>\n",
       "      <th></th>\n",
       "      <th></th>\n",
       "      <th></th>\n",
       "    </tr>\n",
       "  </thead>\n",
       "  <tbody>\n",
       "    <tr>\n",
       "      <th>87</th>\n",
       "      <td>147.076406</td>\n",
       "      <td>11.907666</td>\n",
       "      <td>2.301196e-08</td>\n",
       "      <td>-7.329720</td>\n",
       "      <td>-2.630346</td>\n",
       "      <td>87</td>\n",
       "    </tr>\n",
       "    <tr>\n",
       "      <th>303</th>\n",
       "      <td>810.600031</td>\n",
       "      <td>3.180253</td>\n",
       "      <td>2.301196e-08</td>\n",
       "      <td>-7.160625</td>\n",
       "      <td>-1.781225</td>\n",
       "      <td>303</td>\n",
       "    </tr>\n",
       "    <tr>\n",
       "      <th>313</th>\n",
       "      <td>837.618283</td>\n",
       "      <td>3.163853</td>\n",
       "      <td>2.301196e-08</td>\n",
       "      <td>-7.139607</td>\n",
       "      <td>-12.542240</td>\n",
       "      <td>313</td>\n",
       "    </tr>\n",
       "    <tr>\n",
       "      <th>282</th>\n",
       "      <td>782.568755</td>\n",
       "      <td>3.213056</td>\n",
       "      <td>2.301196e-08</td>\n",
       "      <td>-7.079865</td>\n",
       "      <td>-1.794501</td>\n",
       "      <td>282</td>\n",
       "    </tr>\n",
       "    <tr>\n",
       "      <th>284</th>\n",
       "      <td>784.584095</td>\n",
       "      <td>3.204923</td>\n",
       "      <td>3.158431e-08</td>\n",
       "      <td>-6.950431</td>\n",
       "      <td>-1.449778</td>\n",
       "      <td>284</td>\n",
       "    </tr>\n",
       "    <tr>\n",
       "      <th>...</th>\n",
       "      <td>...</td>\n",
       "      <td>...</td>\n",
       "      <td>...</td>\n",
       "      <td>...</td>\n",
       "      <td>...</td>\n",
       "      <td>...</td>\n",
       "    </tr>\n",
       "    <tr>\n",
       "      <th>3</th>\n",
       "      <td>72.080810</td>\n",
       "      <td>10.416409</td>\n",
       "      <td>8.718396e-01</td>\n",
       "      <td>-0.204851</td>\n",
       "      <td>-0.018006</td>\n",
       "      <td>3</td>\n",
       "    </tr>\n",
       "    <tr>\n",
       "      <th>79</th>\n",
       "      <td>137.045838</td>\n",
       "      <td>9.052671</td>\n",
       "      <td>8.718396e-01</td>\n",
       "      <td>0.196760</td>\n",
       "      <td>0.193715</td>\n",
       "      <td>79</td>\n",
       "    </tr>\n",
       "    <tr>\n",
       "      <th>158</th>\n",
       "      <td>239.138968</td>\n",
       "      <td>4.381490</td>\n",
       "      <td>8.985032e-01</td>\n",
       "      <td>-0.145549</td>\n",
       "      <td>-0.014266</td>\n",
       "      <td>158</td>\n",
       "    </tr>\n",
       "    <tr>\n",
       "      <th>61</th>\n",
       "      <td>130.086309</td>\n",
       "      <td>6.711512</td>\n",
       "      <td>8.985032e-01</td>\n",
       "      <td>-0.139904</td>\n",
       "      <td>-0.125086</td>\n",
       "      <td>61</td>\n",
       "    </tr>\n",
       "    <tr>\n",
       "      <th>43</th>\n",
       "      <td>118.086248</td>\n",
       "      <td>9.617164</td>\n",
       "      <td>9.778055e-01</td>\n",
       "      <td>-0.027921</td>\n",
       "      <td>-0.035689</td>\n",
       "      <td>43</td>\n",
       "    </tr>\n",
       "  </tbody>\n",
       "</table>\n",
       "<p>96 rows × 6 columns</p>\n",
       "</div>"
      ],
      "text/plain": [
       "               row m/z  row retention time         adj-p     t-val      logFC  \\\n",
       "Unnamed: 0                                                                      \n",
       "87          147.076406           11.907666  2.301196e-08 -7.329720  -2.630346   \n",
       "303         810.600031            3.180253  2.301196e-08 -7.160625  -1.781225   \n",
       "313         837.618283            3.163853  2.301196e-08 -7.139607 -12.542240   \n",
       "282         782.568755            3.213056  2.301196e-08 -7.079865  -1.794501   \n",
       "284         784.584095            3.204923  3.158431e-08 -6.950431  -1.449778   \n",
       "...                ...                 ...           ...       ...        ...   \n",
       "3            72.080810           10.416409  8.718396e-01 -0.204851  -0.018006   \n",
       "79          137.045838            9.052671  8.718396e-01  0.196760   0.193715   \n",
       "158         239.138968            4.381490  8.985032e-01 -0.145549  -0.014266   \n",
       "61          130.086309            6.711512  8.985032e-01 -0.139904  -0.125086   \n",
       "43          118.086248            9.617164  9.778055e-01 -0.027921  -0.035689   \n",
       "\n",
       "            custom_id  \n",
       "Unnamed: 0             \n",
       "87                 87  \n",
       "303               303  \n",
       "313               313  \n",
       "282               282  \n",
       "284               284  \n",
       "...               ...  \n",
       "3                   3  \n",
       "79                 79  \n",
       "158               158  \n",
       "61                 61  \n",
       "43                 43  \n",
       "\n",
       "[96 rows x 6 columns]"
      ]
     },
     "execution_count": 61,
     "metadata": {},
     "output_type": "execute_result"
    }
   ],
   "source": [
    "data"
   ]
  },
  {
   "cell_type": "code",
   "execution_count": 62,
   "metadata": {},
   "outputs": [
    {
     "data": {
      "text/plain": [
       "Text(0.5, 0, 'm/z (Da)')"
      ]
     },
     "execution_count": 62,
     "metadata": {},
     "output_type": "execute_result"
    },
    {
     "data": {
      "image/png": "[encoded data removed]",
      "text/plain": [
       "<Figure size 432x288 with 1 Axes>"
      ]
     },
     "metadata": {
      "needs_background": "light"
     },
     "output_type": "display_data"
    }
   ],
   "source": [
    "plt.hist(data['row m/z'], color = '#ff6680')\n",
    "plt.xlabel('m/z (Da)')"
   ]
  },
  {
   "cell_type": "code",
   "execution_count": 61,
   "metadata": {},
   "outputs": [
    {
     "data": {
      "text/plain": [
       "Text(0.5, 0, 'RT (min)')"
      ]
     },
     "execution_count": 61,
     "metadata": {},
     "output_type": "execute_result"
    },
    {
     "data": {
      "image/png": "[encoded data removed]",
      "text/plain": [
       "<Figure size 432x288 with 1 Axes>"
      ]
     },
     "metadata": {
      "needs_background": "light"
     },
     "output_type": "display_data"
    }
   ],
   "source": [
    "plt.hist(data['row retention time'], color = '#66ccff')\n",
    "plt.xlabel('RT (min)')"
   ]
  },
  {
   "cell_type": "code",
   "execution_count": 185,
   "metadata": {},
   "outputs": [],
   "source": [
    "#Prepare .csv for mummichog\n",
    "data = feature_description.loc[all_samples_log_filtered.index]\n",
    "\n",
    "data['custom_id'] = list(data.index)\n",
    "#data.to_csv(output_dir+'limma_independent_toptable_features_mm.csv', header=True, index=None, sep='\\t', mode='w')\n",
    "#needs to be with \\t instead of , , for mummichog to work"
   ]
  },
  {
   "cell_type": "markdown",
   "metadata": {},
   "source": [
    "## 8. Create peakinfolist made up of peakinfo objects"
   ]
  },
  {
   "cell_type": "code",
   "execution_count": 63,
   "metadata": {},
   "outputs": [],
   "source": [
    "sys.path.append('..')\n",
    "import peakinfo\n",
    "peakinfolist=[]\n",
    "for row_id, row in data.iterrows():\n",
    "    peak = peakinfo.PeakInfo(row['custom_id'], row['row m/z'], row['row retention time'], 'p')\n",
    "    peak.add_pval(row['adj-p'])\n",
    "    peak.add_tval(row['t-val'])\n",
    "    peak.add_logfc(row['logFC'])\n",
    "    peakinfolist.append(peak)"
   ]
  },
  {
   "cell_type": "code",
   "execution_count": 189,
   "metadata": {},
   "outputs": [],
   "source": [
    "sys.path.append('..')\n",
    "import peakinfo\n",
    "peakinfolist=[]\n",
    "for row_id, row in data.iterrows():\n",
    "    peak = peakinfo.PeakInfo(row['custom_id'], row['row m/z'], row['row retention time'], 'p')\n",
    "    peakinfolist.append(peak)"
   ]
  },
  {
   "cell_type": "code",
   "execution_count": 190,
   "metadata": {},
   "outputs": [],
   "source": [
    "import pickle\n",
    "with open(osp+'positive_mode/samples_including_tryps/peakinfolist_tryps.dict', 'wb') as handle:\n",
    "    pickle.dump(peakinfolist, handle)"
   ]
  },
  {
   "cell_type": "code",
   "execution_count": null,
   "metadata": {},
   "outputs": [],
   "source": []
  },
  {
   "cell_type": "markdown",
   "metadata": {},
   "source": [
    "### RT grouping"
   ]
  },
  {
   "cell_type": "code",
   "execution_count": 256,
   "metadata": {},
   "outputs": [],
   "source": []
  },
  {
   "cell_type": "code",
   "execution_count": 260,
   "metadata": {},
   "outputs": [],
   "source": []
  },
  {
   "cell_type": "code",
   "execution_count": 261,
   "metadata": {},
   "outputs": [],
   "source": []
  },
  {
   "cell_type": "code",
   "execution_count": 262,
   "metadata": {},
   "outputs": [],
   "source": []
  },
  {
   "cell_type": "code",
   "execution_count": null,
   "metadata": {},
   "outputs": [],
   "source": []
  },
  {
   "cell_type": "markdown",
   "metadata": {},
   "source": [
    "## 9. Covid data"
   ]
  },
  {
   "cell_type": "code",
   "execution_count": 161,
   "metadata": {},
   "outputs": [],
   "source": [
    "data = pd.read_csv(osp+'covid19_data/compound_data.csv')\n",
    "sample_description = pd.read_csv(osp+'covid19_data/compound_design.csv', index_col = 0)\n",
    "\n",
    "data.index = np.array(data['Identifier'])\n",
    "del data['Identifier']\n",
    "data.fillna(0,inplace=True)\n",
    "data_log = np.log2(data+1)"
   ]
  },
  {
   "cell_type": "code",
   "execution_count": 162,
   "metadata": {},
   "outputs": [],
   "source": []
  },
  {
   "cell_type": "code",
   "execution_count": 164,
   "metadata": {},
   "outputs": [],
   "source": []
  },
  {
   "cell_type": "code",
   "execution_count": 165,
   "metadata": {},
   "outputs": [],
   "source": []
  },
  {
   "cell_type": "code",
   "execution_count": 166,
   "metadata": {},
   "outputs": [],
   "source": [
    "output_dir = osp+'/covid19_data/'\n",
    "sample_description_file = output_dir + 'sample_description.csv'\n",
    "data_log_file = output_dir + 'data_log.csv'\n",
    "\n",
    "\n",
    "sample_description.to_csv(sample_description_file, header=True, index=True, sep=',', mode='w')\n",
    "data_log.to_csv(all_samples_log_filtered_file, header=True, index=True, sep=',', mode='w')"
   ]
  },
  {
   "cell_type": "code",
   "execution_count": 167,
   "metadata": {},
   "outputs": [],
   "source": [
    "%%R\n",
    "\n",
    "library(limma)\n",
    "library(Biobase)"
   ]
  },
  {
   "cell_type": "code",
   "execution_count": null,
   "metadata": {},
   "outputs": [],
   "source": [
    "%%R -i data_log_file -i sample_description_file\n",
    "\n",
    "\n",
    "eset = readExpressionSet(file_to_be_analysed, sample_description_file, \n",
    "                         exprsArgs=list(sep=\",\", header=TRUE,quote=\"\"),\n",
    "                         phenoDataArgs=list(sep=\",\", header=TRUE,quote=\"\"))\n",
    "\n",
    "edata = exprs(eset)\n",
    "pheno = pData(eset)\n",
    "\n",
    "#creating the levels for the Condition and Dataset in pData\n",
    "levels(pheno$group) = c('healthy','nonCOVID19', 'nonsevere', 'severe')\n",
    "\n",
    "pData(eset) = pheno"
   ]
  },
  {
   "cell_type": "code",
   "execution_count": null,
   "metadata": {},
   "outputs": [],
   "source": [
    "limma_table_file = osp+'/covid19_data/limma_independent_healthy_severe.csv'"
   ]
  },
  {
   "cell_type": "code",
   "execution_count": 145,
   "metadata": {},
   "outputs": [],
   "source": [
    "%%R -i limma_table_file\n",
    "\n",
    "eset.group = factor(as.character(pData(eset)$group))\n",
    "\n",
    "eset.design = model.matrix(~ 0 + eset.group)\n",
    "eset.fit = lmFit(eset, eset.design)\n",
    "\n",
    "\n",
    "#define the contrasts you want to make, estimate the coefficients \n",
    "#and std errs for these contrasts, eBayes moderation of std errs.\n",
    "contr = makeContrasts(eset.groupsevere - eset.grouphealthy, levels=colnames(coef(eset.fit)))\n",
    "eset.fit = contrasts.fit(eset.fit, contr)\n",
    "eset.fit = eBayes(eset.fit)\n",
    "\n",
    "#Extract results per metabolite\n",
    "top.table = topTable(eset.fit, sort.by=\"p\", n=Inf)\n",
    "write.csv(top.table, file = limma_table_file, sep = \",\", quote = FALSE)"
   ]
  },
  {
   "cell_type": "code",
   "execution_count": 146,
   "metadata": {},
   "outputs": [
    {
     "data": {
      "text/html": [
       "<div>\n",
       "<style scoped>\n",
       "    .dataframe tbody tr th:only-of-type {\n",
       "        vertical-align: middle;\n",
       "    }\n",
       "\n",
       "    .dataframe tbody tr th {\n",
       "        vertical-align: top;\n",
       "    }\n",
       "\n",
       "    .dataframe thead th {\n",
       "        text-align: right;\n",
       "    }\n",
       "</style>\n",
       "<table border=\"1\" class=\"dataframe\">\n",
       "  <thead>\n",
       "    <tr style=\"text-align: right;\">\n",
       "      <th></th>\n",
       "      <th>h_jkdz1</th>\n",
       "      <th>h_jkdz2</th>\n",
       "      <th>h_jkdz3</th>\n",
       "      <th>h_jkdz4</th>\n",
       "      <th>h_jkdz5</th>\n",
       "      <th>h_jkdz6</th>\n",
       "      <th>h_jkdz7</th>\n",
       "      <th>h_jkdz8</th>\n",
       "      <th>h_jkdz9</th>\n",
       "      <th>h_jkdz10</th>\n",
       "      <th>...</th>\n",
       "      <th>s_ZX12</th>\n",
       "      <th>s_ZX13</th>\n",
       "      <th>s_ZX14</th>\n",
       "      <th>s_ZX15</th>\n",
       "      <th>s_ZX16</th>\n",
       "      <th>s_ZX17</th>\n",
       "      <th>s_ZX18</th>\n",
       "      <th>s_ZX19</th>\n",
       "      <th>s_ZX20</th>\n",
       "      <th>s_ZX21</th>\n",
       "    </tr>\n",
       "    <tr>\n",
       "      <th>Identifier</th>\n",
       "      <th></th>\n",
       "      <th></th>\n",
       "      <th></th>\n",
       "      <th></th>\n",
       "      <th></th>\n",
       "      <th></th>\n",
       "      <th></th>\n",
       "      <th></th>\n",
       "      <th></th>\n",
       "      <th></th>\n",
       "      <th></th>\n",
       "      <th></th>\n",
       "      <th></th>\n",
       "      <th></th>\n",
       "      <th></th>\n",
       "      <th></th>\n",
       "      <th></th>\n",
       "      <th></th>\n",
       "      <th></th>\n",
       "      <th></th>\n",
       "      <th></th>\n",
       "    </tr>\n",
       "  </thead>\n",
       "  <tbody>\n",
       "    <tr>\n",
       "      <th>C21482</th>\n",
       "      <td>24.210524</td>\n",
       "      <td>22.605535</td>\n",
       "      <td>23.216722</td>\n",
       "      <td>22.344858</td>\n",
       "      <td>24.252105</td>\n",
       "      <td>21.771680</td>\n",
       "      <td>22.977033</td>\n",
       "      <td>22.945814</td>\n",
       "      <td>23.894727</td>\n",
       "      <td>23.857913</td>\n",
       "      <td>...</td>\n",
       "      <td>20.860867</td>\n",
       "      <td>21.621323</td>\n",
       "      <td>19.492901</td>\n",
       "      <td>21.426086</td>\n",
       "      <td>21.666702</td>\n",
       "      <td>21.612682</td>\n",
       "      <td>20.483626</td>\n",
       "      <td>21.406291</td>\n",
       "      <td>21.014045</td>\n",
       "      <td>21.058747</td>\n",
       "    </tr>\n",
       "    <tr>\n",
       "      <th>C18218</th>\n",
       "      <td>21.370881</td>\n",
       "      <td>20.971685</td>\n",
       "      <td>20.463232</td>\n",
       "      <td>20.959265</td>\n",
       "      <td>21.274690</td>\n",
       "      <td>21.331122</td>\n",
       "      <td>21.124241</td>\n",
       "      <td>20.912063</td>\n",
       "      <td>20.942654</td>\n",
       "      <td>21.127447</td>\n",
       "      <td>...</td>\n",
       "      <td>20.426978</td>\n",
       "      <td>20.430644</td>\n",
       "      <td>21.618107</td>\n",
       "      <td>20.611561</td>\n",
       "      <td>20.329786</td>\n",
       "      <td>21.482624</td>\n",
       "      <td>20.155726</td>\n",
       "      <td>21.490707</td>\n",
       "      <td>20.434726</td>\n",
       "      <td>20.491468</td>\n",
       "    </tr>\n",
       "    <tr>\n",
       "      <th>C05127</th>\n",
       "      <td>16.420754</td>\n",
       "      <td>0.000000</td>\n",
       "      <td>16.495419</td>\n",
       "      <td>0.000000</td>\n",
       "      <td>17.285808</td>\n",
       "      <td>0.000000</td>\n",
       "      <td>0.000000</td>\n",
       "      <td>0.000000</td>\n",
       "      <td>16.466464</td>\n",
       "      <td>16.889556</td>\n",
       "      <td>...</td>\n",
       "      <td>0.000000</td>\n",
       "      <td>0.000000</td>\n",
       "      <td>0.000000</td>\n",
       "      <td>0.000000</td>\n",
       "      <td>0.000000</td>\n",
       "      <td>0.000000</td>\n",
       "      <td>0.000000</td>\n",
       "      <td>17.077231</td>\n",
       "      <td>0.000000</td>\n",
       "      <td>0.000000</td>\n",
       "    </tr>\n",
       "    <tr>\n",
       "      <th>C01152</th>\n",
       "      <td>25.810118</td>\n",
       "      <td>25.800437</td>\n",
       "      <td>25.726539</td>\n",
       "      <td>25.428610</td>\n",
       "      <td>25.707397</td>\n",
       "      <td>25.232153</td>\n",
       "      <td>24.832617</td>\n",
       "      <td>26.008753</td>\n",
       "      <td>25.475693</td>\n",
       "      <td>26.442297</td>\n",
       "      <td>...</td>\n",
       "      <td>24.780223</td>\n",
       "      <td>24.915409</td>\n",
       "      <td>24.597624</td>\n",
       "      <td>24.979283</td>\n",
       "      <td>25.222766</td>\n",
       "      <td>24.540413</td>\n",
       "      <td>24.628327</td>\n",
       "      <td>25.934691</td>\n",
       "      <td>25.260903</td>\n",
       "      <td>25.547599</td>\n",
       "    </tr>\n",
       "    <tr>\n",
       "      <th>C02918</th>\n",
       "      <td>0.000000</td>\n",
       "      <td>17.470054</td>\n",
       "      <td>17.773398</td>\n",
       "      <td>17.296169</td>\n",
       "      <td>18.290507</td>\n",
       "      <td>19.452934</td>\n",
       "      <td>18.318133</td>\n",
       "      <td>18.970235</td>\n",
       "      <td>18.060966</td>\n",
       "      <td>0.000000</td>\n",
       "      <td>...</td>\n",
       "      <td>18.348302</td>\n",
       "      <td>0.000000</td>\n",
       "      <td>18.729714</td>\n",
       "      <td>15.108287</td>\n",
       "      <td>0.000000</td>\n",
       "      <td>19.322959</td>\n",
       "      <td>19.673094</td>\n",
       "      <td>21.943916</td>\n",
       "      <td>18.115210</td>\n",
       "      <td>16.298897</td>\n",
       "    </tr>\n",
       "    <tr>\n",
       "      <th>...</th>\n",
       "      <td>...</td>\n",
       "      <td>...</td>\n",
       "      <td>...</td>\n",
       "      <td>...</td>\n",
       "      <td>...</td>\n",
       "      <td>...</td>\n",
       "      <td>...</td>\n",
       "      <td>...</td>\n",
       "      <td>...</td>\n",
       "      <td>...</td>\n",
       "      <td>...</td>\n",
       "      <td>...</td>\n",
       "      <td>...</td>\n",
       "      <td>...</td>\n",
       "      <td>...</td>\n",
       "      <td>...</td>\n",
       "      <td>...</td>\n",
       "      <td>...</td>\n",
       "      <td>...</td>\n",
       "      <td>...</td>\n",
       "      <td>...</td>\n",
       "    </tr>\n",
       "    <tr>\n",
       "      <th>C07880</th>\n",
       "      <td>20.752001</td>\n",
       "      <td>17.530614</td>\n",
       "      <td>17.332919</td>\n",
       "      <td>20.261283</td>\n",
       "      <td>19.395695</td>\n",
       "      <td>19.032759</td>\n",
       "      <td>20.043788</td>\n",
       "      <td>16.785012</td>\n",
       "      <td>19.272531</td>\n",
       "      <td>18.866342</td>\n",
       "      <td>...</td>\n",
       "      <td>22.036309</td>\n",
       "      <td>18.733412</td>\n",
       "      <td>0.000000</td>\n",
       "      <td>17.851992</td>\n",
       "      <td>22.994616</td>\n",
       "      <td>21.202083</td>\n",
       "      <td>20.219033</td>\n",
       "      <td>18.814398</td>\n",
       "      <td>21.806713</td>\n",
       "      <td>17.918811</td>\n",
       "    </tr>\n",
       "    <tr>\n",
       "      <th>C00141</th>\n",
       "      <td>29.551342</td>\n",
       "      <td>29.324517</td>\n",
       "      <td>29.581627</td>\n",
       "      <td>29.227362</td>\n",
       "      <td>29.679986</td>\n",
       "      <td>29.424745</td>\n",
       "      <td>29.674879</td>\n",
       "      <td>29.631262</td>\n",
       "      <td>29.803893</td>\n",
       "      <td>29.772273</td>\n",
       "      <td>...</td>\n",
       "      <td>28.354619</td>\n",
       "      <td>29.297082</td>\n",
       "      <td>29.072965</td>\n",
       "      <td>28.651508</td>\n",
       "      <td>28.872962</td>\n",
       "      <td>28.958423</td>\n",
       "      <td>27.804448</td>\n",
       "      <td>28.830787</td>\n",
       "      <td>28.982194</td>\n",
       "      <td>28.337097</td>\n",
       "    </tr>\n",
       "    <tr>\n",
       "      <th>C00262</th>\n",
       "      <td>23.471758</td>\n",
       "      <td>23.543435</td>\n",
       "      <td>23.240474</td>\n",
       "      <td>23.660159</td>\n",
       "      <td>23.835118</td>\n",
       "      <td>22.544475</td>\n",
       "      <td>24.120246</td>\n",
       "      <td>23.302091</td>\n",
       "      <td>24.146419</td>\n",
       "      <td>23.646399</td>\n",
       "      <td>...</td>\n",
       "      <td>24.154257</td>\n",
       "      <td>24.097960</td>\n",
       "      <td>23.480978</td>\n",
       "      <td>23.472386</td>\n",
       "      <td>23.832386</td>\n",
       "      <td>23.768046</td>\n",
       "      <td>23.234045</td>\n",
       "      <td>24.893491</td>\n",
       "      <td>24.039979</td>\n",
       "      <td>23.480130</td>\n",
       "    </tr>\n",
       "    <tr>\n",
       "      <th>C00655</th>\n",
       "      <td>16.224587</td>\n",
       "      <td>14.796285</td>\n",
       "      <td>0.000000</td>\n",
       "      <td>0.000000</td>\n",
       "      <td>0.000000</td>\n",
       "      <td>0.000000</td>\n",
       "      <td>0.000000</td>\n",
       "      <td>0.000000</td>\n",
       "      <td>14.953043</td>\n",
       "      <td>15.202933</td>\n",
       "      <td>...</td>\n",
       "      <td>15.960277</td>\n",
       "      <td>15.823179</td>\n",
       "      <td>14.087663</td>\n",
       "      <td>0.000000</td>\n",
       "      <td>0.000000</td>\n",
       "      <td>15.725074</td>\n",
       "      <td>0.000000</td>\n",
       "      <td>16.488677</td>\n",
       "      <td>15.670805</td>\n",
       "      <td>0.000000</td>\n",
       "    </tr>\n",
       "    <tr>\n",
       "      <th>C02470</th>\n",
       "      <td>0.000000</td>\n",
       "      <td>0.000000</td>\n",
       "      <td>0.000000</td>\n",
       "      <td>0.000000</td>\n",
       "      <td>0.000000</td>\n",
       "      <td>0.000000</td>\n",
       "      <td>0.000000</td>\n",
       "      <td>0.000000</td>\n",
       "      <td>18.045677</td>\n",
       "      <td>0.000000</td>\n",
       "      <td>...</td>\n",
       "      <td>17.221549</td>\n",
       "      <td>15.227935</td>\n",
       "      <td>0.000000</td>\n",
       "      <td>0.000000</td>\n",
       "      <td>0.000000</td>\n",
       "      <td>0.000000</td>\n",
       "      <td>0.000000</td>\n",
       "      <td>20.981943</td>\n",
       "      <td>18.276788</td>\n",
       "      <td>0.000000</td>\n",
       "    </tr>\n",
       "  </tbody>\n",
       "</table>\n",
       "<p>220 rows × 96 columns</p>\n",
       "</div>"
      ],
      "text/plain": [
       "              h_jkdz1    h_jkdz2    h_jkdz3    h_jkdz4    h_jkdz5    h_jkdz6  \\\n",
       "Identifier                                                                     \n",
       "C21482      24.210524  22.605535  23.216722  22.344858  24.252105  21.771680   \n",
       "C18218      21.370881  20.971685  20.463232  20.959265  21.274690  21.331122   \n",
       "C05127      16.420754   0.000000  16.495419   0.000000  17.285808   0.000000   \n",
       "C01152      25.810118  25.800437  25.726539  25.428610  25.707397  25.232153   \n",
       "C02918       0.000000  17.470054  17.773398  17.296169  18.290507  19.452934   \n",
       "...               ...        ...        ...        ...        ...        ...   \n",
       "C07880      20.752001  17.530614  17.332919  20.261283  19.395695  19.032759   \n",
       "C00141      29.551342  29.324517  29.581627  29.227362  29.679986  29.424745   \n",
       "C00262      23.471758  23.543435  23.240474  23.660159  23.835118  22.544475   \n",
       "C00655      16.224587  14.796285   0.000000   0.000000   0.000000   0.000000   \n",
       "C02470       0.000000   0.000000   0.000000   0.000000   0.000000   0.000000   \n",
       "\n",
       "              h_jkdz7    h_jkdz8    h_jkdz9   h_jkdz10  ...     s_ZX12  \\\n",
       "Identifier                                              ...              \n",
       "C21482      22.977033  22.945814  23.894727  23.857913  ...  20.860867   \n",
       "C18218      21.124241  20.912063  20.942654  21.127447  ...  20.426978   \n",
       "C05127       0.000000   0.000000  16.466464  16.889556  ...   0.000000   \n",
       "C01152      24.832617  26.008753  25.475693  26.442297  ...  24.780223   \n",
       "C02918      18.318133  18.970235  18.060966   0.000000  ...  18.348302   \n",
       "...               ...        ...        ...        ...  ...        ...   \n",
       "C07880      20.043788  16.785012  19.272531  18.866342  ...  22.036309   \n",
       "C00141      29.674879  29.631262  29.803893  29.772273  ...  28.354619   \n",
       "C00262      24.120246  23.302091  24.146419  23.646399  ...  24.154257   \n",
       "C00655       0.000000   0.000000  14.953043  15.202933  ...  15.960277   \n",
       "C02470       0.000000   0.000000  18.045677   0.000000  ...  17.221549   \n",
       "\n",
       "               s_ZX13     s_ZX14     s_ZX15     s_ZX16     s_ZX17     s_ZX18  \\\n",
       "Identifier                                                                     \n",
       "C21482      21.621323  19.492901  21.426086  21.666702  21.612682  20.483626   \n",
       "C18218      20.430644  21.618107  20.611561  20.329786  21.482624  20.155726   \n",
       "C05127       0.000000   0.000000   0.000000   0.000000   0.000000   0.000000   \n",
       "C01152      24.915409  24.597624  24.979283  25.222766  24.540413  24.628327   \n",
       "C02918       0.000000  18.729714  15.108287   0.000000  19.322959  19.673094   \n",
       "...               ...        ...        ...        ...        ...        ...   \n",
       "C07880      18.733412   0.000000  17.851992  22.994616  21.202083  20.219033   \n",
       "C00141      29.297082  29.072965  28.651508  28.872962  28.958423  27.804448   \n",
       "C00262      24.097960  23.480978  23.472386  23.832386  23.768046  23.234045   \n",
       "C00655      15.823179  14.087663   0.000000   0.000000  15.725074   0.000000   \n",
       "C02470      15.227935   0.000000   0.000000   0.000000   0.000000   0.000000   \n",
       "\n",
       "               s_ZX19     s_ZX20     s_ZX21  \n",
       "Identifier                                   \n",
       "C21482      21.406291  21.014045  21.058747  \n",
       "C18218      21.490707  20.434726  20.491468  \n",
       "C05127      17.077231   0.000000   0.000000  \n",
       "C01152      25.934691  25.260903  25.547599  \n",
       "C02918      21.943916  18.115210  16.298897  \n",
       "...               ...        ...        ...  \n",
       "C07880      18.814398  21.806713  17.918811  \n",
       "C00141      28.830787  28.982194  28.337097  \n",
       "C00262      24.893491  24.039979  23.480130  \n",
       "C00655      16.488677  15.670805   0.000000  \n",
       "C02470      20.981943  18.276788   0.000000  \n",
       "\n",
       "[220 rows x 96 columns]"
      ]
     },
     "execution_count": 146,
     "metadata": {},
     "output_type": "execute_result"
    }
   ],
   "source": [
    "data_log"
   ]
  },
  {
   "cell_type": "code",
   "execution_count": 147,
   "metadata": {},
   "outputs": [
    {
     "data": {
      "text/html": [
       "<div>\n",
       "<style scoped>\n",
       "    .dataframe tbody tr th:only-of-type {\n",
       "        vertical-align: middle;\n",
       "    }\n",
       "\n",
       "    .dataframe tbody tr th {\n",
       "        vertical-align: top;\n",
       "    }\n",
       "\n",
       "    .dataframe thead th {\n",
       "        text-align: right;\n",
       "    }\n",
       "</style>\n",
       "<table border=\"1\" class=\"dataframe\">\n",
       "  <thead>\n",
       "    <tr style=\"text-align: right;\">\n",
       "      <th></th>\n",
       "      <th>sample</th>\n",
       "      <th>group</th>\n",
       "    </tr>\n",
       "  </thead>\n",
       "  <tbody>\n",
       "    <tr>\n",
       "      <th>0</th>\n",
       "      <td>h_jkdz1</td>\n",
       "      <td>healthy</td>\n",
       "    </tr>\n",
       "    <tr>\n",
       "      <th>1</th>\n",
       "      <td>h_jkdz2</td>\n",
       "      <td>healthy</td>\n",
       "    </tr>\n",
       "    <tr>\n",
       "      <th>2</th>\n",
       "      <td>h_jkdz3</td>\n",
       "      <td>healthy</td>\n",
       "    </tr>\n",
       "    <tr>\n",
       "      <th>3</th>\n",
       "      <td>h_jkdz4</td>\n",
       "      <td>healthy</td>\n",
       "    </tr>\n",
       "    <tr>\n",
       "      <th>4</th>\n",
       "      <td>h_jkdz5</td>\n",
       "      <td>healthy</td>\n",
       "    </tr>\n",
       "    <tr>\n",
       "      <th>...</th>\n",
       "      <td>...</td>\n",
       "      <td>...</td>\n",
       "    </tr>\n",
       "    <tr>\n",
       "      <th>91</th>\n",
       "      <td>s_ZX17</td>\n",
       "      <td>severe</td>\n",
       "    </tr>\n",
       "    <tr>\n",
       "      <th>92</th>\n",
       "      <td>s_ZX18</td>\n",
       "      <td>severe</td>\n",
       "    </tr>\n",
       "    <tr>\n",
       "      <th>93</th>\n",
       "      <td>s_ZX19</td>\n",
       "      <td>severe</td>\n",
       "    </tr>\n",
       "    <tr>\n",
       "      <th>94</th>\n",
       "      <td>s_ZX20</td>\n",
       "      <td>severe</td>\n",
       "    </tr>\n",
       "    <tr>\n",
       "      <th>95</th>\n",
       "      <td>s_ZX21</td>\n",
       "      <td>severe</td>\n",
       "    </tr>\n",
       "  </tbody>\n",
       "</table>\n",
       "<p>96 rows × 2 columns</p>\n",
       "</div>"
      ],
      "text/plain": [
       "     sample    group\n",
       "0   h_jkdz1  healthy\n",
       "1   h_jkdz2  healthy\n",
       "2   h_jkdz3  healthy\n",
       "3   h_jkdz4  healthy\n",
       "4   h_jkdz5  healthy\n",
       "..      ...      ...\n",
       "91   s_ZX17   severe\n",
       "92   s_ZX18   severe\n",
       "93   s_ZX19   severe\n",
       "94   s_ZX20   severe\n",
       "95   s_ZX21   severe\n",
       "\n",
       "[96 rows x 2 columns]"
      ]
     },
     "execution_count": 147,
     "metadata": {},
     "output_type": "execute_result"
    }
   ],
   "source": [
    "sample_description"
   ]
  },
  {
   "cell_type": "code",
   "execution_count": null,
   "metadata": {},
   "outputs": [],
   "source": []
  }
 ],
 "metadata": {
  "kernelspec": {
   "display_name": "Python 3",
   "language": "python",
   "name": "python3"
  },
  "language_info": {
   "codemirror_mode": {
    "name": "ipython",
    "version": 3
   },
   "file_extension": ".py",
   "mimetype": "text/x-python",
   "name": "python",
   "nbconvert_exporter": "python",
   "pygments_lexer": "ipython3",
   "version": "3.8.1"
  }
 },
 "nbformat": 4,
 "nbformat_minor": 2
}
