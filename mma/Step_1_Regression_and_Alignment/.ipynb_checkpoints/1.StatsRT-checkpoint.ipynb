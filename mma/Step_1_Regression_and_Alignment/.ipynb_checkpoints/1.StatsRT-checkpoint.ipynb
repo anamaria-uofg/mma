{
 "cells": [
  {
   "cell_type": "code",
   "execution_count": 20,
   "metadata": {},
   "outputs": [],
   "source": [
    "import glob\n",
    "import os\n",
    "import pickle\n",
    "import re\n",
    "import pickle\n",
    "import sys"
   ]
  },
  {
   "cell_type": "code",
   "execution_count": 21,
   "metadata": {},
   "outputs": [
    {
     "name": "stdout",
     "output_type": "stream",
     "text": [
      "The autoreload extension is already loaded. To reload it, use:\n",
      "  %reload_ext autoreload\n"
     ]
    }
   ],
   "source": [
    "%load_ext autoreload\n",
    "%autoreload 2"
   ]
  },
  {
   "cell_type": "code",
   "execution_count": null,
   "metadata": {},
   "outputs": [],
   "source": []
  },
  {
   "cell_type": "code",
   "execution_count": null,
   "metadata": {},
   "outputs": [],
   "source": []
  },
  {
   "cell_type": "markdown",
   "metadata": {},
   "source": [
    "### Extracting the standards from the ToxID files"
   ]
  },
  {
   "cell_type": "code",
   "execution_count": 8,
   "metadata": {},
   "outputs": [],
   "source": [
    "def get_std_from_toxid(original_files, stds_csvs, required_polarity):\n",
    "\n",
    "    matches = {}\n",
    "    for file_pos,o in enumerate(original_files):\n",
    "        with open(stds_csvs[file_pos],'r') as s:\n",
    "            for line in s:\n",
    "                #to skip the comments read only the rows which start with a number\n",
    "                if re.match(r\"^\\d+.*$\",line):\n",
    "                    name = line.split(',')[2].lower()\n",
    "                    polarity = line.split(',')[4]\n",
    "                    mz = float(line.split(',')[6])\n",
    "                    if line.split(',')[9] != '':\n",
    "                        rt = float(line.split(',')[9])\n",
    "                    num = float(line.split(',')[0])\n",
    "                    intensity = float(line.split(',')[10])\n",
    "            \n",
    "                    if polarity == required_polarity:\n",
    "                        if not name in matches:\n",
    "                            matches[name] = {}\n",
    "                    \n",
    "                        matches[name][o] = (num, mz, rt, intensity)\n",
    "                    \n",
    "    return matches\n",
    "\n"
   ]
  },
  {
   "cell_type": "code",
   "execution_count": 22,
   "metadata": {},
   "outputs": [],
   "source": [
    "stds_dir = '/Users/anamaria/Documents/work/ra22/2286_Data/standards_toxid/'"
   ]
  },
  {
   "cell_type": "code",
   "execution_count": 23,
   "metadata": {},
   "outputs": [],
   "source": [
    "original_files = glob.glob(os.path.join(stds_dir,'*.csv'))\n",
    "original_files = [o.split(os.sep)[-1].split('.')[0] for o in original_files]\n",
    "original_files = ['_'.join(o.split('_')[0:4]) for o in original_files]\n",
    "\n",
    "stds_csvs = glob.glob(os.path.join(stds_dir, '*.csv'))  \n",
    "matches_positive = get_std_from_toxid(original_files, stds_csvs, \"+\")"
   ]
  },
  {
   "cell_type": "code",
   "execution_count": null,
   "metadata": {
    "collapsed": true
   },
   "outputs": [],
   "source": []
  },
  {
   "cell_type": "code",
   "execution_count": 25,
   "metadata": {},
   "outputs": [
    {
     "data": {
      "text/plain": [
       "[]"
      ]
     },
     "execution_count": 25,
     "metadata": {},
     "output_type": "execute_result"
    }
   ],
   "source": [
    "glob.glob(os.path.join(stds_dir,'*.csv'))"
   ]
  },
  {
   "cell_type": "code",
   "execution_count": 20,
   "metadata": {},
   "outputs": [],
   "source": [
    "with open(osp+'pymz/mzmine/std_matches_toxid.txt', 'wb') as handle:\n",
    "    pickle.dump(matches_positive, handle)"
   ]
  },
  {
   "cell_type": "markdown",
   "metadata": {},
   "source": [
    "### Extracting the standards from the mzmine peak picked files"
   ]
  },
  {
   "cell_type": "code",
   "execution_count": 5,
   "metadata": {},
   "outputs": [],
   "source": [
    "sys.path.append('..')\n",
    "from metab_utils import get_std_matches_for_files\n",
    "\n",
    "stds_dir = osp+'Metabolomics_datasets/Standards_csv'\n",
    "output_dir = osp+'pymz/mzmine/peak_picked_files/standards'\n",
    "original_files = glob.glob(os.path.join(stds_dir,'*.csv'))\n",
    "original_files = [o.split(os.sep)[-1].split('.')[0] for o in original_files]\n",
    "original_files = ['_'.join(o.split('_')[0:4]) for o in original_files]\n",
    "\n",
    "original_csvs = [os.path.join(output_dir,original_file + '_pp.csv') for original_file in original_files]\n",
    "\n",
    "matches = {}\n",
    "stds_csvs = glob.glob(os.path.join(stds_dir, '*.csv'))  \n",
    "\n",
    "matches_3ppm = get_std_matches_for_files(original_files, output_dir, stds_csvs, original_csvs)"
   ]
  },
  {
   "cell_type": "markdown",
   "metadata": {},
   "source": [
    "Save the dictionary of matching metabolites."
   ]
  },
  {
   "cell_type": "code",
   "execution_count": 14,
   "metadata": {},
   "outputs": [],
   "source": [
    "with open(osp+'pymz/mzmine/std_matches.txt', 'wb') as handle:\n",
    "    pickle.dump(matches, handle)"
   ]
  },
  {
   "cell_type": "code",
   "execution_count": 7,
   "metadata": {},
   "outputs": [],
   "source": [
    "with open(osp+'pymz/mzmine/std_matches_3ppm.txt', 'wb') as handle:\n",
    "    pickle.dump(matches_3ppm, handle)"
   ]
  },
  {
   "cell_type": "code",
   "execution_count": 6,
   "metadata": {},
   "outputs": [],
   "source": [
    "with open(osp+'negative_mode/stds.dict', 'wb') as handle:\n",
    "    pickle.dump(matches_negative, handle)"
   ]
  },
  {
   "cell_type": "markdown",
   "metadata": {},
   "source": [
    "Or...load the dictionary of matching metabolites."
   ]
  },
  {
   "cell_type": "code",
   "execution_count": 28,
   "metadata": {},
   "outputs": [],
   "source": [
    "with open(osp+'pymz/mzmine/std_matches.txt', 'rb') as file:\n",
    "    matches = pickle.load(file)"
   ]
  },
  {
   "cell_type": "markdown",
   "metadata": {},
   "source": [
    "### Comparing the retention times within the datasets"
   ]
  },
  {
   "cell_type": "code",
   "execution_count": 29,
   "metadata": {},
   "outputs": [],
   "source": [
    "sys.path.append(\"..\")\n",
    "from metab_utils import get_stats_on_diff\n",
    "from metab_utils import get_rts_within_datasets"
   ]
  },
  {
   "cell_type": "code",
   "execution_count": 8,
   "metadata": {},
   "outputs": [],
   "source": [
    "matches = matches_negative"
   ]
  },
  {
   "cell_type": "code",
   "execution_count": 9,
   "metadata": {
    "scrolled": false
   },
   "outputs": [
    {
     "name": "stdout",
     "output_type": "stream",
     "text": [
      "Mean: 10.88 \n",
      "SD: 58.35\n",
      "Maximum difference: 426.00\n"
     ]
    },
    {
     "data": {
      "image/png": "[encoded data removed]",
      "text/plain": [
       "<Figure size 432x288 with 1 Axes>"
      ]
     },
     "metadata": {
      "needs_background": "light"
     },
     "output_type": "display_data"
    }
   ],
   "source": [
    "mal_1_rt, mal_2_rt, mal1_mal2_diff = get_rts_within_datasets('mal', matches)\n",
    "get_stats_on_diff(mal_1_rt, 'Mal1', mal_2_rt, 'Mal2', mal1_mal2_diff, 5, 20)"
   ]
  },
  {
   "cell_type": "code",
   "execution_count": 10,
   "metadata": {},
   "outputs": [
    {
     "name": "stdout",
     "output_type": "stream",
     "text": [
      "Mean: 7.53 \n",
      "SD: 36.18\n",
      "Maximum difference: 244.20\n"
     ]
    },
    {
     "data": {
      "image/png": "[encoded data removed]",
      "text/plain": [
       "<Figure size 432x288 with 1 Axes>"
      ]
     },
     "metadata": {
      "needs_background": "light"
     },
     "output_type": "display_data"
    }
   ],
   "source": [
    "zik_1_rt, zik_2_rt, zik1_zik2_diff = get_rts_within_datasets('zik', matches)\n",
    "get_stats_on_diff(zik_1_rt, 'Zik1', zik_2_rt, 'Zik2', zik1_zik2_diff, 5, 20)"
   ]
  },
  {
   "cell_type": "code",
   "execution_count": 11,
   "metadata": {},
   "outputs": [
    {
     "name": "stdout",
     "output_type": "stream",
     "text": [
      "Mean: 0.32 \n",
      "SD: 4.29\n",
      "Maximum difference: 21.60\n"
     ]
    },
    {
     "data": {
      "image/png": "[encoded data removed]",
      "text/plain": [
       "<Figure size 432x288 with 1 Axes>"
      ]
     },
     "metadata": {
      "needs_background": "light"
     },
     "output_type": "display_data"
    }
   ],
   "source": [
    "vl_1_rt, vl_2_rt, vl1_vl2_diff = get_rts_within_datasets('vl', matches)\n",
    "get_stats_on_diff(vl_1_rt, 'VL1', vl_2_rt, 'VL2', vl1_vl2_diff, 5, 20)"
   ]
  },
  {
   "cell_type": "code",
   "execution_count": 43,
   "metadata": {},
   "outputs": [
    {
     "name": "stdout",
     "output_type": "stream",
     "text": [
      "Mean: -2.36 \n",
      "SD: 4.55\n",
      "Maximum difference: 29.99\n"
     ]
    },
    {
     "data": {
      "image/png": "[encoded data removed]",
      "text/plain": [
       "<Figure size 432x288 with 1 Axes>"
      ]
     },
     "metadata": {
      "needs_background": "light"
     },
     "output_type": "display_data"
    }
   ],
   "source": [
    "hat_1_rt, hat_2_rt, hat1_hat2_diff = get_rts_within_datasets('hat', matches)\n",
    "get_stats_on_diff(hat_1_rt, 'HAT1', hat_2_rt, 'HAT2', hat1_hat2_diff, 5, 20)"
   ]
  },
  {
   "cell_type": "markdown",
   "metadata": {},
   "source": [
    "### Comparing the retention times between the datasets"
   ]
  },
  {
   "cell_type": "code",
   "execution_count": 31,
   "metadata": {},
   "outputs": [],
   "source": [
    "from metab_utils import get_rts_between_datasets"
   ]
  },
  {
   "cell_type": "markdown",
   "metadata": {},
   "source": [
    "#### Zika vs Malaria "
   ]
  },
  {
   "cell_type": "code",
   "execution_count": 13,
   "metadata": {},
   "outputs": [
    {
     "name": "stdout",
     "output_type": "stream",
     "text": [
      "Mean: -37.06 \n",
      "SD: 58.76\n",
      "Maximum difference: 429.60\n"
     ]
    },
    {
     "data": {
      "image/png": "[encoded data removed]",
      "text/plain": [
       "<Figure size 432x288 with 1 Axes>"
      ]
     },
     "metadata": {
      "needs_background": "light"
     },
     "output_type": "display_data"
    }
   ],
   "source": [
    "zik_1_rt, mal_1_rt, zik1_mal1_diff = get_rts_between_datasets('zik', 'mal', matches)\n",
    "get_stats_on_diff(zik_1_rt, 'Zik1', mal_1_rt, 'Mal1', zik1_mal1_diff, 5, 20)"
   ]
  },
  {
   "cell_type": "markdown",
   "metadata": {},
   "source": [
    "#### Zika vs VL"
   ]
  },
  {
   "cell_type": "code",
   "execution_count": 14,
   "metadata": {},
   "outputs": [
    {
     "name": "stdout",
     "output_type": "stream",
     "text": [
      "Mean: -131.18 \n",
      "SD: 90.74\n",
      "Maximum difference: 255.00\n"
     ]
    },
    {
     "data": {
      "image/png": "[encoded data removed]",
      "text/plain": [
       "<Figure size 432x288 with 1 Axes>"
      ]
     },
     "metadata": {
      "needs_background": "light"
     },
     "output_type": "display_data"
    }
   ],
   "source": [
    "zik_1_rt, vl_1_rt, zik1_vl1_diff = get_rts_between_datasets('zik', 'vl', matches)\n",
    "get_stats_on_diff(zik_1_rt, 'Zik1', vl_1_rt, 'VL1', zik1_vl1_diff, 5, 20)"
   ]
  },
  {
   "cell_type": "markdown",
   "metadata": {},
   "source": [
    "#### Zika vs HAT"
   ]
  },
  {
   "cell_type": "code",
   "execution_count": 46,
   "metadata": {},
   "outputs": [
    {
     "name": "stdout",
     "output_type": "stream",
     "text": [
      "Mean: -139.12 \n",
      "SD: 119.25\n",
      "Maximum difference: 443.91\n"
     ]
    },
    {
     "data": {
      "image/png": "[encoded data removed]",
      "text/plain": [
       "<Figure size 432x288 with 1 Axes>"
      ]
     },
     "metadata": {
      "needs_background": "light"
     },
     "output_type": "display_data"
    }
   ],
   "source": [
    "zik_1_rt, hat_1_rt, zik1_hat1_diff = get_rts_between_datasets('zik', 'hat', matches)\n",
    "get_stats_on_diff(zik_1_rt, 'Zik1', hat_1_rt, 'HAT1', zik1_hat1_diff, 5, 20)"
   ]
  },
  {
   "cell_type": "code",
   "execution_count": 35,
   "metadata": {},
   "outputs": [
    {
     "name": "stdout",
     "output_type": "stream",
     "text": [
      "Mean: -156.87 \n",
      "SD: 126.91\n",
      "Maximum difference: 489.99\n"
     ]
    },
    {
     "data": {
      "image/png": "[encoded data removed]",
      "text/plain": [
       "<Figure size 432x288 with 1 Axes>"
      ]
     },
     "metadata": {
      "needs_background": "light"
     },
     "output_type": "display_data"
    }
   ],
   "source": [
    "import numpy as np\n",
    "zik_1_rt, mz, hat_1_rt, mz2 = get_rts_between_datasets('tryps', 'hat', matches, replicate=2)\n",
    "get_stats_on_diff(zik_1_rt, 'Zik2', hat_1_rt, 'Tryps2', np.subtract(zik_1_rt, hat_1_rt), 5, 20)"
   ]
  },
  {
   "cell_type": "code",
   "execution_count": null,
   "metadata": {},
   "outputs": [],
   "source": []
  }
 ],
 "metadata": {
  "kernelspec": {
   "display_name": "Python 3 (ipykernel)",
   "language": "python",
   "name": "python3"
  },
  "language_info": {
   "codemirror_mode": {
    "name": "ipython",
    "version": 3
   },
   "file_extension": ".py",
   "mimetype": "text/x-python",
   "name": "python",
   "nbconvert_exporter": "python",
   "pygments_lexer": "ipython3",
   "version": "3.9.10"
  }
 },
 "nbformat": 4,
 "nbformat_minor": 2
}
