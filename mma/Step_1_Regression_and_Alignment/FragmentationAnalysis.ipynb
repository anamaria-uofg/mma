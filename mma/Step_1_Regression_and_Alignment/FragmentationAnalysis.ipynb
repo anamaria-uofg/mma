{
 "cells": [
  {
   "cell_type": "code",
   "execution_count": 1,
   "metadata": {},
   "outputs": [],
   "source": [
    "%load_ext autoreload\n",
    "%autoreload 2"
   ]
  },
  {
   "cell_type": "code",
   "execution_count": 2,
   "metadata": {},
   "outputs": [],
   "source": [
    "import glob\n",
    "import os\n",
    "import sys\n",
    "import pickle\n",
    "import numpy as np\n",
    "import pandas as pd\n",
    "import matplotlib.pyplot as plt\n",
    "import mass_spec_utils"
   ]
  },
  {
   "cell_type": "code",
   "execution_count": 3,
   "metadata": {},
   "outputs": [],
   "source": [
    "WIN = 'D:/'\n",
    "MAC = '/Volumes/Transcend2/17_20_PhD/19_20_PhD_Metabolomics/'\n",
    "\n",
    "osp = MAC"
   ]
  },
  {
   "cell_type": "code",
   "execution_count": null,
   "metadata": {},
   "outputs": [],
   "source": []
  },
  {
   "cell_type": "markdown",
   "metadata": {},
   "source": [
    "Running standards. First of all, we need to be able to read the new mzML file or csv file. Let's try first with the mzML file."
   ]
  },
  {
   "cell_type": "code",
   "execution_count": 4,
   "metadata": {},
   "outputs": [],
   "source": [
    "new_mzml_file = \"/Volumes/Transcend2/17_20_PhD/19_20_PhD_Metabolomics/Metabolomics_datasets/Zika/Positive/Standards/Std1_1_23Oct18.mzML\"\n",
    "old_mzml_file = \"/Volumes/Transcend2/17_20_PhD/19_20_PhD_Metabolomics/Metabolomics_datasets/Zika/Positive/Standards/Std1_2_23Oct18.mzML\""
   ]
  },
  {
   "cell_type": "markdown",
   "metadata": {},
   "source": [
    "Next, we need to extract the standards from inside the new_mzml file.\n",
    "In order to do this, I quess I will use the method Simon suggested, i.e. choose m/z with highest intensities\n",
    "(search for method in his code). "
   ]
  },
  {
   "cell_type": "code",
   "execution_count": 5,
   "metadata": {},
   "outputs": [],
   "source": [
    "from mass_spec_utils.data_import.mzml import MZMLFile"
   ]
  },
  {
   "cell_type": "code",
   "execution_count": 6,
   "metadata": {},
   "outputs": [
    {
     "name": "stdout",
     "output_type": "stream",
     "text": [
      "Loaded 1185 scans\n",
      "Loaded 1192 scans\n"
     ]
    }
   ],
   "source": [
    "new_mzml = MZMLFile(new_mzml_file)\n",
    "old_mzml = MZMLFile(old_mzml_file)"
   ]
  },
  {
   "cell_type": "markdown",
   "metadata": {},
   "source": [
    "Next, extract the standards from inside the old_mzml file in the same way as above."
   ]
  },
  {
   "cell_type": "code",
   "execution_count": 7,
   "metadata": {},
   "outputs": [],
   "source": [
    "standards_list_file = \"/Volumes/Transcend2/17_20_PhD/19_20_PhD_Metabolomics/Metabolomics_datasets/standards_list.csv\"\n",
    "standards = pd.read_csv(standards_list_file)"
   ]
  },
  {
   "cell_type": "code",
   "execution_count": 8,
   "metadata": {},
   "outputs": [],
   "source": [
    "sys.path.append(\"../\")\n",
    "import metab_utils"
   ]
  },
  {
   "cell_type": "code",
   "execution_count": 11,
   "metadata": {},
   "outputs": [],
   "source": [
    "standards_list_file = \"/Volumes/Transcend2/17_20_PhD/19_20_PhD_Metabolomics/Metabolomics_datasets/standards_list.csv\"\n",
    "standards = pd.read_csv(standards_list_file)\n",
    "standards_list = metab_utils.create_std_dict_by_mz(standards, polarity = '+')\n",
    "with open(osp+'Metabolomics_datasets/standards_list.dict', 'wb') as handle:\n",
    "    pickle.dump(standards_list, handle)"
   ]
  },
  {
   "cell_type": "code",
   "execution_count": 99,
   "metadata": {
    "collapsed": true
   },
   "outputs": [
    {
     "ename": "TypeError",
     "evalue": "unsupported operand type(s) for -: 'list' and 'list'",
     "output_type": "error",
     "traceback": [
      "\u001b[0;31m---------------------------------------------------------------------------\u001b[0m",
      "\u001b[0;31mTypeError\u001b[0m                                 Traceback (most recent call last)",
      "\u001b[0;32m<ipython-input-99-f0eece463825>\u001b[0m in \u001b[0;36m<module>\u001b[0;34m\u001b[0m\n\u001b[1;32m      9\u001b[0m \u001b[0;34m\u001b[0m\u001b[0m\n\u001b[1;32m     10\u001b[0m \u001b[0;32mfrom\u001b[0m \u001b[0mmetab_utils\u001b[0m \u001b[0;32mimport\u001b[0m \u001b[0mtry_gp_regressions\u001b[0m\u001b[0;34m\u001b[0m\u001b[0;34m\u001b[0m\u001b[0m\n\u001b[0;32m---> 11\u001b[0;31m \u001b[0mmodel\u001b[0m\u001b[0;34m,\u001b[0m \u001b[0mkernel\u001b[0m\u001b[0;34m,\u001b[0m \u001b[0mresults\u001b[0m \u001b[0;34m=\u001b[0m \u001b[0mtry_gp_regressions\u001b[0m\u001b[0;34m(\u001b[0m\u001b[0mnew_mzml_rts\u001b[0m\u001b[0;34m,\u001b[0m \u001b[0mold_mzml_rts\u001b[0m\u001b[0;34m-\u001b[0m\u001b[0mnew_mzml_rts\u001b[0m\u001b[0;34m)\u001b[0m\u001b[0;34m\u001b[0m\u001b[0;34m\u001b[0m\u001b[0m\n\u001b[0m",
      "\u001b[0;31mTypeError\u001b[0m: unsupported operand type(s) for -: 'list' and 'list'"
     ]
    }
   ],
   "source": [
    "new_mzml_rts = []\n",
    "old_mzml_rts = []\n",
    "ppm = 0.1\n",
    "for mz in standards_list:\n",
    "    new_rt = new_mzml.get_max_intensity(mz_min = mz - ppm , mz_max = mz +ppm)[1]\n",
    "    new_mzml_rts.append(new_rt/60)\n",
    "    old_rt = old_mzml.get_max_intensity(mz_min = mz - ppm , mz_max = mz +ppm)[1]\n",
    "    old_mzml_rts.append(old_rt/60)"
   ]
  },
  {
   "cell_type": "code",
   "execution_count": 138,
   "metadata": {
    "scrolled": true
   },
   "outputs": [
    {
     "name": "stdout",
     "output_type": "stream",
     "text": [
      "Choosing the optimal kernel...\n",
      "Cross-Predicted Accuracy for RBF : -0.02374298407141029\n",
      "Mean absolute error for RBF : 0.023185903893535344\n",
      "Mean squared error for RBF : 0.0008304628192384405\n",
      "Cross-Predicted Accuracy for MLP : -0.023731728941047914\n",
      "Mean absolute error for MLP : 0.023185817730390537\n",
      "Mean squared error for MLP : 0.0008304536890490891\n"
     ]
    },
    {
     "name": "stderr",
     "output_type": "stream",
     "text": [
      " /Users/anamaria/.pyenv/versions/3.8.1/lib/python3.8/site-packages/GPy/kern/src/rbf.py:52: RuntimeWarning:overflow encountered in square\n",
      " /Users/anamaria/.pyenv/versions/3.8.1/lib/python3.8/site-packages/GPy/kern/src/stationary.py:168: RuntimeWarning:overflow encountered in true_divide\n",
      " /Users/anamaria/.pyenv/versions/3.8.1/lib/python3.8/site-packages/GPy/kern/src/rbf.py:76: RuntimeWarning:invalid value encountered in multiply\n"
     ]
    },
    {
     "name": "stdout",
     "output_type": "stream",
     "text": [
      "Cross-Predicted Accuracy for MLP+RBF : 0.0006497385495928265\n",
      "Mean absolute error for MLP+RBF : 0.023448190464706066\n",
      "Mean squared error for MLP+RBF : 0.00081067538282918\n",
      "Cross-Predicted Accuracy for MLP*RBF : 0.19930708724168245\n",
      "Mean absolute error for MLP*RBF : 0.022213923876467787\n",
      "Mean squared error for MLP*RBF : 0.0006495240543959892\n",
      "Cross-Predicted Accuracy for Cosine*RBF : 0.17520470570321045\n",
      "Mean absolute error for Cosine*RBF : 0.02241888562213524\n",
      "Mean squared error for Cosine*RBF : 0.000669075965407087\n",
      "Cross-Predicted Accuracy for Cosine+RBF : -0.023742995522954224\n",
      "Mean absolute error for Cosine+RBF : 0.023185903221073945\n",
      "Mean squared error for Cosine+RBF : 0.000830462828527961\n",
      "Final kernel: MLP*RBF\n"
     ]
    }
   ],
   "source": [
    "from metab_utils import return_data_with_no_outliers\n",
    "new_mzml_rts_mod, old_mzml_rts_mod = return_data_with_no_outliers(new_mzml_rts, old_mzml_rts, np.subtract(new_mzml_rts,old_mzml_rts), 1)\n",
    "\n",
    "print(\"Choosing the optimal kernel...\")\n",
    "from metab_utils import try_gp_regressions\n",
    "model, kernel, results = try_gp_regressions(np.array(new_mzml_rts_mod), np.array(old_mzml_rts_mod)-np.array(new_mzml_rts_mod))"
   ]
  },
  {
   "cell_type": "code",
   "execution_count": 122,
   "metadata": {
    "scrolled": true
   },
   "outputs": [
    {
     "name": "stdout",
     "output_type": "stream",
     "text": [
      "  \u001b[1mmul.               \u001b[0;0m  |                  value  |  constraints  |  priors\n",
      "  \u001b[1mmlp.variance       \u001b[0;0m  |    0.00859869660799844  |      +ve      |        \n",
      "  \u001b[1mmlp.weight_variance\u001b[0;0m  |    0.08449223528336045  |      +ve      |        \n",
      "  \u001b[1mmlp.bias_variance  \u001b[0;0m  |  3.842095366246017e-06  |      +ve      |        \n",
      "  \u001b[1mrbf.variance       \u001b[0;0m  |     0.2163663945107785  |      +ve      |        \n",
      "  \u001b[1mrbf.lengthscale    \u001b[0;0m  |      4.817996008776943  |      +ve      |        \n",
      "Optimization restart 1/10, f = -95.4689809652259\n",
      "Optimization restart 2/10, f = -95.4689788678081\n",
      "Optimization restart 3/10, f = -95.46898102327347\n",
      "Optimization restart 4/10, f = -95.46898021160862\n",
      "Optimization restart 5/10, f = -95.46898099331186\n",
      "Optimization restart 6/10, f = -95.46897850025124\n",
      "Optimization restart 7/10, f = -95.46898114570247\n",
      "Optimization restart 8/10, f = -95.46897832427607\n",
      "Optimization restart 9/10, f = -95.46898122079565\n",
      "Optimization restart 10/10, f = -95.46898130706933\n"
     ]
    },
    {
     "data": {
      "text/plain": [
       "{'dataplot': [<matplotlib.collections.PathCollection at 0x115345700>],\n",
       " 'gpmean': [[<matplotlib.lines.Line2D at 0x115345ee0>]],\n",
       " 'gpconfidence': [<matplotlib.collections.PolyCollection at 0x11d4f38e0>]}"
      ]
     },
     "execution_count": 122,
     "metadata": {},
     "output_type": "execute_result"
    },
    {
     "data": {
      "image/png": "[encoded data removed]",
      "text/plain": [
       "<Figure size 432x288 with 1 Axes>"
      ]
     },
     "metadata": {
      "needs_background": "light"
     },
     "output_type": "display_data"
    }
   ],
   "source": [
    "model.optimize_restarts(10)\n",
    "print(model.parameters[0])\n",
    "model.plot()"
   ]
  },
  {
   "cell_type": "markdown",
   "metadata": {},
   "source": []
  },
  {
   "cell_type": "markdown",
   "metadata": {},
   "source": [
    "Create method encapsulating the code in this notebook."
   ]
  },
  {
   "cell_type": "code",
   "execution_count": 30,
   "metadata": {},
   "outputs": [],
   "source": [
    "def get_gp_for_new_file(new_mzml_file, old_mzml_file, standards_list, mz_ppm = 0.1, zscore = 1):\n",
    "    from mass_spec_utils.data_import.mzml import MZMLFile\n",
    "    print(\"Creating MZMLFile objects...\")\n",
    "    new_mzml = MZMLFile(new_mzml_file)\n",
    "    old_mzml = MZMLFile(old_mzml_file)\n",
    "    \n",
    "    new_mzml_rts = []\n",
    "    old_mzml_rts = []\n",
    "   \n",
    "    for mz in standards_list:\n",
    "        new_rt = new_mzml.get_max_intensity(mz_min = mz - mz_ppm , mz_max = mz + mz_ppm)[1]\n",
    "        new_mzml_rts.append(new_rt/60)\n",
    "        old_rt = old_mzml.get_max_intensity(mz_min = mz - mz_ppm , mz_max = mz + mz_ppm)[1]\n",
    "        old_mzml_rts.append(old_rt/60)\n",
    "        \n",
    "    from metab_utils import return_data_with_no_outliers\n",
    "    new_mzml_rts_mod, old_mzml_rts_mod = return_data_with_no_outliers(new_mzml_rts, old_mzml_rts, np.subtract(new_mzml_rts,old_mzml_rts), zscore)\n",
    "    \n",
    "    print(\"Choosing the optimal kernel\")\n",
    "    from metab_utils import try_gp_regressions\n",
    "    model, kernel, results = try_gp_regressions(np.array(new_mzml_rts_mod), np.array(old_mzml_rts_mod)-np.array(new_mzml_rts_mod))\n",
    "    \n",
    "    model.optimize_restarts(10)\n",
    "    print(\"Kernel hyperparameters:\",model.parameters[0])\n",
    "    model.plot()"
   ]
  },
  {
   "cell_type": "code",
   "execution_count": 142,
   "metadata": {
    "scrolled": true
   },
   "outputs": [
    {
     "name": "stdout",
     "output_type": "stream",
     "text": [
      "Creating MZMLFile objects...\n",
      "Loaded 1185 scans\n",
      "Loaded 1192 scans\n",
      "Choosing the optimal kernel\n",
      "Cross-Predicted Accuracy for RBF : -0.02374298407141029\n",
      "Mean absolute error for RBF : 0.023185903893535344\n",
      "Mean squared error for RBF : 0.0008304628192384405\n",
      "Cross-Predicted Accuracy for MLP : -0.023731728941047914\n",
      "Mean absolute error for MLP : 0.023185817730390537\n",
      "Mean squared error for MLP : 0.0008304536890490891\n"
     ]
    },
    {
     "name": "stderr",
     "output_type": "stream",
     "text": [
      " /Users/anamaria/.pyenv/versions/3.8.1/lib/python3.8/site-packages/GPy/kern/src/rbf.py:52: RuntimeWarning:overflow encountered in square\n",
      " /Users/anamaria/.pyenv/versions/3.8.1/lib/python3.8/site-packages/GPy/kern/src/stationary.py:168: RuntimeWarning:overflow encountered in true_divide\n",
      " /Users/anamaria/.pyenv/versions/3.8.1/lib/python3.8/site-packages/GPy/kern/src/rbf.py:76: RuntimeWarning:invalid value encountered in multiply\n"
     ]
    },
    {
     "name": "stdout",
     "output_type": "stream",
     "text": [
      "Cross-Predicted Accuracy for MLP+RBF : 0.0006497385495928265\n",
      "Mean absolute error for MLP+RBF : 0.023448190464706066\n",
      "Mean squared error for MLP+RBF : 0.00081067538282918\n",
      "Cross-Predicted Accuracy for MLP*RBF : 0.19930708724168245\n",
      "Mean absolute error for MLP*RBF : 0.022213923876467787\n",
      "Mean squared error for MLP*RBF : 0.0006495240543959892\n",
      "Cross-Predicted Accuracy for Cosine*RBF : 0.17520470570321045\n",
      "Mean absolute error for Cosine*RBF : 0.02241888562213524\n",
      "Mean squared error for Cosine*RBF : 0.000669075965407087\n",
      "Cross-Predicted Accuracy for Cosine+RBF : -0.023742995522954224\n",
      "Mean absolute error for Cosine+RBF : 0.023185903221073945\n",
      "Mean squared error for Cosine+RBF : 0.000830462828527961\n",
      "Final kernel: MLP*RBF\n",
      "Optimization restart 1/10, f = -95.4689809652259\n",
      "Optimization restart 2/10, f = -95.46898110449027\n",
      "Optimization restart 3/10, f = -95.46898136122059\n",
      "Optimization restart 4/10, f = -95.46898113473549\n",
      "Optimization restart 5/10, f = -95.46897577041662\n",
      "Optimization restart 6/10, f = -95.46898071849539\n",
      "Optimization restart 7/10, f = -95.46898043323776\n",
      "Optimization restart 8/10, f = -95.46897650467973\n",
      "Optimization restart 9/10, f = -95.46897886284154\n",
      "Optimization restart 10/10, f = -95.46898118283794\n",
      "Kernel hyperparameters:   \u001b[1mmul.               \u001b[0;0m  |                  value  |  constraints  |  priors\n",
      "  \u001b[1mmlp.variance       \u001b[0;0m  |    0.12585374435198723  |      +ve      |        \n",
      "  \u001b[1mmlp.weight_variance\u001b[0;0m  |    0.08458951002265026  |      +ve      |        \n",
      "  \u001b[1mmlp.bias_variance  \u001b[0;0m  |  8.449240232892274e-07  |      +ve      |        \n",
      "  \u001b[1mrbf.variance       \u001b[0;0m  |   0.014775283140732842  |      +ve      |        \n",
      "  \u001b[1mrbf.lengthscale    \u001b[0;0m  |      4.817841712934297  |      +ve      |        \n"
     ]
    },
    {
     "data": {
      "image/png": "[encoded data removed]",
      "text/plain": [
       "<Figure size 432x288 with 1 Axes>"
      ]
     },
     "metadata": {
      "needs_background": "light"
     },
     "output_type": "display_data"
    }
   ],
   "source": [
    "get_gp_for_new_file(new_mzml_file, old_mzml_file, standards_list)"
   ]
  },
  {
   "cell_type": "code",
   "execution_count": null,
   "metadata": {},
   "outputs": [],
   "source": []
  },
  {
   "cell_type": "code",
   "execution_count": null,
   "metadata": {},
   "outputs": [],
   "source": []
  },
  {
   "cell_type": "markdown",
   "metadata": {},
   "source": [
    "Check fragmentation file"
   ]
  },
  {
   "cell_type": "code",
   "execution_count": 1,
   "metadata": {},
   "outputs": [],
   "source": [
    "frag_mzml_file = \"/Volumes/Transcend2/17_20_PhD/19_20_PhD_Metabolomics/Metabolomics_datasets/Zika/FRAG/FRAG_POS.mzML\""
   ]
  },
  {
   "cell_type": "code",
   "execution_count": 2,
   "metadata": {},
   "outputs": [
    {
     "name": "stderr",
     "output_type": "stream",
     "text": [
      "2021-01-18 10:15:27.320 | DEBUG    | mass_spec_utils.data_import.mzml:_load_file:166 - Loaded 9657 scans\n"
     ]
    }
   ],
   "source": [
    "from mass_spec_utils.data_import.mzml import MZMLFile\n",
    "frag_mzml = MZMLFile(frag_mzml_file)"
   ]
  },
  {
   "cell_type": "markdown",
   "metadata": {},
   "source": [
    "Create dictionary with the filtered peaks found in the meta-dataset."
   ]
  },
  {
   "cell_type": "code",
   "execution_count": 9,
   "metadata": {},
   "outputs": [],
   "source": []
  },
  {
   "cell_type": "code",
   "execution_count": 7,
   "metadata": {},
   "outputs": [],
   "source": [
    "annotated_data = pd.read_csv(osp+'pymz/mzmine/peak_picked_files/annotated_data.csv', sep = ',', index_col = 0)\n",
    "\n",
    "sys.path.append(\"/Users/anamaria/git/molnet/code/\")\n",
    "import mnet\n",
    "with open(os.path.join(osp,'pymz/mzmine/HMDBannotated_data.csv'), 'rb') as file:\n",
    "    annodat = pickle.load(file)   \n",
    "    \n",
    "annotated_data['spectra'] = None\n",
    "for i in annodat.index:\n",
    "    if i in annotated_data.index:\n",
    "        annotated_data.at[i, 'spectra'] = annodat.loc[i]['spectra']"
   ]
  },
  {
   "cell_type": "code",
   "execution_count": 8,
   "metadata": {},
   "outputs": [],
   "source": [
    "filtered_peaks = {}\n",
    "for _,row in annotated_data.iterrows():\n",
    "    mz = row['row m/z']\n",
    "    rt = row['row retention time']\n",
    "    pval = row['adj p-val']\n",
    "    cid = row['custom_id']\n",
    "    mmcn = row['compound_names']\n",
    "    spec = row['spectra']\n",
    "    filtered_peaks[mz] = (mmcn, rt*60, '+', None, pval, cid, spec)\n",
    "    "
   ]
  },
  {
   "cell_type": "code",
   "execution_count": 11,
   "metadata": {},
   "outputs": [
    {
     "data": {
      "text/plain": [
       "604"
      ]
     },
     "execution_count": 11,
     "metadata": {},
     "output_type": "execute_result"
    }
   ],
   "source": [
    "len(filtered_peaks)"
   ]
  },
  {
   "cell_type": "code",
   "execution_count": 4,
   "metadata": {},
   "outputs": [],
   "source": [
    "def get_tolerance(x, ppm):\n",
    "    \"\"\"\n",
    "    Returns tolerance based on ppm value.\n",
    "    \"\"\"\n",
    "    tolerance = x*ppm/1000000\n",
    "    return tolerance"
   ]
  },
  {
   "cell_type": "code",
   "execution_count": 15,
   "metadata": {},
   "outputs": [
    {
     "name": "stdout",
     "output_type": "stream",
     "text": [
      "no peak found 785.6511273451255\n",
      "no peak found 788.6709195650543\n",
      "no peak found 103.06953181642471\n"
     ]
    }
   ],
   "source": [
    "ppm_mz = 3\n",
    "ppm_rt = 3.0\n",
    "count_rt = 0\n",
    "count_spec = 0\n",
    "max_int_peaks = []\n",
    "specs_names = []\n",
    "for mz in filtered_peaks:\n",
    "    \n",
    "    filtered_peaks_rt =  filtered_peaks[mz][1]\n",
    "    filtered_peaks_spec = filtered_peaks[mz][6]\n",
    "    ppm = get_tolerance(mz, ppm_mz)\n",
    "    try:\n",
    "        max_int_peaks.append(frag_mzml.get_max_intensity(mz_min = mz - ppm , mz_max = mz +ppm, rt_min_seconds = filtered_peaks_rt - ppm_rt,\n",
    "                                              rt_max_seconds = filtered_peaks_rt + ppm_rt))\n",
    "    except AttributeError:\n",
    "        print(\"no peak found\",mz)\n",
    "    \n",
    "    if filtered_peaks_spec != None:\n",
    "        count_spec +=1\n",
    "        for spec in filtered_peaks_spec.keys():\n",
    "            specs_names.append(spec)"
   ]
  },
  {
   "cell_type": "markdown",
   "metadata": {},
   "source": [
    "There are 2046 peaks in total."
   ]
  },
  {
   "cell_type": "code",
   "execution_count": 5,
   "metadata": {},
   "outputs": [],
   "source": [
    "frag_picked_peaks = '/Volumes/Transcend2/17_20_PhD/19_20_PhD_Metabolomics/pymz/mzmine/210120/mzmine_frag/zik/gnps2_quant.csv'"
   ]
  },
  {
   "cell_type": "code",
   "execution_count": 6,
   "metadata": {},
   "outputs": [],
   "source": [
    "frag_picked_peaks = pd.read_csv(frag_picked_peaks)"
   ]
  },
  {
   "cell_type": "code",
   "execution_count": 7,
   "metadata": {},
   "outputs": [],
   "source": [
    "pooled_picked_peaks = pd.read_csv('/Volumes/Transcend2/17_20_PhD/19_20_PhD_Metabolomics/Metabolomics_datasets/picked_peaks/zik_pooled/pooled_10.mzXML_chromatograms3ppm_deconvoluted.csv')"
   ]
  },
  {
   "cell_type": "code",
   "execution_count": 8,
   "metadata": {},
   "outputs": [],
   "source": [
    "filtered_peaks = pd.read_csv('/Volumes/Transcend2/17_20_PhD/19_20_PhD_Metabolomics/positive_mode/limma_independent_toptable_features_boxes_individual_logfc_annotated.csv')"
   ]
  },
  {
   "cell_type": "code",
   "execution_count": 23,
   "metadata": {},
   "outputs": [
    {
     "data": {
      "text/html": [
       "<div>\n",
       "<style scoped>\n",
       "    .dataframe tbody tr th:only-of-type {\n",
       "        vertical-align: middle;\n",
       "    }\n",
       "\n",
       "    .dataframe tbody tr th {\n",
       "        vertical-align: top;\n",
       "    }\n",
       "\n",
       "    .dataframe thead th {\n",
       "        text-align: right;\n",
       "    }\n",
       "</style>\n",
       "<table border=\"1\" class=\"dataframe\">\n",
       "  <thead>\n",
       "    <tr style=\"text-align: right;\">\n",
       "      <th></th>\n",
       "      <th>row ID</th>\n",
       "      <th>row m/z</th>\n",
       "      <th>row retention time</th>\n",
       "      <th>pooled_10.mzXML Peak m/z</th>\n",
       "      <th>pooled_10.mzXML Peak RT start</th>\n",
       "      <th>pooled_10.mzXML Peak RT end</th>\n",
       "      <th>pooled_10.mzXML Peak area</th>\n",
       "      <th>pooled_10.mzXML Peak m/z min</th>\n",
       "      <th>pooled_10.mzXML Peak m/z max</th>\n",
       "      <th>Unnamed: 9</th>\n",
       "    </tr>\n",
       "  </thead>\n",
       "  <tbody>\n",
       "    <tr>\n",
       "      <th>0</th>\n",
       "      <td>1</td>\n",
       "      <td>70.065147</td>\n",
       "      <td>10.625950</td>\n",
       "      <td>70.065147</td>\n",
       "      <td>10.447100</td>\n",
       "      <td>10.861467</td>\n",
       "      <td>3.115046e+07</td>\n",
       "      <td>70.065056</td>\n",
       "      <td>70.065186</td>\n",
       "      <td>NaN</td>\n",
       "    </tr>\n",
       "    <tr>\n",
       "      <th>1</th>\n",
       "      <td>2</td>\n",
       "      <td>70.065048</td>\n",
       "      <td>18.822500</td>\n",
       "      <td>70.065048</td>\n",
       "      <td>18.553667</td>\n",
       "      <td>19.252000</td>\n",
       "      <td>2.346572e+06</td>\n",
       "      <td>70.064941</td>\n",
       "      <td>70.065132</td>\n",
       "      <td>NaN</td>\n",
       "    </tr>\n",
       "    <tr>\n",
       "      <th>2</th>\n",
       "      <td>3</td>\n",
       "      <td>70.065147</td>\n",
       "      <td>16.461567</td>\n",
       "      <td>70.065147</td>\n",
       "      <td>16.260917</td>\n",
       "      <td>16.610717</td>\n",
       "      <td>7.592908e+05</td>\n",
       "      <td>70.065041</td>\n",
       "      <td>70.065201</td>\n",
       "      <td>NaN</td>\n",
       "    </tr>\n",
       "    <tr>\n",
       "      <th>3</th>\n",
       "      <td>4</td>\n",
       "      <td>71.068459</td>\n",
       "      <td>10.601083</td>\n",
       "      <td>71.068459</td>\n",
       "      <td>10.559000</td>\n",
       "      <td>10.646950</td>\n",
       "      <td>7.822952e+05</td>\n",
       "      <td>71.068451</td>\n",
       "      <td>71.068565</td>\n",
       "      <td>NaN</td>\n",
       "    </tr>\n",
       "    <tr>\n",
       "      <th>4</th>\n",
       "      <td>5</td>\n",
       "      <td>72.055481</td>\n",
       "      <td>11.789950</td>\n",
       "      <td>72.055481</td>\n",
       "      <td>11.639800</td>\n",
       "      <td>11.873850</td>\n",
       "      <td>1.320344e+06</td>\n",
       "      <td>72.055428</td>\n",
       "      <td>72.055527</td>\n",
       "      <td>NaN</td>\n",
       "    </tr>\n",
       "    <tr>\n",
       "      <th>...</th>\n",
       "      <td>...</td>\n",
       "      <td>...</td>\n",
       "      <td>...</td>\n",
       "      <td>...</td>\n",
       "      <td>...</td>\n",
       "      <td>...</td>\n",
       "      <td>...</td>\n",
       "      <td>...</td>\n",
       "      <td>...</td>\n",
       "      <td>...</td>\n",
       "    </tr>\n",
       "    <tr>\n",
       "      <th>3238</th>\n",
       "      <td>3239</td>\n",
       "      <td>904.828674</td>\n",
       "      <td>5.792367</td>\n",
       "      <td>904.828674</td>\n",
       "      <td>5.374267</td>\n",
       "      <td>6.186183</td>\n",
       "      <td>1.334651e+06</td>\n",
       "      <td>904.826294</td>\n",
       "      <td>904.830566</td>\n",
       "      <td>NaN</td>\n",
       "    </tr>\n",
       "    <tr>\n",
       "      <th>3239</th>\n",
       "      <td>3240</td>\n",
       "      <td>904.827881</td>\n",
       "      <td>4.738417</td>\n",
       "      <td>904.827881</td>\n",
       "      <td>4.428783</td>\n",
       "      <td>4.825450</td>\n",
       "      <td>4.850573e+05</td>\n",
       "      <td>904.825989</td>\n",
       "      <td>904.829895</td>\n",
       "      <td>NaN</td>\n",
       "    </tr>\n",
       "    <tr>\n",
       "      <th>3240</th>\n",
       "      <td>3241</td>\n",
       "      <td>905.593933</td>\n",
       "      <td>2.987767</td>\n",
       "      <td>905.593933</td>\n",
       "      <td>2.900300</td>\n",
       "      <td>3.091833</td>\n",
       "      <td>4.652751e+06</td>\n",
       "      <td>905.591675</td>\n",
       "      <td>905.594543</td>\n",
       "      <td>NaN</td>\n",
       "    </tr>\n",
       "    <tr>\n",
       "      <th>3241</th>\n",
       "      <td>3242</td>\n",
       "      <td>906.603210</td>\n",
       "      <td>3.008517</td>\n",
       "      <td>906.603210</td>\n",
       "      <td>2.900300</td>\n",
       "      <td>3.050500</td>\n",
       "      <td>2.387850e+06</td>\n",
       "      <td>906.601440</td>\n",
       "      <td>906.603455</td>\n",
       "      <td>NaN</td>\n",
       "    </tr>\n",
       "    <tr>\n",
       "      <th>3242</th>\n",
       "      <td>3243</td>\n",
       "      <td>928.591370</td>\n",
       "      <td>2.987767</td>\n",
       "      <td>928.591370</td>\n",
       "      <td>2.921650</td>\n",
       "      <td>3.050500</td>\n",
       "      <td>9.619643e+05</td>\n",
       "      <td>928.589844</td>\n",
       "      <td>928.591980</td>\n",
       "      <td>NaN</td>\n",
       "    </tr>\n",
       "  </tbody>\n",
       "</table>\n",
       "<p>3243 rows × 10 columns</p>\n",
       "</div>"
      ],
      "text/plain": [
       "      row ID     row m/z  row retention time  pooled_10.mzXML Peak m/z  \\\n",
       "0          1   70.065147           10.625950                 70.065147   \n",
       "1          2   70.065048           18.822500                 70.065048   \n",
       "2          3   70.065147           16.461567                 70.065147   \n",
       "3          4   71.068459           10.601083                 71.068459   \n",
       "4          5   72.055481           11.789950                 72.055481   \n",
       "...      ...         ...                 ...                       ...   \n",
       "3238    3239  904.828674            5.792367                904.828674   \n",
       "3239    3240  904.827881            4.738417                904.827881   \n",
       "3240    3241  905.593933            2.987767                905.593933   \n",
       "3241    3242  906.603210            3.008517                906.603210   \n",
       "3242    3243  928.591370            2.987767                928.591370   \n",
       "\n",
       "      pooled_10.mzXML Peak RT start  pooled_10.mzXML Peak RT end  \\\n",
       "0                         10.447100                    10.861467   \n",
       "1                         18.553667                    19.252000   \n",
       "2                         16.260917                    16.610717   \n",
       "3                         10.559000                    10.646950   \n",
       "4                         11.639800                    11.873850   \n",
       "...                             ...                          ...   \n",
       "3238                       5.374267                     6.186183   \n",
       "3239                       4.428783                     4.825450   \n",
       "3240                       2.900300                     3.091833   \n",
       "3241                       2.900300                     3.050500   \n",
       "3242                       2.921650                     3.050500   \n",
       "\n",
       "      pooled_10.mzXML Peak area  pooled_10.mzXML Peak m/z min  \\\n",
       "0                  3.115046e+07                     70.065056   \n",
       "1                  2.346572e+06                     70.064941   \n",
       "2                  7.592908e+05                     70.065041   \n",
       "3                  7.822952e+05                     71.068451   \n",
       "4                  1.320344e+06                     72.055428   \n",
       "...                         ...                           ...   \n",
       "3238               1.334651e+06                    904.826294   \n",
       "3239               4.850573e+05                    904.825989   \n",
       "3240               4.652751e+06                    905.591675   \n",
       "3241               2.387850e+06                    906.601440   \n",
       "3242               9.619643e+05                    928.589844   \n",
       "\n",
       "      pooled_10.mzXML Peak m/z max  Unnamed: 9  \n",
       "0                        70.065186         NaN  \n",
       "1                        70.065132         NaN  \n",
       "2                        70.065201         NaN  \n",
       "3                        71.068565         NaN  \n",
       "4                        72.055527         NaN  \n",
       "...                            ...         ...  \n",
       "3238                    904.830566         NaN  \n",
       "3239                    904.829895         NaN  \n",
       "3240                    905.594543         NaN  \n",
       "3241                    906.603455         NaN  \n",
       "3242                    928.591980         NaN  \n",
       "\n",
       "[3243 rows x 10 columns]"
      ]
     },
     "execution_count": 23,
     "metadata": {},
     "output_type": "execute_result"
    }
   ],
   "source": [
    "pooled_picked_peaks"
   ]
  },
  {
   "cell_type": "code",
   "execution_count": 12,
   "metadata": {},
   "outputs": [
    {
     "data": {
      "text/html": [
       "<div>\n",
       "<style scoped>\n",
       "    .dataframe tbody tr th:only-of-type {\n",
       "        vertical-align: middle;\n",
       "    }\n",
       "\n",
       "    .dataframe tbody tr th {\n",
       "        vertical-align: top;\n",
       "    }\n",
       "\n",
       "    .dataframe thead th {\n",
       "        text-align: right;\n",
       "    }\n",
       "</style>\n",
       "<table border=\"1\" class=\"dataframe\">\n",
       "  <thead>\n",
       "    <tr style=\"text-align: right;\">\n",
       "      <th></th>\n",
       "      <th>Unnamed: 0</th>\n",
       "      <th>custom_id</th>\n",
       "      <th>row m/z</th>\n",
       "      <th>row retention time</th>\n",
       "      <th>adj-p</th>\n",
       "      <th>t-val</th>\n",
       "      <th>logFC</th>\n",
       "      <th>mal_logfc</th>\n",
       "      <th>vl_logfc</th>\n",
       "      <th>zik_logfc</th>\n",
       "      <th>common</th>\n",
       "      <th>std_annot</th>\n",
       "      <th>mm_annot</th>\n",
       "      <th>hmdb_ms2_annot</th>\n",
       "      <th>mz_min</th>\n",
       "      <th>mz_max</th>\n",
       "      <th>rt_min</th>\n",
       "      <th>rt_max</th>\n",
       "    </tr>\n",
       "  </thead>\n",
       "  <tbody>\n",
       "    <tr>\n",
       "      <th>0</th>\n",
       "      <td>0</td>\n",
       "      <td>604</td>\n",
       "      <td>146.117582</td>\n",
       "      <td>10.726534</td>\n",
       "      <td>0.763760</td>\n",
       "      <td>0.471112</td>\n",
       "      <td>0.055667</td>\n",
       "      <td>-0.168325</td>\n",
       "      <td>1.284911</td>\n",
       "      <td>-0.039924</td>\n",
       "      <td>vl</td>\n",
       "      <td>4-trimethylammoniobutanoate</td>\n",
       "      <td>['3-dehydroxycarnitine']</td>\n",
       "      <td>NaN</td>\n",
       "      <td>146.117493</td>\n",
       "      <td>146.117676</td>\n",
       "      <td>10.497897</td>\n",
       "      <td>11.005606</td>\n",
       "    </tr>\n",
       "    <tr>\n",
       "      <th>1</th>\n",
       "      <td>1</td>\n",
       "      <td>412</td>\n",
       "      <td>132.065596</td>\n",
       "      <td>11.575203</td>\n",
       "      <td>0.698407</td>\n",
       "      <td>0.614450</td>\n",
       "      <td>0.120474</td>\n",
       "      <td>0.136189</td>\n",
       "      <td>-2.804799</td>\n",
       "      <td>2.350000</td>\n",
       "      <td>vl</td>\n",
       "      <td>5-aminolevulinate</td>\n",
       "      <td>['l-glutamate 5-semialdehyde; l-glutamate gamm...</td>\n",
       "      <td>Creatine</td>\n",
       "      <td>132.065491</td>\n",
       "      <td>132.065720</td>\n",
       "      <td>11.437827</td>\n",
       "      <td>11.734196</td>\n",
       "    </tr>\n",
       "    <tr>\n",
       "      <th>2</th>\n",
       "      <td>2</td>\n",
       "      <td>366</td>\n",
       "      <td>130.049957</td>\n",
       "      <td>9.235738</td>\n",
       "      <td>0.000173</td>\n",
       "      <td>-4.641824</td>\n",
       "      <td>-0.649142</td>\n",
       "      <td>-0.683360</td>\n",
       "      <td>-0.743241</td>\n",
       "      <td>-0.445621</td>\n",
       "      <td>down</td>\n",
       "      <td>5-oxoproline</td>\n",
       "      <td>['5-oxoproline$l-1-pyrroline-3-hydroxy-5-carbo...</td>\n",
       "      <td>Pipecolic acid</td>\n",
       "      <td>130.049561</td>\n",
       "      <td>130.050156</td>\n",
       "      <td>9.025411</td>\n",
       "      <td>9.429342</td>\n",
       "    </tr>\n",
       "    <tr>\n",
       "      <th>3</th>\n",
       "      <td>3</td>\n",
       "      <td>615</td>\n",
       "      <td>147.076406</td>\n",
       "      <td>10.106348</td>\n",
       "      <td>0.027475</td>\n",
       "      <td>2.737149</td>\n",
       "      <td>3.225662</td>\n",
       "      <td>-2.736787</td>\n",
       "      <td>12.625208</td>\n",
       "      <td>6.909235</td>\n",
       "      <td>mal</td>\n",
       "      <td>ala-gly</td>\n",
       "      <td>['l-glutamine$3-ureidoisobutyrate$d-glutamine;...</td>\n",
       "      <td>NaN</td>\n",
       "      <td>147.076218</td>\n",
       "      <td>147.076538</td>\n",
       "      <td>10.022898</td>\n",
       "      <td>10.216737</td>\n",
       "    </tr>\n",
       "    <tr>\n",
       "      <th>4</th>\n",
       "      <td>4</td>\n",
       "      <td>241</td>\n",
       "      <td>118.086226</td>\n",
       "      <td>10.406101</td>\n",
       "      <td>0.902503</td>\n",
       "      <td>-0.189197</td>\n",
       "      <td>-0.017892</td>\n",
       "      <td>0.054432</td>\n",
       "      <td>-1.060083</td>\n",
       "      <td>-0.217337</td>\n",
       "      <td>mal</td>\n",
       "      <td>betaine</td>\n",
       "      <td>['6-amino-2-oxohexanoate; 2-oxo-6-aminocaproat...</td>\n",
       "      <td>NaN</td>\n",
       "      <td>118.086121</td>\n",
       "      <td>118.086288</td>\n",
       "      <td>10.043342</td>\n",
       "      <td>10.814568</td>\n",
       "    </tr>\n",
       "    <tr>\n",
       "      <th>...</th>\n",
       "      <td>...</td>\n",
       "      <td>...</td>\n",
       "      <td>...</td>\n",
       "      <td>...</td>\n",
       "      <td>...</td>\n",
       "      <td>...</td>\n",
       "      <td>...</td>\n",
       "      <td>...</td>\n",
       "      <td>...</td>\n",
       "      <td>...</td>\n",
       "      <td>...</td>\n",
       "      <td>...</td>\n",
       "      <td>...</td>\n",
       "      <td>...</td>\n",
       "      <td>...</td>\n",
       "      <td>...</td>\n",
       "      <td>...</td>\n",
       "      <td>...</td>\n",
       "    </tr>\n",
       "    <tr>\n",
       "      <th>620</th>\n",
       "      <td>620</td>\n",
       "      <td>748</td>\n",
       "      <td>156.138400</td>\n",
       "      <td>4.388823</td>\n",
       "      <td>0.907824</td>\n",
       "      <td>-0.177205</td>\n",
       "      <td>-0.323015</td>\n",
       "      <td>-0.032081</td>\n",
       "      <td>-0.064352</td>\n",
       "      <td>2.919773</td>\n",
       "      <td>zik</td>\n",
       "      <td>NaN</td>\n",
       "      <td>NaN</td>\n",
       "      <td>NaN</td>\n",
       "      <td>156.138260</td>\n",
       "      <td>156.138580</td>\n",
       "      <td>4.236312</td>\n",
       "      <td>4.554936</td>\n",
       "    </tr>\n",
       "    <tr>\n",
       "      <th>621</th>\n",
       "      <td>621</td>\n",
       "      <td>2864</td>\n",
       "      <td>732.608222</td>\n",
       "      <td>3.341070</td>\n",
       "      <td>0.934623</td>\n",
       "      <td>-0.116698</td>\n",
       "      <td>-0.291068</td>\n",
       "      <td>-0.052804</td>\n",
       "      <td>-4.449712</td>\n",
       "      <td>6.297677</td>\n",
       "      <td>zik</td>\n",
       "      <td>NaN</td>\n",
       "      <td>NaN</td>\n",
       "      <td>NaN</td>\n",
       "      <td>732.606323</td>\n",
       "      <td>732.610107</td>\n",
       "      <td>3.327451</td>\n",
       "      <td>4.087704</td>\n",
       "    </tr>\n",
       "    <tr>\n",
       "      <th>622</th>\n",
       "      <td>622</td>\n",
       "      <td>3975</td>\n",
       "      <td>243.948089</td>\n",
       "      <td>10.077530</td>\n",
       "      <td>0.946951</td>\n",
       "      <td>0.089735</td>\n",
       "      <td>0.228912</td>\n",
       "      <td>2.939581</td>\n",
       "      <td>1.227443</td>\n",
       "      <td>-3.665324</td>\n",
       "      <td>zik</td>\n",
       "      <td>NaN</td>\n",
       "      <td>NaN</td>\n",
       "      <td>NaN</td>\n",
       "      <td>243.947510</td>\n",
       "      <td>243.948410</td>\n",
       "      <td>9.682411</td>\n",
       "      <td>10.368746</td>\n",
       "    </tr>\n",
       "    <tr>\n",
       "      <th>623</th>\n",
       "      <td>623</td>\n",
       "      <td>269</td>\n",
       "      <td>120.092920</td>\n",
       "      <td>10.404522</td>\n",
       "      <td>0.970970</td>\n",
       "      <td>0.048267</td>\n",
       "      <td>0.005691</td>\n",
       "      <td>2.691986</td>\n",
       "      <td>1.205481</td>\n",
       "      <td>-0.050877</td>\n",
       "      <td>zik</td>\n",
       "      <td>NaN</td>\n",
       "      <td>NaN</td>\n",
       "      <td>NaN</td>\n",
       "      <td>120.092728</td>\n",
       "      <td>120.093018</td>\n",
       "      <td>10.327883</td>\n",
       "      <td>10.518321</td>\n",
       "    </tr>\n",
       "    <tr>\n",
       "      <th>624</th>\n",
       "      <td>624</td>\n",
       "      <td>1154</td>\n",
       "      <td>186.112544</td>\n",
       "      <td>9.397406</td>\n",
       "      <td>0.984414</td>\n",
       "      <td>-0.021592</td>\n",
       "      <td>-0.017109</td>\n",
       "      <td>-0.118956</td>\n",
       "      <td>-1.894797</td>\n",
       "      <td>2.293132</td>\n",
       "      <td>zik</td>\n",
       "      <td>NaN</td>\n",
       "      <td>NaN</td>\n",
       "      <td>NaN</td>\n",
       "      <td>186.112411</td>\n",
       "      <td>186.112762</td>\n",
       "      <td>9.195868</td>\n",
       "      <td>9.534070</td>\n",
       "    </tr>\n",
       "  </tbody>\n",
       "</table>\n",
       "<p>625 rows × 18 columns</p>\n",
       "</div>"
      ],
      "text/plain": [
       "     Unnamed: 0  custom_id     row m/z  row retention time     adj-p  \\\n",
       "0             0        604  146.117582           10.726534  0.763760   \n",
       "1             1        412  132.065596           11.575203  0.698407   \n",
       "2             2        366  130.049957            9.235738  0.000173   \n",
       "3             3        615  147.076406           10.106348  0.027475   \n",
       "4             4        241  118.086226           10.406101  0.902503   \n",
       "..          ...        ...         ...                 ...       ...   \n",
       "620         620        748  156.138400            4.388823  0.907824   \n",
       "621         621       2864  732.608222            3.341070  0.934623   \n",
       "622         622       3975  243.948089           10.077530  0.946951   \n",
       "623         623        269  120.092920           10.404522  0.970970   \n",
       "624         624       1154  186.112544            9.397406  0.984414   \n",
       "\n",
       "        t-val     logFC  mal_logfc   vl_logfc  zik_logfc common  \\\n",
       "0    0.471112  0.055667  -0.168325   1.284911  -0.039924     vl   \n",
       "1    0.614450  0.120474   0.136189  -2.804799   2.350000     vl   \n",
       "2   -4.641824 -0.649142  -0.683360  -0.743241  -0.445621   down   \n",
       "3    2.737149  3.225662  -2.736787  12.625208   6.909235    mal   \n",
       "4   -0.189197 -0.017892   0.054432  -1.060083  -0.217337    mal   \n",
       "..        ...       ...        ...        ...        ...    ...   \n",
       "620 -0.177205 -0.323015  -0.032081  -0.064352   2.919773    zik   \n",
       "621 -0.116698 -0.291068  -0.052804  -4.449712   6.297677    zik   \n",
       "622  0.089735  0.228912   2.939581   1.227443  -3.665324    zik   \n",
       "623  0.048267  0.005691   2.691986   1.205481  -0.050877    zik   \n",
       "624 -0.021592 -0.017109  -0.118956  -1.894797   2.293132    zik   \n",
       "\n",
       "                       std_annot  \\\n",
       "0    4-trimethylammoniobutanoate   \n",
       "1              5-aminolevulinate   \n",
       "2                   5-oxoproline   \n",
       "3                        ala-gly   \n",
       "4                        betaine   \n",
       "..                           ...   \n",
       "620                          NaN   \n",
       "621                          NaN   \n",
       "622                          NaN   \n",
       "623                          NaN   \n",
       "624                          NaN   \n",
       "\n",
       "                                              mm_annot  hmdb_ms2_annot  \\\n",
       "0                             ['3-dehydroxycarnitine']             NaN   \n",
       "1    ['l-glutamate 5-semialdehyde; l-glutamate gamm...        Creatine   \n",
       "2    ['5-oxoproline$l-1-pyrroline-3-hydroxy-5-carbo...  Pipecolic acid   \n",
       "3    ['l-glutamine$3-ureidoisobutyrate$d-glutamine;...             NaN   \n",
       "4    ['6-amino-2-oxohexanoate; 2-oxo-6-aminocaproat...             NaN   \n",
       "..                                                 ...             ...   \n",
       "620                                                NaN             NaN   \n",
       "621                                                NaN             NaN   \n",
       "622                                                NaN             NaN   \n",
       "623                                                NaN             NaN   \n",
       "624                                                NaN             NaN   \n",
       "\n",
       "         mz_min      mz_max     rt_min     rt_max  \n",
       "0    146.117493  146.117676  10.497897  11.005606  \n",
       "1    132.065491  132.065720  11.437827  11.734196  \n",
       "2    130.049561  130.050156   9.025411   9.429342  \n",
       "3    147.076218  147.076538  10.022898  10.216737  \n",
       "4    118.086121  118.086288  10.043342  10.814568  \n",
       "..          ...         ...        ...        ...  \n",
       "620  156.138260  156.138580   4.236312   4.554936  \n",
       "621  732.606323  732.610107   3.327451   4.087704  \n",
       "622  243.947510  243.948410   9.682411  10.368746  \n",
       "623  120.092728  120.093018  10.327883  10.518321  \n",
       "624  186.112411  186.112762   9.195868   9.534070  \n",
       "\n",
       "[625 rows x 18 columns]"
      ]
     },
     "execution_count": 12,
     "metadata": {},
     "output_type": "execute_result"
    }
   ],
   "source": [
    "filtered_peaks"
   ]
  },
  {
   "cell_type": "code",
   "execution_count": 31,
   "metadata": {},
   "outputs": [],
   "source": [
    "filtered_peaks['pooled_intensity'] = None\n",
    "filtered_peaks['pooled_matched_peak_ppm'] = None\n",
    "fints = []\n",
    "ppms = []\n",
    "for index, row in filtered_peaks.iterrows():\n",
    "    \n",
    "    mz = row['row m/z']\n",
    "    rt = row['row retention time']\n",
    "    #print(index, ':')\n",
    "\n",
    "   \n",
    "    ppm_closest = 3\n",
    "    found = False\n",
    "    #for _, row in frag_picked_peaks.iterrows():\n",
    "    for _, row in pooled_picked_peaks.iterrows():    \n",
    "        \n",
    "        fmz = row['row m/z']\n",
    "        frt = row['row retention time']\n",
    "        #fint = row['FRAG_POS.mzXML Peak area']\n",
    "        fint = row['pooled_10.mzXML Peak area']\n",
    "        if mz >= fmz - get_tolerance(mz, 3) and mz <=fmz + get_tolerance(mz, 3):\n",
    "            \n",
    "            if rt >= frt - 0.5 and rt <=frt + 0.5: \n",
    "                #print(fint, get_ppm(mz, fmz))\n",
    "                if get_ppm(mz, fmz) < ppm_closest:\n",
    "                    ppm_closest = get_ppm(mz, fmz)\n",
    "                    fint_closest = fint \n",
    "                    found = True\n",
    "        \n",
    "        if found:\n",
    "            filtered_peaks.at[index, 'pooled_intensity'] = fint_closest\n",
    "            filtered_peaks.at[index, 'pooled_matched_peak_ppm'] = ppm_closest"
   ]
  },
  {
   "cell_type": "code",
   "execution_count": 30,
   "metadata": {},
   "outputs": [
    {
     "data": {
      "text/html": [
       "<div>\n",
       "<style scoped>\n",
       "    .dataframe tbody tr th:only-of-type {\n",
       "        vertical-align: middle;\n",
       "    }\n",
       "\n",
       "    .dataframe tbody tr th {\n",
       "        vertical-align: top;\n",
       "    }\n",
       "\n",
       "    .dataframe thead th {\n",
       "        text-align: right;\n",
       "    }\n",
       "</style>\n",
       "<table border=\"1\" class=\"dataframe\">\n",
       "  <thead>\n",
       "    <tr style=\"text-align: right;\">\n",
       "      <th></th>\n",
       "      <th>Unnamed: 0</th>\n",
       "      <th>custom_id</th>\n",
       "      <th>row m/z</th>\n",
       "      <th>row retention time</th>\n",
       "      <th>adj-p</th>\n",
       "      <th>t-val</th>\n",
       "      <th>logFC</th>\n",
       "      <th>mal_logfc</th>\n",
       "      <th>vl_logfc</th>\n",
       "      <th>zik_logfc</th>\n",
       "      <th>...</th>\n",
       "      <th>mm_annot</th>\n",
       "      <th>hmdb_ms2_annot</th>\n",
       "      <th>mz_min</th>\n",
       "      <th>mz_max</th>\n",
       "      <th>rt_min</th>\n",
       "      <th>rt_max</th>\n",
       "      <th>frag_intensity</th>\n",
       "      <th>frag_matched_peak_ppm</th>\n",
       "      <th>pooled_intensity</th>\n",
       "      <th>pooled_matched_peak_ppm</th>\n",
       "    </tr>\n",
       "  </thead>\n",
       "  <tbody>\n",
       "    <tr>\n",
       "      <th>0</th>\n",
       "      <td>0</td>\n",
       "      <td>604</td>\n",
       "      <td>146.117582</td>\n",
       "      <td>10.726534</td>\n",
       "      <td>0.763760</td>\n",
       "      <td>0.471112</td>\n",
       "      <td>0.055667</td>\n",
       "      <td>-0.168325</td>\n",
       "      <td>1.284911</td>\n",
       "      <td>-0.039924</td>\n",
       "      <td>...</td>\n",
       "      <td>['3-dehydroxycarnitine']</td>\n",
       "      <td>NaN</td>\n",
       "      <td>146.117493</td>\n",
       "      <td>146.117676</td>\n",
       "      <td>10.497897</td>\n",
       "      <td>11.005606</td>\n",
       "      <td>None</td>\n",
       "      <td>None</td>\n",
       "      <td>4.576683e+07</td>\n",
       "      <td>0.064728</td>\n",
       "    </tr>\n",
       "    <tr>\n",
       "      <th>1</th>\n",
       "      <td>1</td>\n",
       "      <td>412</td>\n",
       "      <td>132.065596</td>\n",
       "      <td>11.575203</td>\n",
       "      <td>0.698407</td>\n",
       "      <td>0.614450</td>\n",
       "      <td>0.120474</td>\n",
       "      <td>0.136189</td>\n",
       "      <td>-2.804799</td>\n",
       "      <td>2.350000</td>\n",
       "      <td>...</td>\n",
       "      <td>['l-glutamate 5-semialdehyde; l-glutamate gamm...</td>\n",
       "      <td>Creatine</td>\n",
       "      <td>132.065491</td>\n",
       "      <td>132.065720</td>\n",
       "      <td>11.437827</td>\n",
       "      <td>11.734196</td>\n",
       "      <td>6.57822e+07</td>\n",
       "      <td>0.0101024</td>\n",
       "      <td>8.776317e+07</td>\n",
       "      <td>0.010102</td>\n",
       "    </tr>\n",
       "    <tr>\n",
       "      <th>2</th>\n",
       "      <td>2</td>\n",
       "      <td>366</td>\n",
       "      <td>130.049957</td>\n",
       "      <td>9.235738</td>\n",
       "      <td>0.000173</td>\n",
       "      <td>-4.641824</td>\n",
       "      <td>-0.649142</td>\n",
       "      <td>-0.683360</td>\n",
       "      <td>-0.743241</td>\n",
       "      <td>-0.445621</td>\n",
       "      <td>...</td>\n",
       "      <td>['5-oxoproline$l-1-pyrroline-3-hydroxy-5-carbo...</td>\n",
       "      <td>Pipecolic acid</td>\n",
       "      <td>130.049561</td>\n",
       "      <td>130.050156</td>\n",
       "      <td>9.025411</td>\n",
       "      <td>9.429342</td>\n",
       "      <td>None</td>\n",
       "      <td>None</td>\n",
       "      <td>1.970929e+07</td>\n",
       "      <td>0.117910</td>\n",
       "    </tr>\n",
       "    <tr>\n",
       "      <th>3</th>\n",
       "      <td>3</td>\n",
       "      <td>615</td>\n",
       "      <td>147.076406</td>\n",
       "      <td>10.106348</td>\n",
       "      <td>0.027475</td>\n",
       "      <td>2.737149</td>\n",
       "      <td>3.225662</td>\n",
       "      <td>-2.736787</td>\n",
       "      <td>12.625208</td>\n",
       "      <td>6.909235</td>\n",
       "      <td>...</td>\n",
       "      <td>['l-glutamine$3-ureidoisobutyrate$d-glutamine;...</td>\n",
       "      <td>NaN</td>\n",
       "      <td>147.076218</td>\n",
       "      <td>147.076538</td>\n",
       "      <td>10.022898</td>\n",
       "      <td>10.216737</td>\n",
       "      <td>None</td>\n",
       "      <td>None</td>\n",
       "      <td>1.031035e+06</td>\n",
       "      <td>0.241784</td>\n",
       "    </tr>\n",
       "    <tr>\n",
       "      <th>4</th>\n",
       "      <td>4</td>\n",
       "      <td>241</td>\n",
       "      <td>118.086226</td>\n",
       "      <td>10.406101</td>\n",
       "      <td>0.902503</td>\n",
       "      <td>-0.189197</td>\n",
       "      <td>-0.017892</td>\n",
       "      <td>0.054432</td>\n",
       "      <td>-1.060083</td>\n",
       "      <td>-0.217337</td>\n",
       "      <td>...</td>\n",
       "      <td>['6-amino-2-oxohexanoate; 2-oxo-6-aminocaproat...</td>\n",
       "      <td>NaN</td>\n",
       "      <td>118.086121</td>\n",
       "      <td>118.086288</td>\n",
       "      <td>10.043342</td>\n",
       "      <td>10.814568</td>\n",
       "      <td>3.95814e+09</td>\n",
       "      <td>0.572866</td>\n",
       "      <td>8.625094e+08</td>\n",
       "      <td>0.137830</td>\n",
       "    </tr>\n",
       "    <tr>\n",
       "      <th>...</th>\n",
       "      <td>...</td>\n",
       "      <td>...</td>\n",
       "      <td>...</td>\n",
       "      <td>...</td>\n",
       "      <td>...</td>\n",
       "      <td>...</td>\n",
       "      <td>...</td>\n",
       "      <td>...</td>\n",
       "      <td>...</td>\n",
       "      <td>...</td>\n",
       "      <td>...</td>\n",
       "      <td>...</td>\n",
       "      <td>...</td>\n",
       "      <td>...</td>\n",
       "      <td>...</td>\n",
       "      <td>...</td>\n",
       "      <td>...</td>\n",
       "      <td>...</td>\n",
       "      <td>...</td>\n",
       "      <td>...</td>\n",
       "      <td>...</td>\n",
       "    </tr>\n",
       "    <tr>\n",
       "      <th>620</th>\n",
       "      <td>620</td>\n",
       "      <td>748</td>\n",
       "      <td>156.138400</td>\n",
       "      <td>4.388823</td>\n",
       "      <td>0.907824</td>\n",
       "      <td>-0.177205</td>\n",
       "      <td>-0.323015</td>\n",
       "      <td>-0.032081</td>\n",
       "      <td>-0.064352</td>\n",
       "      <td>2.919773</td>\n",
       "      <td>...</td>\n",
       "      <td>NaN</td>\n",
       "      <td>NaN</td>\n",
       "      <td>156.138260</td>\n",
       "      <td>156.138580</td>\n",
       "      <td>4.236312</td>\n",
       "      <td>4.554936</td>\n",
       "      <td>None</td>\n",
       "      <td>None</td>\n",
       "      <td>6.376939e+06</td>\n",
       "      <td>0.112349</td>\n",
       "    </tr>\n",
       "    <tr>\n",
       "      <th>621</th>\n",
       "      <td>621</td>\n",
       "      <td>2864</td>\n",
       "      <td>732.608222</td>\n",
       "      <td>3.341070</td>\n",
       "      <td>0.934623</td>\n",
       "      <td>-0.116698</td>\n",
       "      <td>-0.291068</td>\n",
       "      <td>-0.052804</td>\n",
       "      <td>-4.449712</td>\n",
       "      <td>6.297677</td>\n",
       "      <td>...</td>\n",
       "      <td>NaN</td>\n",
       "      <td>NaN</td>\n",
       "      <td>732.606323</td>\n",
       "      <td>732.610107</td>\n",
       "      <td>3.327451</td>\n",
       "      <td>4.087704</td>\n",
       "      <td>None</td>\n",
       "      <td>None</td>\n",
       "      <td>1.736547e+07</td>\n",
       "      <td>2.925572</td>\n",
       "    </tr>\n",
       "    <tr>\n",
       "      <th>622</th>\n",
       "      <td>622</td>\n",
       "      <td>3975</td>\n",
       "      <td>243.948089</td>\n",
       "      <td>10.077530</td>\n",
       "      <td>0.946951</td>\n",
       "      <td>0.089735</td>\n",
       "      <td>0.228912</td>\n",
       "      <td>2.939581</td>\n",
       "      <td>1.227443</td>\n",
       "      <td>-3.665324</td>\n",
       "      <td>...</td>\n",
       "      <td>NaN</td>\n",
       "      <td>NaN</td>\n",
       "      <td>243.947510</td>\n",
       "      <td>243.948410</td>\n",
       "      <td>9.682411</td>\n",
       "      <td>10.368746</td>\n",
       "      <td>None</td>\n",
       "      <td>None</td>\n",
       "      <td>3.710854e+06</td>\n",
       "      <td>0.128376</td>\n",
       "    </tr>\n",
       "    <tr>\n",
       "      <th>623</th>\n",
       "      <td>623</td>\n",
       "      <td>269</td>\n",
       "      <td>120.092920</td>\n",
       "      <td>10.404522</td>\n",
       "      <td>0.970970</td>\n",
       "      <td>0.048267</td>\n",
       "      <td>0.005691</td>\n",
       "      <td>2.691986</td>\n",
       "      <td>1.205481</td>\n",
       "      <td>-0.050877</td>\n",
       "      <td>...</td>\n",
       "      <td>NaN</td>\n",
       "      <td>NaN</td>\n",
       "      <td>120.092728</td>\n",
       "      <td>120.093018</td>\n",
       "      <td>10.327883</td>\n",
       "      <td>10.518321</td>\n",
       "      <td>None</td>\n",
       "      <td>None</td>\n",
       "      <td>8.375762e+05</td>\n",
       "      <td>0.117033</td>\n",
       "    </tr>\n",
       "    <tr>\n",
       "      <th>624</th>\n",
       "      <td>624</td>\n",
       "      <td>1154</td>\n",
       "      <td>186.112544</td>\n",
       "      <td>9.397406</td>\n",
       "      <td>0.984414</td>\n",
       "      <td>-0.021592</td>\n",
       "      <td>-0.017109</td>\n",
       "      <td>-0.118956</td>\n",
       "      <td>-1.894797</td>\n",
       "      <td>2.293132</td>\n",
       "      <td>...</td>\n",
       "      <td>NaN</td>\n",
       "      <td>NaN</td>\n",
       "      <td>186.112411</td>\n",
       "      <td>186.112762</td>\n",
       "      <td>9.195868</td>\n",
       "      <td>9.534070</td>\n",
       "      <td>5.18297e+07</td>\n",
       "      <td>0.218407</td>\n",
       "      <td>6.878233e+05</td>\n",
       "      <td>0.068547</td>\n",
       "    </tr>\n",
       "  </tbody>\n",
       "</table>\n",
       "<p>625 rows × 22 columns</p>\n",
       "</div>"
      ],
      "text/plain": [
       "     Unnamed: 0  custom_id     row m/z  row retention time     adj-p  \\\n",
       "0             0        604  146.117582           10.726534  0.763760   \n",
       "1             1        412  132.065596           11.575203  0.698407   \n",
       "2             2        366  130.049957            9.235738  0.000173   \n",
       "3             3        615  147.076406           10.106348  0.027475   \n",
       "4             4        241  118.086226           10.406101  0.902503   \n",
       "..          ...        ...         ...                 ...       ...   \n",
       "620         620        748  156.138400            4.388823  0.907824   \n",
       "621         621       2864  732.608222            3.341070  0.934623   \n",
       "622         622       3975  243.948089           10.077530  0.946951   \n",
       "623         623        269  120.092920           10.404522  0.970970   \n",
       "624         624       1154  186.112544            9.397406  0.984414   \n",
       "\n",
       "        t-val     logFC  mal_logfc   vl_logfc  zik_logfc  ...  \\\n",
       "0    0.471112  0.055667  -0.168325   1.284911  -0.039924  ...   \n",
       "1    0.614450  0.120474   0.136189  -2.804799   2.350000  ...   \n",
       "2   -4.641824 -0.649142  -0.683360  -0.743241  -0.445621  ...   \n",
       "3    2.737149  3.225662  -2.736787  12.625208   6.909235  ...   \n",
       "4   -0.189197 -0.017892   0.054432  -1.060083  -0.217337  ...   \n",
       "..        ...       ...        ...        ...        ...  ...   \n",
       "620 -0.177205 -0.323015  -0.032081  -0.064352   2.919773  ...   \n",
       "621 -0.116698 -0.291068  -0.052804  -4.449712   6.297677  ...   \n",
       "622  0.089735  0.228912   2.939581   1.227443  -3.665324  ...   \n",
       "623  0.048267  0.005691   2.691986   1.205481  -0.050877  ...   \n",
       "624 -0.021592 -0.017109  -0.118956  -1.894797   2.293132  ...   \n",
       "\n",
       "                                              mm_annot  hmdb_ms2_annot  \\\n",
       "0                             ['3-dehydroxycarnitine']             NaN   \n",
       "1    ['l-glutamate 5-semialdehyde; l-glutamate gamm...        Creatine   \n",
       "2    ['5-oxoproline$l-1-pyrroline-3-hydroxy-5-carbo...  Pipecolic acid   \n",
       "3    ['l-glutamine$3-ureidoisobutyrate$d-glutamine;...             NaN   \n",
       "4    ['6-amino-2-oxohexanoate; 2-oxo-6-aminocaproat...             NaN   \n",
       "..                                                 ...             ...   \n",
       "620                                                NaN             NaN   \n",
       "621                                                NaN             NaN   \n",
       "622                                                NaN             NaN   \n",
       "623                                                NaN             NaN   \n",
       "624                                                NaN             NaN   \n",
       "\n",
       "         mz_min      mz_max     rt_min     rt_max  frag_intensity  \\\n",
       "0    146.117493  146.117676  10.497897  11.005606            None   \n",
       "1    132.065491  132.065720  11.437827  11.734196     6.57822e+07   \n",
       "2    130.049561  130.050156   9.025411   9.429342            None   \n",
       "3    147.076218  147.076538  10.022898  10.216737            None   \n",
       "4    118.086121  118.086288  10.043342  10.814568     3.95814e+09   \n",
       "..          ...         ...        ...        ...             ...   \n",
       "620  156.138260  156.138580   4.236312   4.554936            None   \n",
       "621  732.606323  732.610107   3.327451   4.087704            None   \n",
       "622  243.947510  243.948410   9.682411  10.368746            None   \n",
       "623  120.092728  120.093018  10.327883  10.518321            None   \n",
       "624  186.112411  186.112762   9.195868   9.534070     5.18297e+07   \n",
       "\n",
       "     frag_matched_peak_ppm pooled_intensity pooled_matched_peak_ppm  \n",
       "0                     None     4.576683e+07                0.064728  \n",
       "1                0.0101024     8.776317e+07                0.010102  \n",
       "2                     None     1.970929e+07                0.117910  \n",
       "3                     None     1.031035e+06                0.241784  \n",
       "4                 0.572866     8.625094e+08                0.137830  \n",
       "..                     ...              ...                     ...  \n",
       "620                   None     6.376939e+06                0.112349  \n",
       "621                   None     1.736547e+07                2.925572  \n",
       "622                   None     3.710854e+06                0.128376  \n",
       "623                   None     8.375762e+05                0.117033  \n",
       "624               0.218407     6.878233e+05                0.068547  \n",
       "\n",
       "[625 rows x 22 columns]"
      ]
     },
     "execution_count": 30,
     "metadata": {},
     "output_type": "execute_result"
    }
   ],
   "source": [
    "filtered_peaks"
   ]
  },
  {
   "cell_type": "code",
   "execution_count": 32,
   "metadata": {},
   "outputs": [],
   "source": [
    "filtered_peaks.to_csv('/Volumes/Transcend2/17_20_PhD/19_20_PhD_Metabolomics/positive_mode/limma_independent_toptable_features_boxes_individual_logfc_annotated_pooled_info.csv')"
   ]
  },
  {
   "cell_type": "code",
   "execution_count": 22,
   "metadata": {},
   "outputs": [
    {
     "name": "stdout",
     "output_type": "stream",
     "text": [
      "169583.81183398498\n"
     ]
    },
    {
     "data": {
      "image/png": "[encoded data removed]",
      "text/plain": [
       "<Figure size 432x288 with 1 Axes>"
      ]
     },
     "metadata": {
      "needs_background": "light"
     },
     "output_type": "display_data"
    }
   ],
   "source": [
    "import matplotlib.pyplot as plt\n",
    "plt.hist(filtered_peaks['pooled_intensity'], bins=20)\n",
    "#plt.xlim(1e4, 2e9)\n",
    "print(np.min(filtered_peaks['pooled_intensity']))"
   ]
  },
  {
   "cell_type": "code",
   "execution_count": 48,
   "metadata": {},
   "outputs": [
    {
     "data": {
      "text/plain": [
       "635"
      ]
     },
     "execution_count": 48,
     "metadata": {},
     "output_type": "execute_result"
    }
   ],
   "source": [
    "len(ppms)"
   ]
  },
  {
   "cell_type": "code",
   "execution_count": 24,
   "metadata": {},
   "outputs": [
    {
     "data": {
      "text/plain": [
       "(array([292., 165.,  59.,  30.,  17.,  12.,  10.,   2.,   6.,   1.,   2.,\n",
       "          2.,   0.,   0.,   0.,   1.,   0.,   0.,   0.,   1.]),\n",
       " array([1.55909458e-03, 1.47759763e-01, 2.93960431e-01, 4.40161099e-01,\n",
       "        5.86361767e-01, 7.32562435e-01, 8.78763103e-01, 1.02496377e+00,\n",
       "        1.17116444e+00, 1.31736511e+00, 1.46356578e+00, 1.60976644e+00,\n",
       "        1.75596711e+00, 1.90216778e+00, 2.04836845e+00, 2.19456912e+00,\n",
       "        2.34076978e+00, 2.48697045e+00, 2.63317112e+00, 2.77937179e+00,\n",
       "        2.92557246e+00]),\n",
       " <a list of 20 Patch objects>)"
      ]
     },
     "execution_count": 24,
     "metadata": {},
     "output_type": "execute_result"
    },
    {
     "data": {
      "image/png": "[encoded data removed]",
      "text/plain": [
       "<Figure size 432x288 with 1 Axes>"
      ]
     },
     "metadata": {
      "needs_background": "light"
     },
     "output_type": "display_data"
    }
   ],
   "source": [
    "plt.hist(filtered_peaks['pooled_matched_peak_ppm'], bins = 20)"
   ]
  },
  {
   "cell_type": "code",
   "execution_count": 10,
   "metadata": {},
   "outputs": [],
   "source": [
    "def get_ppm(mz, fmz):\n",
    "    tolerance = np.abs(fmz - mz)\n",
    "    ppm = tolerance*1e6/mz\n",
    "    return ppm"
   ]
  },
  {
   "cell_type": "code",
   "execution_count": 8,
   "metadata": {},
   "outputs": [
    {
     "name": "stdout",
     "output_type": "stream",
     "text": [
      "row ID\n",
      "row m/z\n",
      "row retention time\n",
      "FRAG_POS.mzXML Peak area\n",
      "Unnamed: 4\n"
     ]
    }
   ],
   "source": [
    "for _, row in frag_picked_peaks.iterrows():\n",
    "    fmz = row['row m/z']\n",
    "    frt = row['row retention time']\n",
    "    fint = row['FRAG_POS.mzXML Peak area']"
   ]
  },
  {
   "cell_type": "code",
   "execution_count": null,
   "metadata": {},
   "outputs": [],
   "source": [
    "ppm_mz = 3\n",
    "ppm_rt = 3.0\n",
    "count_rt = 0\n",
    "count_spec = 0\n",
    "max_int_peaks = []\n",
    "specs_names = []\n",
    "for mz in filtered_peaks:\n",
    "    \n",
    "    filtered_peaks_rt =  filtered_peaks[mz][1]\n",
    "    filtered_peaks_spec = filtered_peaks[mz][6]\n",
    "    ppm = get_tolerance(mz, ppm_mz)\n",
    "    try:\n",
    "       \n",
    "        for _, row in frag_picked_peaks.iterrows():\n",
    "    fmz = row['row m/z']\n",
    "    frt = row['row retention time']\n",
    "    fint = row['FRAG_POS.mzXML Peak area']\n",
    "    except AttributeError:\n",
    "        print(\"no peak found\",mz)\n",
    "    \n",
    "    if filtered_peaks_spec != None:\n",
    "        count_spec +=1\n",
    "        for spec in filtered_peaks_spec.keys():\n",
    "            specs_names.append(spec)"
   ]
  },
  {
   "cell_type": "code",
   "execution_count": 18,
   "metadata": {},
   "outputs": [
    {
     "data": {
      "text/plain": [
       "601"
      ]
     },
     "execution_count": 18,
     "metadata": {},
     "output_type": "execute_result"
    }
   ],
   "source": [
    "len(max_int_peaks)"
   ]
  },
  {
   "cell_type": "code",
   "execution_count": 45,
   "metadata": {},
   "outputs": [],
   "source": [
    "ints = [i[2] for i in max_int_peaks]\n",
    "rts = [i[1] for i in max_int_peaks]\n",
    "mzs = [i[0] for i in max_int_peaks]\n"
   ]
  },
  {
   "cell_type": "code",
   "execution_count": 44,
   "metadata": {},
   "outputs": [
    {
     "name": "stdout",
     "output_type": "stream",
     "text": [
      "Lowest intensity: 2145.0684058222005 \n",
      "Highest intensity: 338174176.0\n"
     ]
    }
   ],
   "source": [
    "print(\"Lowest intensity: {} \\nHighest intensity: {}\".format(np.min(ints), np.max(ints)))"
   ]
  },
  {
   "cell_type": "code",
   "execution_count": 48,
   "metadata": {},
   "outputs": [
    {
     "data": {
      "text/plain": [
       "Text(0, 0.5, 'Intensity')"
      ]
     },
     "execution_count": 48,
     "metadata": {},
     "output_type": "execute_result"
    },
    {
     "data": {
      "image/png": "[encoded data removed]",
      "text/plain": [
       "<Figure size 432x288 with 1 Axes>"
      ]
     },
     "metadata": {
      "needs_background": "light"
     },
     "output_type": "display_data"
    }
   ],
   "source": [
    "plt.plot(rts, ints, \".\")\n",
    "plt.xlabel(\"RT(s)\")\n",
    "plt.ylabel(\"Intensity\")"
   ]
  },
  {
   "cell_type": "code",
   "execution_count": 63,
   "metadata": {
    "scrolled": true
   },
   "outputs": [
    {
     "data": {
      "text/plain": [
       "(array([549.,  26.,   9.,   7.,   2.,   0.,   0.,   2.,   1.,   2.,   0.,\n",
       "          1.,   0.,   1.,   0.,   0.,   0.,   0.,   0.,   0.,   0.,   1.,\n",
       "          1.,   0.,   0.,   1.,   0.,   0.,   0.,   0.,   0.,   0.,   0.,\n",
       "          0.,   0.,   0.,   0.,   0.,   0.,   0.,   0.,   0.,   0.,   0.,\n",
       "          0.,   0.,   0.,   0.,   0.,   1.]),\n",
       " array([2.14506841e+03, 6.76558569e+06, 1.35290263e+07, 2.02924669e+07,\n",
       "        2.70559075e+07, 3.38193482e+07, 4.05827888e+07, 4.73462294e+07,\n",
       "        5.41096700e+07, 6.08731106e+07, 6.76365513e+07, 7.43999919e+07,\n",
       "        8.11634325e+07, 8.79268731e+07, 9.46903137e+07, 1.01453754e+08,\n",
       "        1.08217195e+08, 1.14980636e+08, 1.21744076e+08, 1.28507517e+08,\n",
       "        1.35270957e+08, 1.42034398e+08, 1.48797839e+08, 1.55561279e+08,\n",
       "        1.62324720e+08, 1.69088161e+08, 1.75851601e+08, 1.82615042e+08,\n",
       "        1.89378482e+08, 1.96141923e+08, 2.02905364e+08, 2.09668804e+08,\n",
       "        2.16432245e+08, 2.23195685e+08, 2.29959126e+08, 2.36722567e+08,\n",
       "        2.43486007e+08, 2.50249448e+08, 2.57012889e+08, 2.63776329e+08,\n",
       "        2.70539770e+08, 2.77303210e+08, 2.84066651e+08, 2.90830092e+08,\n",
       "        2.97593532e+08, 3.04356973e+08, 3.11120414e+08, 3.17883854e+08,\n",
       "        3.24647295e+08, 3.31410735e+08, 3.38174176e+08]),\n",
       " <a list of 50 Patch objects>)"
      ]
     },
     "execution_count": 63,
     "metadata": {},
     "output_type": "execute_result"
    },
    {
     "data": {
      "image/png": "[encoded data removed]",
      "text/plain": [
       "<Figure size 432x288 with 1 Axes>"
      ]
     },
     "metadata": {
      "needs_background": "light"
     },
     "output_type": "display_data"
    }
   ],
   "source": [
    "plt.hist(ints, bins = 50)\n"
   ]
  },
  {
   "cell_type": "code",
   "execution_count": 20,
   "metadata": {},
   "outputs": [
    {
     "name": "stdout",
     "output_type": "stream",
     "text": [
      "Number of peaks with spectra already attached to them: 215\n"
     ]
    }
   ],
   "source": [
    "print(\"Number of peaks with spectra already attached to them: {}\".format(count_spec))"
   ]
  },
  {
   "cell_type": "code",
   "execution_count": 30,
   "metadata": {},
   "outputs": [
    {
     "data": {
      "text/plain": [
       "Text(0.5, 0, 'Datasets')"
      ]
     },
     "execution_count": 30,
     "metadata": {},
     "output_type": "execute_result"
    },
    {
     "data": {
      "image/png": "[encoded data removed]",
      "text/plain": [
       "<Figure size 432x288 with 1 Axes>"
      ]
     },
     "metadata": {
      "needs_background": "light"
     },
     "output_type": "display_data"
    }
   ],
   "source": [
    "plt.bar((\"Zika Spec\", \"Mal Spec\", \"VL Spec\"), \n",
    "        (specs_names.count('gnps2'), specs_names.count('frag_pos_mal'), specs_names.count('frag_pos_vl')))\n",
    "plt.ylabel(\"Number of peaks\")\n",
    "plt.xlabel(\"Datasets\")\n",
    "\n",
    "\n"
   ]
  },
  {
   "cell_type": "code",
   "execution_count": null,
   "metadata": {},
   "outputs": [],
   "source": []
  },
  {
   "cell_type": "code",
   "execution_count": null,
   "metadata": {},
   "outputs": [],
   "source": []
  },
  {
   "cell_type": "code",
   "execution_count": null,
   "metadata": {},
   "outputs": [],
   "source": [
    "from gpr_utils import get_drift_gpr_model\n",
    "from gpr_utils import try_gp_regressions"
   ]
  },
  {
   "cell_type": "code",
   "execution_count": null,
   "metadata": {},
   "outputs": [],
   "source": [
    "drift_model, accuracy, mae, mse = get_drift_gpr_model(old_mzml_rts, new_mzml_rts, 0.7, True)\n",
    "#print(drift_model)"
   ]
  },
  {
   "cell_type": "code",
   "execution_count": null,
   "metadata": {},
   "outputs": [],
   "source": [
    "zscore_list = [0.2, 0.3, 0.4, 0.5, 0.6, 0.7, 0.8, 0.9, 1.0, 1.1, 1.2, 1.3, 1.4, 1.5, 1.6, 1.7, 1.8, 1.9, 2.0]"
   ]
  },
  {
   "cell_type": "code",
   "execution_count": null,
   "metadata": {},
   "outputs": [],
   "source": [
    "accuracy_list = []\n",
    "mae_list = []\n",
    "for zscore in zscore_list:\n",
    "    drift_model, accuracy, mae, mse = get_drift_gpr_model(old_mzml_rts, new_mzml_rts, zscore)\n",
    "    accuracy_list.append(accuracy)\n",
    "    mae_list.append(mae)"
   ]
  },
  {
   "cell_type": "code",
   "execution_count": null,
   "metadata": {},
   "outputs": [],
   "source": [
    "import matplotlib.pyplot as plt\n",
    "plt.plot(zscore_list, accuracy_list)"
   ]
  },
  {
   "cell_type": "code",
   "execution_count": null,
   "metadata": {},
   "outputs": [],
   "source": [
    "plt.plot(zscore_list, mae_list)"
   ]
  },
  {
   "cell_type": "code",
   "execution_count": null,
   "metadata": {},
   "outputs": [],
   "source": []
  },
  {
   "cell_type": "code",
   "execution_count": null,
   "metadata": {},
   "outputs": [],
   "source": []
  },
  {
   "cell_type": "code",
   "execution_count": null,
   "metadata": {},
   "outputs": [],
   "source": []
  }
 ],
 "metadata": {
  "kernelspec": {
   "display_name": "Python 3 (ipykernel)",
   "language": "python",
   "name": "python3"
  },
  "language_info": {
   "codemirror_mode": {
    "name": "ipython",
    "version": 3
   },
   "file_extension": ".py",
   "mimetype": "text/x-python",
   "name": "python",
   "nbconvert_exporter": "python",
   "pygments_lexer": "ipython3",
   "version": "3.9.10"
  }
 },
 "nbformat": 4,
 "nbformat_minor": 4
}
