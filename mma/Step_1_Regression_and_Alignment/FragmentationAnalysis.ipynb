{
 "cells": [
  {
   "cell_type": "code",
   "execution_count": 1,
   "metadata": {},
   "outputs": [],
   "source": [
    "%load_ext autoreload\n",
    "%autoreload 2"
   ]
  },
  {
   "cell_type": "code",
   "execution_count": 2,
   "metadata": {},
   "outputs": [],
   "source": [
    "import glob\n",
    "import os\n",
    "import sys\n",
    "import pickle\n",
    "import numpy as np\n",
    "import pandas as pd\n",
    "import matplotlib.pyplot as plt\n",
    "import mass_spec_utils"
   ]
  },
  {
   "cell_type": "code",
   "execution_count": 3,
   "metadata": {},
   "outputs": [],
   "source": [
    "WIN = 'D:/'\n",
    "MAC = '/Volumes/Transcend2/17_20_PhD/19_20_PhD_Metabolomics/'\n",
    "\n",
    "osp = MAC"
   ]
  },
  {
   "cell_type": "code",
   "execution_count": null,
   "metadata": {},
   "outputs": [],
   "source": []
  },
  {
   "cell_type": "markdown",
   "metadata": {},
   "source": [
    "Running standards. First of all, we need to be able to read the new mzML file or csv file. Let's try first with the mzML file."
   ]
  },
  {
   "cell_type": "code",
   "execution_count": 4,
   "metadata": {},
   "outputs": [],
   "source": [
    "new_mzml_file = \"/Volumes/Transcend2/17_20_PhD/19_20_PhD_Metabolomics/Metabolomics_datasets/Zika/Positive/Standards/Std1_1_23Oct18.mzML\"\n",
    "old_mzml_file = \"/Volumes/Transcend2/17_20_PhD/19_20_PhD_Metabolomics/Metabolomics_datasets/Zika/Positive/Standards/Std1_2_23Oct18.mzML\""
   ]
  },
  {
   "cell_type": "markdown",
   "metadata": {},
   "source": [
    "Next, we need to extract the standards from inside the new_mzml file.\n",
    "In order to do this, I quess I will use the method Simon suggested, i.e. choose m/z with highest intensities\n",
    "(search for method in his code). "
   ]
  },
  {
   "cell_type": "code",
   "execution_count": 5,
   "metadata": {},
   "outputs": [],
   "source": [
    "from mass_spec_utils.data_import.mzml import MZMLFile"
   ]
  },
  {
   "cell_type": "code",
   "execution_count": 6,
   "metadata": {},
   "outputs": [
    {
     "name": "stdout",
     "output_type": "stream",
     "text": [
      "Loaded 1185 scans\n",
      "Loaded 1192 scans\n"
     ]
    }
   ],
   "source": [
    "new_mzml = MZMLFile(new_mzml_file)\n",
    "old_mzml = MZMLFile(old_mzml_file)"
   ]
  },
  {
   "cell_type": "markdown",
   "metadata": {},
   "source": [
    "Next, extract the standards from inside the old_mzml file in the same way as above."
   ]
  },
  {
   "cell_type": "code",
   "execution_count": 7,
   "metadata": {},
   "outputs": [],
   "source": [
    "standards_list_file = \"/Volumes/Transcend2/17_20_PhD/19_20_PhD_Metabolomics/Metabolomics_datasets/standards_list.csv\"\n",
    "standards = pd.read_csv(standards_list_file)"
   ]
  },
  {
   "cell_type": "code",
   "execution_count": 8,
   "metadata": {},
   "outputs": [],
   "source": [
    "sys.path.append(\"../\")\n",
    "import metab_utils"
   ]
  },
  {
   "cell_type": "code",
   "execution_count": 11,
   "metadata": {},
   "outputs": [],
   "source": [
    "standards_list = metab_utils.create_std_dict_by_mz(standards, polarity = '+')\n",
    "with open(osp+'Metabolomics_datasets/standards_list.dict', 'wb') as handle:\n",
    "    pickle.dump(standards_list, handle)"
   ]
  },
  {
   "cell_type": "code",
   "execution_count": 99,
   "metadata": {
    "collapsed": true
   },
   "outputs": [
    {
     "ename": "TypeError",
     "evalue": "unsupported operand type(s) for -: 'list' and 'list'",
     "output_type": "error",
     "traceback": [
      "\u001b[0;31m---------------------------------------------------------------------------\u001b[0m",
      "\u001b[0;31mTypeError\u001b[0m                                 Traceback (most recent call last)",
      "\u001b[0;32m<ipython-input-99-f0eece463825>\u001b[0m in \u001b[0;36m<module>\u001b[0;34m\u001b[0m\n\u001b[1;32m      9\u001b[0m \u001b[0;34m\u001b[0m\u001b[0m\n\u001b[1;32m     10\u001b[0m \u001b[0;32mfrom\u001b[0m \u001b[0mmetab_utils\u001b[0m \u001b[0;32mimport\u001b[0m \u001b[0mtry_gp_regressions\u001b[0m\u001b[0;34m\u001b[0m\u001b[0;34m\u001b[0m\u001b[0m\n\u001b[0;32m---> 11\u001b[0;31m \u001b[0mmodel\u001b[0m\u001b[0;34m,\u001b[0m \u001b[0mkernel\u001b[0m\u001b[0;34m,\u001b[0m \u001b[0mresults\u001b[0m \u001b[0;34m=\u001b[0m \u001b[0mtry_gp_regressions\u001b[0m\u001b[0;34m(\u001b[0m\u001b[0mnew_mzml_rts\u001b[0m\u001b[0;34m,\u001b[0m \u001b[0mold_mzml_rts\u001b[0m\u001b[0;34m-\u001b[0m\u001b[0mnew_mzml_rts\u001b[0m\u001b[0;34m)\u001b[0m\u001b[0;34m\u001b[0m\u001b[0;34m\u001b[0m\u001b[0m\n\u001b[0m",
      "\u001b[0;31mTypeError\u001b[0m: unsupported operand type(s) for -: 'list' and 'list'"
     ]
    }
   ],
   "source": [
    "new_mzml_rts = []\n",
    "old_mzml_rts = []\n",
    "ppm = 0.1\n",
    "for mz in standards_list:\n",
    "    new_rt = new_mzml.get_max_intensity(mz_min = mz - ppm , mz_max = mz +ppm)[1]\n",
    "    new_mzml_rts.append(new_rt/60)\n",
    "    old_rt = old_mzml.get_max_intensity(mz_min = mz - ppm , mz_max = mz +ppm)[1]\n",
    "    old_mzml_rts.append(old_rt/60)"
   ]
  },
  {
   "cell_type": "code",
   "execution_count": 138,
   "metadata": {},
   "outputs": [
    {
     "name": "stdout",
     "output_type": "stream",
     "text": [
      "Choosing the optimal kernel...\n",
      "Cross-Predicted Accuracy for RBF : -0.02374298407141029\n",
      "Mean absolute error for RBF : 0.023185903893535344\n",
      "Mean squared error for RBF : 0.0008304628192384405\n",
      "Cross-Predicted Accuracy for MLP : -0.023731728941047914\n",
      "Mean absolute error for MLP : 0.023185817730390537\n",
      "Mean squared error for MLP : 0.0008304536890490891\n"
     ]
    },
    {
     "name": "stderr",
     "output_type": "stream",
     "text": [
      " /Users/anamaria/.pyenv/versions/3.8.1/lib/python3.8/site-packages/GPy/kern/src/rbf.py:52: RuntimeWarning:overflow encountered in square\n",
      " /Users/anamaria/.pyenv/versions/3.8.1/lib/python3.8/site-packages/GPy/kern/src/stationary.py:168: RuntimeWarning:overflow encountered in true_divide\n",
      " /Users/anamaria/.pyenv/versions/3.8.1/lib/python3.8/site-packages/GPy/kern/src/rbf.py:76: RuntimeWarning:invalid value encountered in multiply\n"
     ]
    },
    {
     "name": "stdout",
     "output_type": "stream",
     "text": [
      "Cross-Predicted Accuracy for MLP+RBF : 0.0006497385495928265\n",
      "Mean absolute error for MLP+RBF : 0.023448190464706066\n",
      "Mean squared error for MLP+RBF : 0.00081067538282918\n",
      "Cross-Predicted Accuracy for MLP*RBF : 0.19930708724168245\n",
      "Mean absolute error for MLP*RBF : 0.022213923876467787\n",
      "Mean squared error for MLP*RBF : 0.0006495240543959892\n",
      "Cross-Predicted Accuracy for Cosine*RBF : 0.17520470570321045\n",
      "Mean absolute error for Cosine*RBF : 0.02241888562213524\n",
      "Mean squared error for Cosine*RBF : 0.000669075965407087\n",
      "Cross-Predicted Accuracy for Cosine+RBF : -0.023742995522954224\n",
      "Mean absolute error for Cosine+RBF : 0.023185903221073945\n",
      "Mean squared error for Cosine+RBF : 0.000830462828527961\n",
      "Final kernel: MLP*RBF\n"
     ]
    }
   ],
   "source": [
    "from metab_utils import return_data_with_no_outliers\n",
    "new_mzml_rts_mod, old_mzml_rts_mod = return_data_with_no_outliers(new_mzml_rts, old_mzml_rts, np.subtract(new_mzml_rts,old_mzml_rts), 1)\n",
    "\n",
    "print(\"Choosing the optimal kernel...\")\n",
    "from metab_utils import try_gp_regressions\n",
    "model, kernel, results = try_gp_regressions(np.array(new_mzml_rts_mod), np.array(old_mzml_rts_mod)-np.array(new_mzml_rts_mod))"
   ]
  },
  {
   "cell_type": "code",
   "execution_count": 122,
   "metadata": {},
   "outputs": [
    {
     "name": "stdout",
     "output_type": "stream",
     "text": [
      "  \u001b[1mmul.               \u001b[0;0m  |                  value  |  constraints  |  priors\n",
      "  \u001b[1mmlp.variance       \u001b[0;0m  |    0.00859869660799844  |      +ve      |        \n",
      "  \u001b[1mmlp.weight_variance\u001b[0;0m  |    0.08449223528336045  |      +ve      |        \n",
      "  \u001b[1mmlp.bias_variance  \u001b[0;0m  |  3.842095366246017e-06  |      +ve      |        \n",
      "  \u001b[1mrbf.variance       \u001b[0;0m  |     0.2163663945107785  |      +ve      |        \n",
      "  \u001b[1mrbf.lengthscale    \u001b[0;0m  |      4.817996008776943  |      +ve      |        \n",
      "Optimization restart 1/10, f = -95.4689809652259\n",
      "Optimization restart 2/10, f = -95.4689788678081\n",
      "Optimization restart 3/10, f = -95.46898102327347\n",
      "Optimization restart 4/10, f = -95.46898021160862\n",
      "Optimization restart 5/10, f = -95.46898099331186\n",
      "Optimization restart 6/10, f = -95.46897850025124\n",
      "Optimization restart 7/10, f = -95.46898114570247\n",
      "Optimization restart 8/10, f = -95.46897832427607\n",
      "Optimization restart 9/10, f = -95.46898122079565\n",
      "Optimization restart 10/10, f = -95.46898130706933\n"
     ]
    },
    {
     "data": {
      "text/plain": [
       "{'dataplot': [<matplotlib.collections.PathCollection at 0x115345700>],\n",
       " 'gpmean': [[<matplotlib.lines.Line2D at 0x115345ee0>]],\n",
       " 'gpconfidence': [<matplotlib.collections.PolyCollection at 0x11d4f38e0>]}"
      ]
     },
     "execution_count": 122,
     "metadata": {},
     "output_type": "execute_result"
    },
    {
     "data": {
      "image/png": "[encoded data removed]",
      "text/plain": [
       "<Figure size 432x288 with 1 Axes>"
      ]
     },
     "metadata": {
      "needs_background": "light"
     },
     "output_type": "display_data"
    }
   ],
   "source": [
    "model.optimize_restarts(10)\n",
    "print(model.parameters[0])\n",
    "model.plot()"
   ]
  },
  {
   "cell_type": "markdown",
   "metadata": {},
   "source": []
  },
  {
   "cell_type": "markdown",
   "metadata": {},
   "source": [
    "Create method encapsulating the code in this notebook."
   ]
  },
  {
   "cell_type": "code",
   "execution_count": 30,
   "metadata": {},
   "outputs": [],
   "source": [
    "def get_gp_for_new_file(new_mzml_file, old_mzml_file, standards_list, mz_ppm = 0.1, zscore = 1):\n",
    "    from mass_spec_utils.data_import.mzml import MZMLFile\n",
    "    print(\"Creating MZMLFile objects...\")\n",
    "    new_mzml = MZMLFile(new_mzml_file)\n",
    "    old_mzml = MZMLFile(old_mzml_file)\n",
    "    \n",
    "    new_mzml_rts = []\n",
    "    old_mzml_rts = []\n",
    "   \n",
    "    for mz in standards_list:\n",
    "        new_rt = new_mzml.get_max_intensity(mz_min = mz - mz_ppm , mz_max = mz + mz_ppm)[1]\n",
    "        new_mzml_rts.append(new_rt/60)\n",
    "        old_rt = old_mzml.get_max_intensity(mz_min = mz - mz_ppm , mz_max = mz + mz_ppm)[1]\n",
    "        old_mzml_rts.append(old_rt/60)\n",
    "        \n",
    "    from metab_utils import return_data_with_no_outliers\n",
    "    new_mzml_rts_mod, old_mzml_rts_mod = return_data_with_no_outliers(new_mzml_rts, old_mzml_rts, np.subtract(new_mzml_rts,old_mzml_rts), zscore)\n",
    "    \n",
    "    print(\"Choosing the optimal kernel\")\n",
    "    from metab_utils import try_gp_regressions\n",
    "    model, kernel, results = try_gp_regressions(np.array(new_mzml_rts_mod), np.array(old_mzml_rts_mod)-np.array(new_mzml_rts_mod))\n",
    "    \n",
    "    model.optimize_restarts(10)\n",
    "    print(\"Kernel hyperparameters:\",model.parameters[0])\n",
    "    model.plot()"
   ]
  },
  {
   "cell_type": "code",
   "execution_count": 142,
   "metadata": {},
   "outputs": [
    {
     "name": "stdout",
     "output_type": "stream",
     "text": [
      "Creating MZMLFile objects...\n",
      "Loaded 1185 scans\n",
      "Loaded 1192 scans\n",
      "Choosing the optimal kernel\n",
      "Cross-Predicted Accuracy for RBF : -0.02374298407141029\n",
      "Mean absolute error for RBF : 0.023185903893535344\n",
      "Mean squared error for RBF : 0.0008304628192384405\n",
      "Cross-Predicted Accuracy for MLP : -0.023731728941047914\n",
      "Mean absolute error for MLP : 0.023185817730390537\n",
      "Mean squared error for MLP : 0.0008304536890490891\n"
     ]
    },
    {
     "name": "stderr",
     "output_type": "stream",
     "text": [
      " /Users/anamaria/.pyenv/versions/3.8.1/lib/python3.8/site-packages/GPy/kern/src/rbf.py:52: RuntimeWarning:overflow encountered in square\n",
      " /Users/anamaria/.pyenv/versions/3.8.1/lib/python3.8/site-packages/GPy/kern/src/stationary.py:168: RuntimeWarning:overflow encountered in true_divide\n",
      " /Users/anamaria/.pyenv/versions/3.8.1/lib/python3.8/site-packages/GPy/kern/src/rbf.py:76: RuntimeWarning:invalid value encountered in multiply\n"
     ]
    },
    {
     "name": "stdout",
     "output_type": "stream",
     "text": [
      "Cross-Predicted Accuracy for MLP+RBF : 0.0006497385495928265\n",
      "Mean absolute error for MLP+RBF : 0.023448190464706066\n",
      "Mean squared error for MLP+RBF : 0.00081067538282918\n",
      "Cross-Predicted Accuracy for MLP*RBF : 0.19930708724168245\n",
      "Mean absolute error for MLP*RBF : 0.022213923876467787\n",
      "Mean squared error for MLP*RBF : 0.0006495240543959892\n",
      "Cross-Predicted Accuracy for Cosine*RBF : 0.17520470570321045\n",
      "Mean absolute error for Cosine*RBF : 0.02241888562213524\n",
      "Mean squared error for Cosine*RBF : 0.000669075965407087\n",
      "Cross-Predicted Accuracy for Cosine+RBF : -0.023742995522954224\n",
      "Mean absolute error for Cosine+RBF : 0.023185903221073945\n",
      "Mean squared error for Cosine+RBF : 0.000830462828527961\n",
      "Final kernel: MLP*RBF\n",
      "Optimization restart 1/10, f = -95.4689809652259\n",
      "Optimization restart 2/10, f = -95.46898110449027\n",
      "Optimization restart 3/10, f = -95.46898136122059\n",
      "Optimization restart 4/10, f = -95.46898113473549\n",
      "Optimization restart 5/10, f = -95.46897577041662\n",
      "Optimization restart 6/10, f = -95.46898071849539\n",
      "Optimization restart 7/10, f = -95.46898043323776\n",
      "Optimization restart 8/10, f = -95.46897650467973\n",
      "Optimization restart 9/10, f = -95.46897886284154\n",
      "Optimization restart 10/10, f = -95.46898118283794\n",
      "Kernel hyperparameters:   \u001b[1mmul.               \u001b[0;0m  |                  value  |  constraints  |  priors\n",
      "  \u001b[1mmlp.variance       \u001b[0;0m  |    0.12585374435198723  |      +ve      |        \n",
      "  \u001b[1mmlp.weight_variance\u001b[0;0m  |    0.08458951002265026  |      +ve      |        \n",
      "  \u001b[1mmlp.bias_variance  \u001b[0;0m  |  8.449240232892274e-07  |      +ve      |        \n",
      "  \u001b[1mrbf.variance       \u001b[0;0m  |   0.014775283140732842  |      +ve      |        \n",
      "  \u001b[1mrbf.lengthscale    \u001b[0;0m  |      4.817841712934297  |      +ve      |        \n"
     ]
    },
    {
     "data": {
      "image/png": "[encoded data removed]",
      "text/plain": [
       "<Figure size 432x288 with 1 Axes>"
      ]
     },
     "metadata": {
      "needs_background": "light"
     },
     "output_type": "display_data"
    }
   ],
   "source": [
    "get_gp_for_new_file(new_mzml_file, old_mzml_file, standards_list)"
   ]
  },
  {
   "cell_type": "code",
   "execution_count": null,
   "metadata": {},
   "outputs": [],
   "source": []
  },
  {
   "cell_type": "code",
   "execution_count": null,
   "metadata": {},
   "outputs": [],
   "source": []
  },
  {
   "cell_type": "markdown",
   "metadata": {},
   "source": [
    "Check fragmentation file"
   ]
  },
  {
   "cell_type": "code",
   "execution_count": 5,
   "metadata": {},
   "outputs": [],
   "source": [
    "frag_mzml_file = \"/Volumes/Transcend2/17_20_PhD/19_20_PhD_Metabolomics/Metabolomics_datasets/Zika/FRAG/FRAG_POS.mzML\""
   ]
  },
  {
   "cell_type": "code",
   "execution_count": 6,
   "metadata": {},
   "outputs": [
    {
     "name": "stdout",
     "output_type": "stream",
     "text": [
      "Loaded 9657 scans\n"
     ]
    }
   ],
   "source": [
    "from mass_spec_utils.data_import.mzml import MZMLFile\n",
    "frag_mzml = MZMLFile(frag_mzml_file)"
   ]
  },
  {
   "cell_type": "markdown",
   "metadata": {},
   "source": [
    "Create dictionary with the filtered peaks found in the meta-dataset."
   ]
  },
  {
   "cell_type": "code",
   "execution_count": 9,
   "metadata": {},
   "outputs": [],
   "source": []
  },
  {
   "cell_type": "code",
   "execution_count": 7,
   "metadata": {},
   "outputs": [],
   "source": [
    "annotated_data = pd.read_csv(osp+'pymz/mzmine/peak_picked_files/annotated_data.csv', sep = ',', index_col = 0)\n",
    "\n",
    "sys.path.append(\"/Users/anamaria/git/molnet/code/\")\n",
    "import mnet\n",
    "with open(os.path.join(osp,'pymz/mzmine/HMDBannotated_data.csv'), 'rb') as file:\n",
    "    annodat = pickle.load(file)   \n",
    "    \n",
    "annotated_data['spectra'] = None\n",
    "for i in annodat.index:\n",
    "    if i in annotated_data.index:\n",
    "        annotated_data.at[i, 'spectra'] = annodat.loc[i]['spectra']"
   ]
  },
  {
   "cell_type": "code",
   "execution_count": 8,
   "metadata": {},
   "outputs": [],
   "source": [
    "filtered_peaks = {}\n",
    "for _,row in annotated_data.iterrows():\n",
    "    mz = row['row m/z']\n",
    "    rt = row['row retention time']\n",
    "    pval = row['adj p-val']\n",
    "    cid = row['custom_id']\n",
    "    mmcn = row['compound_names']\n",
    "    spec = row['spectra']\n",
    "    filtered_peaks[mz] = (mmcn, rt*60, '+', None, pval, cid, spec)\n",
    "    "
   ]
  },
  {
   "cell_type": "code",
   "execution_count": 22,
   "metadata": {},
   "outputs": [],
   "source": [
    "ppm =0.01\n",
    "ppm_rt = 3.0\n",
    "count_rt = 0\n",
    "count_spec = 0\n",
    "max_int_peaks = []\n",
    "specs_names = []\n",
    "for mz in filtered_peaks:\n",
    "    \n",
    "    filtered_peaks_rt =  filtered_peaks[mz][1]\n",
    "    filtered_peaks_spec = filtered_peaks[mz][6]\n",
    "    max_int_peaks.append(frag_mzml.get_max_intensity(mz_min = mz - ppm , mz_max = mz +ppm, rt_min_seconds = filtered_peaks_rt - ppm_rt,\n",
    "                                              rt_max_seconds = filtered_peaks_rt + ppm_rt))\n",
    "    \n",
    "    \n",
    "    if filtered_peaks_spec != None:\n",
    "        count_spec +=1\n",
    "        for spec in filtered_peaks_spec.keys():\n",
    "            specs_names.append(spec)"
   ]
  },
  {
   "cell_type": "code",
   "execution_count": 45,
   "metadata": {},
   "outputs": [],
   "source": [
    "ints = [i[2] for i in max_int_peaks]\n",
    "rts = [i[1] for i in max_int_peaks]\n",
    "mzs = [i[0] for i in max_int_peaks]\n"
   ]
  },
  {
   "cell_type": "code",
   "execution_count": 44,
   "metadata": {},
   "outputs": [
    {
     "name": "stdout",
     "output_type": "stream",
     "text": [
      "Lowest intensity: 2145.0684058222005 \n",
      "Highest intensity: 338174176.0\n"
     ]
    }
   ],
   "source": [
    "print(\"Lowest intensity: {} \\nHighest intensity: {}\".format(np.min(ints), np.max(ints)))"
   ]
  },
  {
   "cell_type": "code",
   "execution_count": 48,
   "metadata": {},
   "outputs": [
    {
     "data": {
      "text/plain": [
       "Text(0, 0.5, 'Intensity')"
      ]
     },
     "execution_count": 48,
     "metadata": {},
     "output_type": "execute_result"
    },
    {
     "data": {
      "image/png": "[encoded data removed]",
      "text/plain": [
       "<Figure size 432x288 with 1 Axes>"
      ]
     },
     "metadata": {
      "needs_background": "light"
     },
     "output_type": "display_data"
    }
   ],
   "source": [
    "plt.plot(rts, ints, \".\")\n",
    "plt.xlabel(\"RT(s)\")\n",
    "plt.ylabel(\"Intensity\")"
   ]
  },
  {
   "cell_type": "code",
   "execution_count": 63,
   "metadata": {
    "scrolled": true
   },
   "outputs": [
    {
     "data": {
      "text/plain": [
       "(array([549.,  26.,   9.,   7.,   2.,   0.,   0.,   2.,   1.,   2.,   0.,\n",
       "          1.,   0.,   1.,   0.,   0.,   0.,   0.,   0.,   0.,   0.,   1.,\n",
       "          1.,   0.,   0.,   1.,   0.,   0.,   0.,   0.,   0.,   0.,   0.,\n",
       "          0.,   0.,   0.,   0.,   0.,   0.,   0.,   0.,   0.,   0.,   0.,\n",
       "          0.,   0.,   0.,   0.,   0.,   1.]),\n",
       " array([2.14506841e+03, 6.76558569e+06, 1.35290263e+07, 2.02924669e+07,\n",
       "        2.70559075e+07, 3.38193482e+07, 4.05827888e+07, 4.73462294e+07,\n",
       "        5.41096700e+07, 6.08731106e+07, 6.76365513e+07, 7.43999919e+07,\n",
       "        8.11634325e+07, 8.79268731e+07, 9.46903137e+07, 1.01453754e+08,\n",
       "        1.08217195e+08, 1.14980636e+08, 1.21744076e+08, 1.28507517e+08,\n",
       "        1.35270957e+08, 1.42034398e+08, 1.48797839e+08, 1.55561279e+08,\n",
       "        1.62324720e+08, 1.69088161e+08, 1.75851601e+08, 1.82615042e+08,\n",
       "        1.89378482e+08, 1.96141923e+08, 2.02905364e+08, 2.09668804e+08,\n",
       "        2.16432245e+08, 2.23195685e+08, 2.29959126e+08, 2.36722567e+08,\n",
       "        2.43486007e+08, 2.50249448e+08, 2.57012889e+08, 2.63776329e+08,\n",
       "        2.70539770e+08, 2.77303210e+08, 2.84066651e+08, 2.90830092e+08,\n",
       "        2.97593532e+08, 3.04356973e+08, 3.11120414e+08, 3.17883854e+08,\n",
       "        3.24647295e+08, 3.31410735e+08, 3.38174176e+08]),\n",
       " <a list of 50 Patch objects>)"
      ]
     },
     "execution_count": 63,
     "metadata": {},
     "output_type": "execute_result"
    },
    {
     "data": {
      "image/png": "[encoded data removed]",
      "text/plain": [
       "<Figure size 432x288 with 1 Axes>"
      ]
     },
     "metadata": {
      "needs_background": "light"
     },
     "output_type": "display_data"
    }
   ],
   "source": [
    "plt.hist(ints, bins = 50)\n"
   ]
  },
  {
   "cell_type": "code",
   "execution_count": 20,
   "metadata": {},
   "outputs": [
    {
     "name": "stdout",
     "output_type": "stream",
     "text": [
      "Number of peaks with spectra already attached to them: 215\n"
     ]
    }
   ],
   "source": [
    "print(\"Number of peaks with spectra already attached to them: {}\".format(count_spec))"
   ]
  },
  {
   "cell_type": "code",
   "execution_count": 30,
   "metadata": {},
   "outputs": [
    {
     "data": {
      "text/plain": [
       "Text(0.5, 0, 'Datasets')"
      ]
     },
     "execution_count": 30,
     "metadata": {},
     "output_type": "execute_result"
    },
    {
     "data": {
      "image/png": "[encoded data removed]",
      "text/plain": [
       "<Figure size 432x288 with 1 Axes>"
      ]
     },
     "metadata": {
      "needs_background": "light"
     },
     "output_type": "display_data"
    }
   ],
   "source": [
    "plt.bar((\"Zika Spec\", \"Mal Spec\", \"VL Spec\"), \n",
    "        (specs_names.count('gnps2'), specs_names.count('frag_pos_mal'), specs_names.count('frag_pos_vl')))\n",
    "plt.ylabel(\"Number of peaks\")\n",
    "plt.xlabel(\"Datasets\")\n",
    "\n",
    "\n"
   ]
  },
  {
   "cell_type": "code",
   "execution_count": null,
   "metadata": {},
   "outputs": [],
   "source": []
  }
 ],
 "metadata": {
  "kernelspec": {
   "display_name": "Python 3",
   "language": "python",
   "name": "python3"
  },
  "language_info": {
   "codemirror_mode": {
    "name": "ipython",
    "version": 3
   },
   "file_extension": ".py",
   "mimetype": "text/x-python",
   "name": "python",
   "nbconvert_exporter": "python",
   "pygments_lexer": "ipython3",
   "version": "3.8.1"
  }
 },
 "nbformat": 4,
 "nbformat_minor": 4
}
