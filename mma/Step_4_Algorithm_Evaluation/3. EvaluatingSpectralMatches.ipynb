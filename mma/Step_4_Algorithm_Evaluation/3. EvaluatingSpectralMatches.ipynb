{
 "cells": [
  {
   "cell_type": "code",
   "execution_count": 1,
   "metadata": {},
   "outputs": [],
   "source": [
    "import os\n",
    "import sys\n",
    "import pickle\n",
    "import numpy as np\n",
    "import matplotlib.pyplot as plt\n",
    "%load_ext autoreload\n",
    "%autoreload 2"
   ]
  },
  {
   "cell_type": "code",
   "execution_count": 2,
   "metadata": {},
   "outputs": [],
   "source": [
    "WIN = 'D:/'\n",
    "MAC = '/Volumes/Transcend2/17_20_PhD/19_20_PhD_Metabolomics/'\n",
    "osp = MAC"
   ]
  },
  {
   "cell_type": "code",
   "execution_count": 3,
   "metadata": {},
   "outputs": [],
   "source": [
    "MNET_PATH = '/Users/anamaria/git/molnet/code/'\n",
    "sys.path.append(MNET_PATH)"
   ]
  },
  {
   "cell_type": "markdown",
   "metadata": {},
   "source": [
    "## Get bad spectral matches between 2 datasets"
   ]
  },
  {
   "cell_type": "code",
   "execution_count": 4,
   "metadata": {},
   "outputs": [],
   "source": [
    "import mnet\n",
    "import mnet_utilities"
   ]
  },
  {
   "cell_type": "markdown",
   "metadata": {},
   "source": [
    "Load the fragmentattion files."
   ]
  },
  {
   "cell_type": "code",
   "execution_count": 5,
   "metadata": {},
   "outputs": [
    {
     "name": "stdout",
     "output_type": "stream",
     "text": [
      "Loaded 100 spectra\n",
      "Loaded 200 spectra\n",
      "Loaded 300 spectra\n",
      "Loaded 100 spectra\n",
      "Loaded 200 spectra\n",
      "Loaded 300 spectra\n",
      "Loaded 100 spectra\n",
      "Loaded 200 spectra\n",
      "Loaded 300 spectra\n"
     ]
    }
   ],
   "source": [
    "mgf_vl = mnet_utilities.load_mgf(osp+'pymz/mzmine/210120/mzmine_frag/vl/frag_pos_vl.mgf')\n",
    "mgf_mal = mnet_utilities.load_mgf(osp+'pymz/mzmine/210120/mzmine_frag/mal/frag_pos_mal.mgf')\n",
    "mgf_zik = mnet_utilities.load_mgf(osp+'pymz/mzmine/210120/mzmine_frag/zik/gnps2.mgf')"
   ]
  },
  {
   "cell_type": "markdown",
   "metadata": {},
   "source": [
    "Get the cosine similarity scores of the bad spectral matches."
   ]
  },
  {
   "cell_type": "code",
   "execution_count": 69,
   "metadata": {},
   "outputs": [],
   "source": [
    "sys.path.append('..')\n",
    "from metab_utils import get_bad_spectral_matches\n",
    "badscores_vl_zik = get_bad_spectral_matches(mgf_vl, mgf_zik, 40, 0.2, 2, plot = False)\n",
    "badscores_vl_mal = get_bad_spectral_matches(mgf_vl, mgf_mal, 40, 0.2, 2, plot = False)\n",
    "badscores_zik_mal = get_bad_spectral_matches(mgf_zik, mgf_mal, 40, 0.2, 2, plot = False)"
   ]
  },
  {
   "cell_type": "markdown",
   "metadata": {},
   "source": [
    "Plot the distribution of the scores for the bad spectral matches."
   ]
  },
  {
   "cell_type": "code",
   "execution_count": 49,
   "metadata": {},
   "outputs": [
    {
     "data": {
      "text/plain": [
       "Text(0.5, 1.0, 'VL vs Zika')"
      ]
     },
     "execution_count": 49,
     "metadata": {},
     "output_type": "execute_result"
    },
    {
     "data": {
      "image/png": "[encoded data removed]",
      "text/plain": [
       "<Figure size 432x288 with 1 Axes>"
      ]
     },
     "metadata": {
      "needs_background": "light"
     },
     "output_type": "display_data"
    }
   ],
   "source": [
    "plt.hist(badscores_vl_zik, bins=10, alpha = 0.5)\n",
    "plt.xlabel('Cosine similarity')\n",
    "plt.title('VL vs Zika')"
   ]
  },
  {
   "cell_type": "code",
   "execution_count": 50,
   "metadata": {},
   "outputs": [
    {
     "data": {
      "text/plain": [
       "Text(0.5, 1.0, 'VL vs Malaria')"
      ]
     },
     "execution_count": 50,
     "metadata": {},
     "output_type": "execute_result"
    },
    {
     "data": {
      "image/png": "[encoded data removed]",
      "text/plain": [
       "<Figure size 432x288 with 1 Axes>"
      ]
     },
     "metadata": {
      "needs_background": "light"
     },
     "output_type": "display_data"
    }
   ],
   "source": [
    "plt.hist(badscores_vl_mal, bins=10, alpha = 0.5)\n",
    "plt.xlabel('Cosine similarity')\n",
    "plt.title('VL vs Malaria')"
   ]
  },
  {
   "cell_type": "code",
   "execution_count": 51,
   "metadata": {},
   "outputs": [
    {
     "data": {
      "text/plain": [
       "Text(0.5, 1.0, 'Malaria vs Zika')"
      ]
     },
     "execution_count": 51,
     "metadata": {},
     "output_type": "execute_result"
    },
    {
     "data": {
      "image/png": "[encoded data removed]",
      "text/plain": [
       "<Figure size 432x288 with 1 Axes>"
      ]
     },
     "metadata": {
      "needs_background": "light"
     },
     "output_type": "display_data"
    }
   ],
   "source": [
    "plt.hist(badscores_zik_mal, bins=10, alpha = 0.5)\n",
    "plt.xlabel('Cosine similarity')\n",
    "plt.title('Malaria vs Zika')"
   ]
  },
  {
   "cell_type": "code",
   "execution_count": null,
   "metadata": {},
   "outputs": [],
   "source": []
  },
  {
   "cell_type": "code",
   "execution_count": null,
   "metadata": {},
   "outputs": [],
   "source": []
  },
  {
   "cell_type": "markdown",
   "metadata": {},
   "source": [
    "## Get distribution of bad spectral matches for each good match"
   ]
  },
  {
   "cell_type": "markdown",
   "metadata": {},
   "source": [
    "Load the JoinAligner object."
   ]
  },
  {
   "cell_type": "code",
   "execution_count": 52,
   "metadata": {},
   "outputs": [],
   "source": [
    "sys.path.append('/Users/anamaria/git/pymzm_mine/')\n",
    "with open(os.path.join(osp,'pymz/mzmine/aligner_gp.txt'), 'rb') as file:\n",
    "    aligner_gp = pickle.load(file)   "
   ]
  },
  {
   "cell_type": "code",
   "execution_count": 53,
   "metadata": {},
   "outputs": [],
   "source": [
    "with open('/Volumes/Transcend2/17_20_PhD/19_20_PhD_Metabolomics/pymz/mzmine/peak_picked_files/peakinfolist.dict', 'rb') as file:\n",
    "    peakinfolist_positive = pickle.load(file)"
   ]
  },
  {
   "cell_type": "code",
   "execution_count": null,
   "metadata": {},
   "outputs": [],
   "source": []
  },
  {
   "cell_type": "code",
   "execution_count": 60,
   "metadata": {},
   "outputs": [],
   "source": [
    "no_spectra = 0 \n",
    "one_spectra = 0 \n",
    "two_spectra = 0 \n",
    "three_spectra = 0 \n",
    "m_spec = 0\n",
    "z_spec = 0\n",
    "v_spec = 0\n",
    "for peak in peakinfolist_positive:\n",
    "    if peak.pval != 0:\n",
    "        \n",
    "        if len(peak.spectra) > 0:\n",
    "            no_spectra+=1\n",
    "        if len(peak.spectra) == 1:\n",
    "            one_spectra+=1\n",
    "            \n",
    "            \n",
    "        if len(peak.spectra) == 2:\n",
    "            two_spectra+=1\n",
    "            if 'frag_pos_mal' in list(peak.spectra.keys()) :\n",
    "                m_spec +=1\n",
    "            if 'gnps2' in list(peak.spectra.keys()):\n",
    "                z_spec +=1\n",
    "            if 'frag_pos_vl' in list(peak.spectra.keys()):\n",
    "                v_spec +=1\n",
    "            \n",
    "        if len(peak.spectra) == 3:\n",
    "            \n",
    "            three_spectra+=1\n",
    "            if 'frag_pos_mal' in list(peak.spectra.keys()) :\n",
    "                m_spec +=1\n",
    "            if 'gnps2' in list(peak.spectra.keys()):\n",
    "                z_spec +=1\n",
    "            if 'frag_pos_vl' in list(peak.spectra.keys()):\n",
    "                v_spec +=1"
   ]
  },
  {
   "cell_type": "code",
   "execution_count": 61,
   "metadata": {},
   "outputs": [
    {
     "data": {
      "text/plain": [
       "56"
      ]
     },
     "execution_count": 61,
     "metadata": {},
     "output_type": "execute_result"
    }
   ],
   "source": [
    "m_spec"
   ]
  },
  {
   "cell_type": "code",
   "execution_count": 62,
   "metadata": {},
   "outputs": [
    {
     "data": {
      "text/plain": [
       "59"
      ]
     },
     "execution_count": 62,
     "metadata": {},
     "output_type": "execute_result"
    }
   ],
   "source": [
    "z_spec"
   ]
  },
  {
   "cell_type": "code",
   "execution_count": 63,
   "metadata": {},
   "outputs": [
    {
     "data": {
      "text/plain": [
       "48"
      ]
     },
     "execution_count": 63,
     "metadata": {},
     "output_type": "execute_result"
    }
   ],
   "source": [
    "v_spec"
   ]
  },
  {
   "cell_type": "code",
   "execution_count": null,
   "metadata": {},
   "outputs": [],
   "source": []
  },
  {
   "cell_type": "code",
   "execution_count": null,
   "metadata": {},
   "outputs": [],
   "source": []
  },
  {
   "cell_type": "code",
   "execution_count": 40,
   "metadata": {},
   "outputs": [
    {
     "data": {
      "text/plain": [
       "11"
      ]
     },
     "execution_count": 40,
     "metadata": {},
     "output_type": "execute_result"
    }
   ],
   "source": [
    "three_spectra"
   ]
  },
  {
   "cell_type": "code",
   "execution_count": 37,
   "metadata": {},
   "outputs": [
    {
     "data": {
      "text/plain": [
       "217"
      ]
     },
     "execution_count": 37,
     "metadata": {},
     "output_type": "execute_result"
    }
   ],
   "source": [
    "no_spectra"
   ]
  },
  {
   "cell_type": "markdown",
   "metadata": {},
   "source": [
    "Extract the spectra from the peaksets."
   ]
  },
  {
   "cell_type": "code",
   "execution_count": 54,
   "metadata": {},
   "outputs": [],
   "source": [
    "from metab_utils import extract_peaksets_with_spectra_from_dataset\n",
    "peaksets_gp_spec = extract_peaksets_with_spectra_from_dataset(aligner_gp)"
   ]
  },
  {
   "cell_type": "code",
   "execution_count": 55,
   "metadata": {},
   "outputs": [
    {
     "name": "stdout",
     "output_type": "stream",
     "text": [
      "72.0808032855653\n",
      "86.09638435539158\n",
      "86.09638145880972\n",
      "104.0705895005611\n",
      "104.10695318660827\n",
      "106.04777861701116\n",
      "106.97155380249023\n",
      "114.033853819876\n",
      "114.06619664394495\n",
      "114.0914071703714\n",
      "114.09838896799306\n",
      "118.08318024350886\n",
      "118.08619744928033\n",
      "119.08544622387802\n",
      "120.08078320821126\n",
      "123.05526661454586\n",
      "126.0219651607045\n",
      "129.06583638776814\n",
      "130.04994198313932\n",
      "132.06559201290733\n",
      "132.06553323419246\n",
      "132.07675539652507\n",
      "132.10190391540527\n",
      "132.1019233569764\n",
      "133.06779024893777\n",
      "133.09716669718424\n",
      "146.0811789997837\n",
      "147.07640299880714\n",
      "150.05836118731582\n",
      "151.09650255132604\n",
      "152.0706551291726\n",
      "153.06586419490347\n",
      "156.07683205819345\n",
      "159.11283897935297\n",
      "162.11244128501576\n",
      "163.10956513254266\n",
      "166.08628909640842\n",
      "167.1067375304207\n",
      "168.06674398783764\n",
      "169.98008009316266\n",
      "173.1285286953575\n",
      "176.07063379422038\n",
      "177.10561665317468\n",
      "178.0586966526361\n",
      "178.0723450194755\n",
      "180.15947111029377\n",
      "181.0720420543964\n",
      "183.10168715806034\n",
      "185.12854820139268\n",
      "190.08624230179134\n",
      "192.15956242879233\n",
      "195.1163762410482\n",
      "200.02703951116192\n",
      "203.0525407409668\n",
      "203.1503719329834\n",
      "204.12309878879122\n",
      "205.09722965642027\n",
      "212.14931337761155\n",
      "214.25296545719755\n",
      "227.1249391263124\n",
      "228.1231013496141\n",
      "229.1409828942101\n",
      "229.1546073712801\n",
      "234.07697840461955\n",
      "239.14546012878418\n",
      "241.03100495697348\n",
      "247.14399010426288\n",
      "256.1654239230686\n",
      "256.17286122639973\n",
      "258.10996032179446\n",
      "262.1435850043046\n",
      "265.11812079580204\n",
      "279.15900648685925\n",
      "288.21678437732515\n",
      "296.9180972937382\n",
      "300.20152519489153\n",
      "304.24821272841444\n",
      "310.2012035326026\n",
      "318.9000635891096\n",
      "338.3416208055284\n",
      "344.227921295166\n",
      "468.3082948572495\n",
      "482.3605729602632\n",
      "520.3399501599764\n",
      "544.3397095826296\n",
      "592.493345774472\n",
      "614.5353631842627\n",
      "619.4908264160157\n",
      "654.3313706715902\n",
      "663.4531778703656\n",
      "782.5687298691064\n",
      "786.6000909637987\n",
      "810.6001706039697\n",
      "813.6836199571858\n",
      "171.1129644484747\n",
      "174.07615924007678\n",
      "180.06552099298548\n",
      "280.1542445237074\n",
      "287.09996183713275\n",
      "134.06020255980454\n",
      "143.15435943603515\n",
      "128.07060636792863\n",
      "215.2563126324213\n",
      "221.09999462309338\n",
      "228.19584008824756\n",
      "238.12846207200437\n",
      "991.6723905963663\n",
      "1019.7026562390027\n",
      "111.04408918108258\n",
      "270.15453084309894\n",
      "325.1603371756417\n",
      "326.1809491354322\n",
      "328.160144382053\n",
      "363.2197256377249\n",
      "475.29694499666726\n",
      "492.32375243215847\n",
      "95.06035470962524\n",
      "170.0923944261339\n",
      "77.07690238952637\n",
      "199.1693180629185\n",
      "141.1135082244873\n",
      "304.24802652994794\n",
      "90.09135839674208\n",
      "139.0178985595703\n",
      "113.10728899637859\n",
      "199.1693483988444\n"
     ]
    }
   ],
   "source": [
    "for peak in peaksets_gp_spec:\n",
    "    print(peak.mean_mz)"
   ]
  },
  {
   "cell_type": "markdown",
   "metadata": {},
   "source": [
    "Extract the scores for the peaksets which have 2 or more spectra attached."
   ]
  },
  {
   "cell_type": "code",
   "execution_count": 56,
   "metadata": {},
   "outputs": [],
   "source": [
    "from metab_utils import extract_scores_pairs_for_dataset\n",
    "peaksets_vl_mal = extract_scores_pairs_for_dataset(peaksets_gp_spec, 'vl', 'mal')\n",
    "peaksets_vl_zik = extract_scores_pairs_for_dataset(peaksets_gp_spec, 'vl', 'zik')\n",
    "peaksets_zik_mal = extract_scores_pairs_for_dataset(peaksets_gp_spec, 'zik', 'mal')"
   ]
  },
  {
   "cell_type": "markdown",
   "metadata": {},
   "source": [
    "Parse through the list of actual spectral matches and for each match get a distribution of badscores."
   ]
  },
  {
   "cell_type": "code",
   "execution_count": 57,
   "metadata": {},
   "outputs": [],
   "source": [
    "#continuous uniform distribution\n",
    "def calculate_cdf(actual_scores, bs_dict, mz,rt, mz_list, cdf_list, rt_list):\n",
    "    for i in range(len(actual_scores)):\n",
    "        x = actual_scores[i]\n",
    "        inter = bs_dict[list(bs_dict.keys())[i]]\n",
    "\n",
    "        if(len(inter) >0):\n",
    "            a = np.min(inter)\n",
    "            b = np.max(inter)\n",
    "            if x< a:\n",
    "                cdf = 0\n",
    "            elif a <= x <= b:\n",
    "                cdf = (x-a)/(b-a)\n",
    "            elif x> b:\n",
    "                cdf = 1\n",
    "            cdf_list.append(cdf)\n",
    "            mz_list.append(mz[i])\n",
    "            rt_list.append(rt[i])\n",
    "    return cdf_list, mz_list, rt_list\n",
    "\n"
   ]
  },
  {
   "cell_type": "code",
   "execution_count": 58,
   "metadata": {},
   "outputs": [],
   "source": [
    "#discrete uniform distribution\n",
    "def calculate_dis_cdf(actual_scores, bs_dict, mz,rt, mz_list, cdf_list, rt_list):\n",
    "    for i in range(len(actual_scores)):\n",
    "        x = actual_scores[i]\n",
    "        inter = bs_dict[list(bs_dict.keys())[i]]\n",
    "\n",
    "        if(len(inter) >0):\n",
    "            a = np.min(inter)\n",
    "            b = np.max(inter)\n",
    "           \n",
    "            cdf = (x-a+1)/len(inter)\n",
    "            cdf_list.append(cdf)\n",
    "            mz_list.append(mz[i])\n",
    "            rt_list.append(rt[i])\n",
    "    return cdf_list, mz_list, rt_list\n"
   ]
  },
  {
   "cell_type": "code",
   "execution_count": 59,
   "metadata": {},
   "outputs": [],
   "source": [
    "cdfs = []\n",
    "mzs = []\n",
    "rts= []\n",
    "cdfs, mzs, rts = calculate_cdf(act_vl_mal,  bsvm,  mz_vl_mal, rts_vl_mal,mzs, cdfs,rts)\n",
    "cdfs, mzs, rts = calculate_cdf(act_vl_zik,  bsvz,  mz_vl_zik, rts_vl_zik,mzs, cdfs,rts)\n",
    "cdfs, mzs, rts = calculate_cdf(act_zik_mal,  bszm,  mz_zik_mal, rts_zik_mal,mzs, cdfs,rts)"
   ]
  },
  {
   "cell_type": "code",
   "execution_count": 60,
   "metadata": {},
   "outputs": [],
   "source": [
    "cdfs = []\n",
    "mzs = []\n",
    "rts= []\n",
    "cdfs, mzs, rts = calculate_dis_cdf(act_vl_mal,  bsvm,  mz_vl_mal, rts_vl_mal,mzs, cdfs,rts)\n",
    "cdfs, mzs, rts = calculate_dis_cdf(act_vl_zik,  bsvz,  mz_vl_zik, rts_vl_zik,mzs, cdfs,rts)\n",
    "cdfs, mzs, rts = calculate_dis_cdf(act_zik_mal,  bszm,  mz_zik_mal, rts_zik_mal,mzs, cdfs,rts)"
   ]
  },
  {
   "cell_type": "code",
   "execution_count": 61,
   "metadata": {},
   "outputs": [
    {
     "name": "stdout",
     "output_type": "stream",
     "text": [
      "0.0\n"
     ]
    }
   ],
   "source": [
    "#Percentage of 0 probability\n",
    "c = 0\n",
    "for cdf in cdfs:\n",
    "    if cdf == 0:\n",
    "        c +=1\n",
    "print(c*100/len(cdfs))"
   ]
  },
  {
   "cell_type": "code",
   "execution_count": 62,
   "metadata": {},
   "outputs": [
    {
     "name": "stdout",
     "output_type": "stream",
     "text": [
      "[0.8937559265414645]\n",
      "---\n",
      "[0.7658374221965247, 0.8761475085712053, 0.7045461583693983, 0.7295024578604538]\n",
      "=====\n",
      "[0.18591677017273908]\n",
      "---\n",
      "[0.2846689796896632, 0.199641520320772, 0.23898131318325155, 0.24834893030228655, 0.3105209442517027, 0.2265562148753412, 0.26447773873174335, 0.27840867532814173]\n",
      "=====\n",
      "[0.935130424203516]\n",
      "---\n",
      "[]\n",
      "=====\n",
      "[0.9250701169352903]\n",
      "---\n",
      "[]\n",
      "=====\n",
      "[0.9162812845032942]\n",
      "---\n",
      "[0.7545084151924624, 0.6749049322319713, 0.7475937137960971, 0.7099908598716972, 0.6911137910779729, 0.7023027824636161, 0.1259479406332194, 0.5252465239650197, 0.15091209112232715, 0.8939395682819702, 0.5885471289299967, 0.8801338051820976]\n",
      "=====\n",
      "[0.910713163435703]\n",
      "---\n",
      "[0.8771704220523132]\n",
      "=====\n",
      "[0.0]\n",
      "---\n",
      "[0.020638187396693354]\n",
      "=====\n",
      "[0.8362932334502992]\n",
      "---\n",
      "[0.8111283019657826]\n",
      "=====\n",
      "[0.012890259908999637]\n",
      "---\n",
      "[0.03592071037721324]\n",
      "=====\n",
      "[0.031447706159945514]\n",
      "---\n",
      "[0.0]\n",
      "=====\n",
      "[0.0]\n",
      "---\n",
      "[0.026680985134665398, 0.08462640315688107, 0.0, 0.06314900593810972, 0.1195970899273854, 0.03326181565407252, 0.05879690421816382, 0.01352829661646577]\n",
      "=====\n",
      "[0.0]\n",
      "---\n",
      "[0.026680985134665398, 0.08462640315688107, 0.0, 0.06314900593810972, 0.1195970899273854, 0.03326181565407252, 0.05879690421816382, 0.01352829661646577]\n",
      "=====\n",
      "[0.10062984958265593]\n",
      "---\n",
      "[0.14263174620847371, 0.47626552138599526]\n",
      "=====\n",
      "[0.712077284245561]\n",
      "---\n",
      "[0.625631967491446]\n",
      "=====\n",
      "[0.7435405180989358]\n",
      "---\n",
      "[0.7374865192581528, 0.13220902230013035]\n",
      "=====\n",
      "[0.05545963651850476]\n",
      "---\n",
      "[0.07212122813826219]\n",
      "=====\n",
      "[0.9016222446889334]\n",
      "---\n",
      "[0.8690891840456791]\n",
      "=====\n",
      "[0.17518777720330614]\n",
      "---\n",
      "[0.1708830455057421]\n",
      "=====\n",
      "[0.4787235350005793]\n",
      "---\n",
      "[]\n",
      "=====\n",
      "[0.6605119462667803]\n",
      "---\n",
      "[]\n",
      "=====\n",
      "[0.2521492538773309]\n",
      "---\n",
      "[0.24657206380035654]\n",
      "=====\n",
      "[0.5910236265993808]\n",
      "---\n",
      "[0.5688097199551225]\n",
      "=====\n",
      "[0.7844750156565334]\n",
      "---\n",
      "[0.7703315515829233]\n",
      "=====\n",
      "[0.2968091145130378]\n",
      "---\n",
      "[]\n",
      "=====\n",
      "[0.8449252838266547]\n",
      "---\n",
      "[0.8153562658459185]\n",
      "=====\n",
      "[0.10661637593342789]\n",
      "---\n",
      "[0.0813332106344472]\n",
      "=====\n",
      "[0.8357395688127693]\n",
      "---\n",
      "[0.2249662271683565]\n",
      "=====\n",
      "[0.2777413028605469]\n",
      "---\n",
      "[]\n",
      "=====\n",
      "[0.8488456054938824]\n",
      "---\n",
      "[]\n",
      "=====\n",
      "[0.7988707714670591]\n",
      "---\n",
      "[]\n",
      "=====\n",
      "[0.8432431644273998]\n",
      "---\n",
      "[0.7186679965056659]\n",
      "=====\n",
      "[0.7889627003349761]\n",
      "---\n",
      "[]\n",
      "=====\n",
      "[0.148759531064372]\n",
      "---\n",
      "[0.13925346907992514, 0.08649823218773153, 0.1422838952910856]\n",
      "=====\n",
      "[0.661936282767096]\n",
      "---\n",
      "[0.6642844451632721, 0.6599056220494143, 0.6528172098437788, 0.6364279477981053, 0.6361061883508972, 0.6167085606267863, 0.620855278416975, 0.6406953309112979, 0.6540813272141053, 0.6205786112515462, 0.6289616164674955, 0.6480254587268377, 0.6368839462651985, 0.623459128254958, 0.653234911420526, 0.6403375932754958, 0.6412640324814733, 0.6100583348396674, 0.6164785199018372, 0.6241069253086702, 0.5990511580598449, 0.6007434658738072]\n",
      "=====\n",
      "[0.08318935455059241]\n",
      "---\n",
      "[]\n",
      "=====\n",
      "[0.7246939680285438]\n",
      "---\n",
      "[0.7202940854746909, 0.6534478951735507, 0.715323756206777, 0.7157611072409198, 0.6491889902064876, 0.7147818475473855, 0.7143720618518795, 0.6425252384773434, 0.7007115952638012, 0.7180529435438843, 0.6522084033169252, 0.7164953320821382]\n",
      "=====\n",
      "[0.6528657869282264]\n",
      "---\n",
      "[0.6642844451632721, 0.6599056220494143, 0.6528172098437788, 0.6364279477981053, 0.6361061883508972, 0.6167085606267863, 0.620855278416975, 0.6406953309112979, 0.6540813272141053, 0.6205786112515462, 0.6289616164674955, 0.6480254587268377, 0.6368839462651985, 0.623459128254958, 0.653234911420526, 0.6403375932754958, 0.6412640324814733, 0.6100583348396674, 0.6164785199018372, 0.6241069253086702, 0.5990511580598449, 0.6007434658738072]\n",
      "=====\n",
      "[0.7689793169033768]\n",
      "---\n",
      "[0.7841991753637553, 0.7207252488750019, 0.7545610836833421]\n",
      "=====\n",
      "[0.7349269542194534]\n",
      "---\n",
      "[0.7208454987061866]\n",
      "=====\n",
      "[0.9250701169352903]\n",
      "---\n",
      "[]\n",
      "=====\n",
      "[0.8602231905306297]\n",
      "---\n",
      "[0.8240196220648205, 0.3483018061702377, 0.809236103772018]\n",
      "=====\n",
      "[0.9161724485828057]\n",
      "---\n",
      "[0.9097257784397712, 0.1810056893374082]\n",
      "=====\n",
      "[0.02098739370731428]\n",
      "---\n",
      "[0.04109371214084314]\n",
      "=====\n",
      "[0.7758775677716412]\n",
      "---\n",
      "[0.7406385033603881]\n",
      "=====\n",
      "[0.0]\n",
      "---\n",
      "[0.02100908935676257, 0.1071638584230327]\n",
      "=====\n",
      "[0.3922612937195223]\n",
      "---\n",
      "[0.3756668647645313, 0.04645138510475301, 0.06195988490039753]\n",
      "=====\n",
      "[0.6431927942378919]\n",
      "---\n",
      "[]\n",
      "=====\n",
      "[0.7765400917391863]\n",
      "---\n",
      "[]\n",
      "=====\n",
      "[0.532708246818711]\n",
      "---\n",
      "[0.5254999546112072]\n",
      "=====\n",
      "[0.5868286847570504]\n",
      "---\n",
      "[0.6089569366977647]\n",
      "=====\n",
      "[0.9376250395616859]\n",
      "---\n",
      "[0.9122883373175145]\n",
      "=====\n",
      "[0.7435405180989358]\n",
      "---\n",
      "[0.7374865192581528, 0.13220902230013035]\n",
      "=====\n",
      "[0.5323775061517444]\n",
      "---\n",
      "[]\n",
      "=====\n",
      "[0.17518777720330614]\n",
      "---\n",
      "[]\n",
      "=====\n",
      "[0.022282490997945624]\n",
      "---\n",
      "[]\n",
      "=====\n",
      "[0.4787235350005793]\n",
      "---\n",
      "[]\n",
      "=====\n",
      "[0.7844750156565334]\n",
      "---\n",
      "[0.7703315515829233]\n",
      "=====\n",
      "[0.2553148246261865]\n",
      "---\n",
      "[]\n",
      "=====\n",
      "[0.03553204000428602]\n",
      "---\n",
      "[0.052861251570117354, 0.012088995418272705, 0.014051921506760974]\n",
      "=====\n",
      "[0.8357395688127693]\n",
      "---\n",
      "[0.2249662271683565]\n",
      "=====\n",
      "[0.2777413028605469]\n",
      "---\n",
      "[0.14331016366015953]\n",
      "=====\n",
      "[0.7193737072358086]\n",
      "---\n",
      "[0.7016223271225234]\n",
      "=====\n",
      "[0.856841375093915]\n",
      "---\n",
      "[]\n",
      "=====\n",
      "[0.48836483344142406]\n",
      "---\n",
      "[0.8351249750860462, 0.8490295074302245, 0.819213032046478, 0.8327728951223756]\n",
      "=====\n",
      "[0.48874456290204693]\n",
      "---\n",
      "[]\n",
      "=====\n",
      "[0.5108181281520886]\n",
      "---\n",
      "[]\n",
      "=====\n",
      "[0.7563132240068076]\n",
      "---\n",
      "[]\n",
      "=====\n",
      "[0.8604270009571876]\n",
      "---\n",
      "[]\n",
      "=====\n",
      "[0.848392916150069]\n",
      "---\n",
      "[]\n",
      "=====\n",
      "[0.857691044215863]\n",
      "---\n",
      "[]\n",
      "=====\n",
      "[0.7999113731807473]\n",
      "---\n",
      "[]\n",
      "=====\n",
      "[0.811351354134575]\n",
      "---\n",
      "[]\n",
      "=====\n",
      "[0.795357368355631]\n",
      "---\n",
      "[]\n",
      "=====\n",
      "[0.7544919186890827]\n",
      "---\n",
      "[]\n",
      "=====\n",
      "[0.148759531064372]\n",
      "---\n",
      "[0.13925346907992514, 0.08649823218773153, 0.1422838952910856]\n",
      "=====\n",
      "[0.7019633990259742]\n",
      "---\n",
      "[]\n",
      "=====\n",
      "[0.7600042489451736]\n",
      "---\n",
      "[]\n",
      "=====\n",
      "[0.7687366899837381]\n",
      "---\n",
      "[]\n",
      "=====\n",
      "[0.8005915448891755]\n",
      "---\n",
      "[0.7941352514680715, 0.7237433307822261]\n",
      "=====\n",
      "[0.08318935455059241]\n",
      "---\n",
      "[]\n",
      "=====\n",
      "[1.0]\n",
      "---\n",
      "[0.8075961708327049, 0.7698655641178317, 0.8121440985218227]\n",
      "=====\n",
      "[0.7871535853769728]\n",
      "---\n",
      "[0.8280765456380619]\n",
      "=====\n",
      "[0.33863543311644606]\n",
      "---\n",
      "[0.0, 0.3361601089021015]\n",
      "=====\n",
      "[1.0]\n",
      "---\n",
      "[]\n",
      "=====\n",
      "[1.0]\n",
      "---\n",
      "[]\n",
      "=====\n",
      "[1.0000000000000004]\n",
      "---\n",
      "[0.0]\n",
      "=====\n",
      "[0.9999999999999999]\n",
      "---\n",
      "[0.22297151366469262]\n",
      "=====\n",
      "[0.9999999999999999]\n",
      "---\n",
      "[0.0]\n",
      "=====\n",
      "[0.9999999999999993]\n",
      "---\n",
      "[0.23648860409709405]\n",
      "=====\n",
      "[0.9999999999999999]\n",
      "---\n",
      "[]\n",
      "=====\n",
      "[1.0000000000000002]\n",
      "---\n",
      "[0.520961468408349]\n",
      "=====\n",
      "[1.0]\n",
      "---\n",
      "[]\n",
      "=====\n",
      "[0.5046633757277745]\n",
      "---\n",
      "[0.5143733595349552, 0.5143733595349552]\n",
      "=====\n",
      "[0.8676127771924816]\n",
      "---\n",
      "[]\n",
      "=====\n",
      "[0.9999999999999993]\n",
      "---\n",
      "[]\n",
      "=====\n",
      "[0.6534100298276831]\n",
      "---\n",
      "[]\n",
      "=====\n",
      "[0.9999999999999996]\n",
      "---\n",
      "[]\n",
      "=====\n",
      "[0.8823853442472053]\n",
      "---\n",
      "[]\n",
      "=====\n",
      "[1.0000000000000004]\n",
      "---\n",
      "[]\n",
      "=====\n",
      "[0.9530881686557546]\n",
      "---\n",
      "[0.0]\n",
      "=====\n",
      "[1.0]\n",
      "---\n",
      "[]\n",
      "=====\n",
      "[0.9999999999999983]\n",
      "---\n",
      "[]\n",
      "=====\n",
      "[1.0]\n",
      "---\n",
      "[0.4305250042540648, 0.2739167943507969, 0.21909657601984908, 0.18876300892728276, 0.15069742145243123]\n",
      "=====\n",
      "[0.9671532910715507]\n",
      "---\n",
      "[]\n",
      "=====\n",
      "[1.0]\n",
      "---\n",
      "[]\n",
      "=====\n",
      "[0.8782995434112728]\n",
      "---\n",
      "[0.3997805734716626, 0.4298381934742499]\n",
      "=====\n",
      "[0.9999999999999993]\n",
      "---\n",
      "[]\n",
      "=====\n",
      "[0.8390110047924836]\n",
      "---\n",
      "[]\n",
      "=====\n",
      "[0.9999999999999991]\n",
      "---\n",
      "[]\n",
      "=====\n",
      "[0.559463947429858]\n",
      "---\n",
      "[0.5941092488736871, 0.5819761602457033]\n",
      "=====\n",
      "[1.0000000000000002]\n",
      "---\n",
      "[]\n",
      "=====\n",
      "[0.8265877814901142]\n",
      "---\n",
      "[]\n",
      "=====\n",
      "[1.0000000000000002]\n",
      "---\n",
      "[]\n",
      "=====\n",
      "[1.0000000000000002]\n",
      "---\n",
      "[]\n",
      "=====\n",
      "[0.4630487076902332]\n",
      "---\n",
      "[]\n",
      "=====\n",
      "[1.0000000000000007]\n",
      "---\n",
      "[]\n",
      "=====\n",
      "[0.9165115130507199]\n",
      "---\n",
      "[]\n",
      "=====\n",
      "[0.860182665891922]\n",
      "---\n",
      "[]\n",
      "=====\n",
      "[1.0]\n",
      "---\n",
      "[0.6443735536941054]\n",
      "=====\n",
      "[1.000000000000001]\n",
      "---\n",
      "[]\n",
      "=====\n",
      "[1.0000000000000002]\n",
      "---\n",
      "[]\n",
      "=====\n",
      "[1.0]\n",
      "---\n",
      "[]\n",
      "=====\n",
      "[0.6900764477690491]\n",
      "---\n",
      "[]\n",
      "=====\n",
      "[0.9999999999999998]\n",
      "---\n",
      "[]\n",
      "=====\n",
      "[0.6035276630175959]\n",
      "---\n",
      "[]\n",
      "=====\n",
      "[0.3936492227761327]\n",
      "---\n",
      "[]\n",
      "=====\n",
      "[0.8597425457077533]\n",
      "---\n",
      "[0.8330305839663056]\n",
      "=====\n",
      "[0.8167980921719068]\n",
      "---\n",
      "[]\n",
      "=====\n",
      "[0.9999999999999998]\n",
      "---\n",
      "[]\n",
      "=====\n",
      "[0.9999999999999999]\n",
      "---\n",
      "[]\n",
      "=====\n",
      "[0.8893272155395366]\n",
      "---\n",
      "[]\n",
      "=====\n",
      "[0.7188098796822355]\n",
      "---\n",
      "[]\n",
      "=====\n",
      "[0.9999999999999991]\n",
      "---\n",
      "[]\n",
      "=====\n",
      "[0.6670113620786481]\n",
      "---\n",
      "[]\n",
      "=====\n",
      "[0.5346425743587085]\n",
      "---\n",
      "[]\n",
      "=====\n",
      "[1.0000000000000002]\n",
      "---\n",
      "[]\n",
      "=====\n",
      "[0.9430877017549483]\n",
      "---\n",
      "[0.8848734780186168]\n",
      "=====\n",
      "[0.5600873273055217]\n",
      "---\n",
      "[0.534246099510063]\n",
      "=====\n",
      "[0.49665917233466217]\n",
      "---\n",
      "[]\n",
      "=====\n"
     ]
    }
   ],
   "source": [
    "from metab_utils import get_bad_scores_distribution\n",
    "rtd = 31\n",
    "bsvm = get_bad_scores_distribution(peaksets_vl_mal, rtd, mgf_vl, mgf_mal)\n",
    "bsvz = get_bad_scores_distribution(peaksets_vl_zik, rtd, mgf_vl, mgf_zik)\n",
    "bszm = get_bad_scores_distribution(peaksets_zik_mal,rtd, mgf_zik, mgf_mal)"
   ]
  },
  {
   "cell_type": "code",
   "execution_count": 63,
   "metadata": {},
   "outputs": [
    {
     "name": "stdout",
     "output_type": "stream",
     "text": [
      "    #higher bad score       diff #lower bad score       diff #no bad scores\n",
      "0.1                 0       none                0       none              0\n",
      "0.2                 0       none                0       none              0\n",
      "0.3                 0       none                0       none              0\n",
      "0.4                 0       none                1   0.170555              1\n",
      "0.5                 0       none                0       none              2\n",
      "0.6                 2  0.0191444                1  0.0258412              1\n",
      "0.7                 0       none                0       none              4\n",
      "0.8                 1   0.040923                0       none              1\n",
      "0.9                 0       none                2   0.245101              7\n",
      "1.0                 0       none                8   0.607292             18\n",
      "    #higher bad score       diff #lower bad score        diff #no bad scores\n",
      "0.1                 5  0.0320481                1   0.0314477              1\n",
      "0.2                 2   0.139676                3   0.0185563              0\n",
      "0.3                 0       none                1  0.00557719              2\n",
      "0.4                 0       none                0        none              0\n",
      "0.5                 0       none                0        none              1\n",
      "0.6                 0       none                1   0.0222139              0\n",
      "0.7                 0       none                2   0.0244435              1\n",
      "0.8                 0       none                4    0.110303              2\n",
      "0.9                 0       none                5    0.182966              1\n",
      "1.0                 0       none                3    0.120643              2\n",
      "    #higher bad score       diff #lower bad score        diff #no bad scores\n",
      "0.1                 2  0.0420964                1  0.00919798              2\n",
      "0.2                 0       none                1    0.026081              1\n",
      "0.3                 0       none                1    0.134431              1\n",
      "0.4                 0       none                1    0.230902              0\n",
      "0.5                 1    0.34567                0        none              2\n",
      "0.6                 1  0.0221283                1  0.00720829              2\n",
      "0.7                 0       none                0        none              1\n",
      "0.8                 0       none                6   0.0676209              8\n",
      "0.9                 0       none                3    0.284043              5\n",
      "1.0                 0       none                2    0.198072              1\n"
     ]
    },
    {
     "name": "stderr",
     "output_type": "stream",
     "text": [
      "/Users/anamaria/.pyenv/versions/3.8.1/lib/python3.8/site-packages/numpy/core/fromnumeric.py:3372: RuntimeWarning: Mean of empty slice.\n",
      "  return _methods._mean(a, axis=axis, dtype=dtype,\n",
      "/Users/anamaria/.pyenv/versions/3.8.1/lib/python3.8/site-packages/numpy/core/_methods.py:170: RuntimeWarning: invalid value encountered in double_scalars\n",
      "  ret = ret.dtype.type(ret / rcount)\n",
      "/Users/anamaria/.pyenv/versions/3.8.1/lib/python3.8/site-packages/numpy/core/fromnumeric.py:3372: RuntimeWarning: Mean of empty slice.\n",
      "  return _methods._mean(a, axis=axis, dtype=dtype,\n",
      "/Users/anamaria/.pyenv/versions/3.8.1/lib/python3.8/site-packages/numpy/core/_methods.py:170: RuntimeWarning: invalid value encountered in double_scalars\n",
      "  ret = ret.dtype.type(ret / rcount)\n",
      "/Users/anamaria/.pyenv/versions/3.8.1/lib/python3.8/site-packages/numpy/core/fromnumeric.py:3372: RuntimeWarning: Mean of empty slice.\n",
      "  return _methods._mean(a, axis=axis, dtype=dtype,\n",
      "/Users/anamaria/.pyenv/versions/3.8.1/lib/python3.8/site-packages/numpy/core/_methods.py:170: RuntimeWarning: invalid value encountered in double_scalars\n",
      "  ret = ret.dtype.type(ret / rcount)\n"
     ]
    }
   ],
   "source": [
    "from metab_utils import print_threshold\n",
    "print(print_threshold(bszm, peaksets_zik_mal))\n",
    "print(print_threshold(bsvm, peaksets_vl_mal))\n",
    "print(print_threshold(bsvz, peaksets_vl_zik))"
   ]
  },
  {
   "cell_type": "markdown",
   "metadata": {},
   "source": [
    "Calculate the mean from the distribution of the bad scores."
   ]
  },
  {
   "cell_type": "code",
   "execution_count": 64,
   "metadata": {},
   "outputs": [
    {
     "name": "stderr",
     "output_type": "stream",
     "text": [
      "/Users/anamaria/.pyenv/versions/3.8.1/lib/python3.8/site-packages/numpy/core/fromnumeric.py:3372: RuntimeWarning: Mean of empty slice.\n",
      "  return _methods._mean(a, axis=axis, dtype=dtype,\n",
      "/Users/anamaria/.pyenv/versions/3.8.1/lib/python3.8/site-packages/numpy/core/_methods.py:170: RuntimeWarning: invalid value encountered in double_scalars\n",
      "  ret = ret.dtype.type(ret / rcount)\n"
     ]
    }
   ],
   "source": [
    "from metab_utils import calculate_overall\n",
    "act_vl_mal, bs_vl_mal, rts_vl_mal, mz_vl_mal = calculate_overall(bsvm, peaksets_vl_mal)\n",
    "act_vl_zik, bs_vl_zik, rts_vl_zik, mz_vl_zik = calculate_overall(bsvz, peaksets_vl_zik)\n",
    "act_zik_mal, bs_zik_mal, rts_zik_mal, mz_zik_mal = calculate_overall(bszm, peaksets_zik_mal)"
   ]
  },
  {
   "cell_type": "code",
   "execution_count": 65,
   "metadata": {},
   "outputs": [],
   "source": [
    "act_scores = act_vl_zik +act_vl_mal+act_zik_mal\n",
    "bad_scores = bs_vl_zik +bs_vl_mal + bs_zik_mal\n",
    "rts = rts_vl_zik +  rts_vl_mal +rts_zik_mal\n",
    "mz = mz_vl_zik + mz_vl_mal + mz_zik_mal"
   ]
  },
  {
   "cell_type": "code",
   "execution_count": 66,
   "metadata": {},
   "outputs": [],
   "source": [
    "import seaborn as sns"
   ]
  },
  {
   "cell_type": "code",
   "execution_count": 67,
   "metadata": {},
   "outputs": [
    {
     "data": {
      "text/plain": [
       "<matplotlib.axes._subplots.AxesSubplot at 0x124db3a90>"
      ]
     },
     "execution_count": 67,
     "metadata": {},
     "output_type": "execute_result"
    },
    {
     "data": {
      "image/png": "[encoded data removed]",
      "text/plain": [
       "<Figure size 432x288 with 1 Axes>"
      ]
     },
     "metadata": {
      "needs_background": "light"
     },
     "output_type": "display_data"
    }
   ],
   "source": [
    "sns.distplot(act_scores)"
   ]
  },
  {
   "cell_type": "code",
   "execution_count": 68,
   "metadata": {},
   "outputs": [
    {
     "data": {
      "text/plain": [
       "<matplotlib.axes._subplots.AxesSubplot at 0x124ddc5b0>"
      ]
     },
     "execution_count": 68,
     "metadata": {},
     "output_type": "execute_result"
    },
    {
     "data": {
      "image/png": "[encoded data removed]",
      "text/plain": [
       "<Figure size 432x288 with 1 Axes>"
      ]
     },
     "metadata": {
      "needs_background": "light"
     },
     "output_type": "display_data"
    }
   ],
   "source": [
    "sns.distplot(bad_scores)"
   ]
  },
  {
   "cell_type": "code",
   "execution_count": 47,
   "metadata": {},
   "outputs": [
    {
     "data": {
      "image/png": "[encoded data removed]",
      "text/plain": [
       "<Figure size 432x288 with 1 Axes>"
      ]
     },
     "metadata": {
      "needs_background": "light"
     },
     "output_type": "display_data"
    }
   ],
   "source": [
    "fig, ax = plt.subplots()\n",
    "nice_fonts = {\"text.usetex\": True,\n",
    "    \"font.family\": \"serif\",\n",
    "    \"font.serif\" : \"Times New Roman\"}\n",
    "plt.rcParams.update(nice_fonts)\n",
    "\n",
    "plt.rc('font', family='serif')\n",
    "plt.rc('xtick', labelsize=15)\n",
    "plt.rc('ytick', labelsize=15)\n",
    "\n",
    "ax.plot(act_scores, np.array(bad_scores)[:None] -np.array(act_scores)[:None] ,  '.', color = '#000000', alpha = 0.5)\n",
    "ax.hlines(0,-0.02,1.02, color='r')\n",
    "\n",
    "\n",
    "plt.xlabel('Actual spectral similarity score')\n",
    "plt.ylabel('Bad scores - Good scores')\n",
    "plt.xlim(-0.02,1.02)\n",
    "fig.savefig(osp+'positive_mode/ms2scores.tiff', format = 'tiff', dpi =600, bbox_inches='tight')"
   ]
  },
  {
   "cell_type": "code",
   "execution_count": 95,
   "metadata": {},
   "outputs": [
    {
     "data": {
      "image/png": "[encoded data removed]",
      "text/plain": [
       "<Figure size 432x288 with 1 Axes>"
      ]
     },
     "metadata": {
      "needs_background": "light"
     },
     "output_type": "display_data"
    }
   ],
   "source": [
    "fig, ax = plt.subplots()\n",
    "plt.plot(mzs,cdfs,'.', color = '#000000', alpha = 0.5)\n",
    "plt.ylabel('CDF')\n",
    "plt.xlabel('M/z (Da)')\n",
    "fig.savefig(osp+'positive_mode/ms2scores_cdf_mz.tiff', format = 'tiff', dpi =600, bbox_inches='tight')"
   ]
  },
  {
   "cell_type": "code",
   "execution_count": 85,
   "metadata": {},
   "outputs": [],
   "source": [
    "diff = np.array(bad_scores)[:None] -np.array(act_scores)[:None]"
   ]
  },
  {
   "cell_type": "code",
   "execution_count": 70,
   "metadata": {},
   "outputs": [
    {
     "name": "stdout",
     "output_type": "stream",
     "text": [
      "35.97122302158273\n"
     ]
    }
   ],
   "source": [
    "c = 0\n",
    "for d in diff:\n",
    "    if d < 0:\n",
    "        c +=1\n",
    "print(c*100/len(diff))"
   ]
  },
  {
   "cell_type": "code",
   "execution_count": null,
   "metadata": {},
   "outputs": [],
   "source": []
  }
 ],
 "metadata": {
  "kernelspec": {
   "display_name": "Python 3",
   "language": "python",
   "name": "python3"
  },
  "language_info": {
   "codemirror_mode": {
    "name": "ipython",
    "version": 3
   },
   "file_extension": ".py",
   "mimetype": "text/x-python",
   "name": "python",
   "nbconvert_exporter": "python",
   "pygments_lexer": "ipython3",
   "version": "3.8.1"
  }
 },
 "nbformat": 4,
 "nbformat_minor": 2
}
