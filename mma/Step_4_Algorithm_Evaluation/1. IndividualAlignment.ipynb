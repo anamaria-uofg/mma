{
 "cells": [
  {
   "cell_type": "code",
   "execution_count": 1,
   "metadata": {},
   "outputs": [],
   "source": [
    "%load_ext autoreload\n",
    "%autoreload 2"
   ]
  },
  {
   "cell_type": "code",
   "execution_count": 2,
   "metadata": {},
   "outputs": [],
   "source": [
    "import sys\n",
    "import pandas as pd\n",
    "import numpy as np\n",
    "import matplotlib.pyplot as plt\n",
    "import seaborn as sns\n",
    "import rpy2\n",
    "from sklearn.decomposition import PCA\n",
    "sys.path.append('..')"
   ]
  },
  {
   "cell_type": "code",
   "execution_count": 3,
   "metadata": {},
   "outputs": [],
   "source": [
    "WIN = 'D:/'\n",
    "MAC = '/Volumes/Transcend2/17_20_PhD/19_20_PhD_Metabolomics/'\n",
    "\n",
    "osp = MAC"
   ]
  },
  {
   "cell_type": "code",
   "execution_count": 4,
   "metadata": {},
   "outputs": [],
   "source": [
    "MZMINE_COMMAND = osp+'git/MZmine-2.40.1/startMZmine_MacOSX.command'"
   ]
  },
  {
   "cell_type": "code",
   "execution_count": 5,
   "metadata": {},
   "outputs": [],
   "source": [
    "MNET_PATH = osp+'git/molnet/code/'"
   ]
  },
  {
   "cell_type": "markdown",
   "metadata": {},
   "source": [
    "## 1. Divide samples into control or condition"
   ]
  },
  {
   "cell_type": "code",
   "execution_count": 60,
   "metadata": {},
   "outputs": [],
   "source": [
    "output_dir = osp+'pymz/mzmine/peak_picked_files/mal/'"
   ]
  },
  {
   "cell_type": "code",
   "execution_count": 68,
   "metadata": {},
   "outputs": [],
   "source": [
    "dataset_name = 'Malaria'"
   ]
  },
  {
   "cell_type": "code",
   "execution_count": 69,
   "metadata": {},
   "outputs": [],
   "source": [
    "aligned_file = output_dir + 'pp_aligned.csv'"
   ]
  },
  {
   "cell_type": "code",
   "execution_count": 70,
   "metadata": {},
   "outputs": [],
   "source": [
    "all_df = pd.read_csv(aligned_file, index_col=0)\n",
    "feature_description = all_df.iloc[:,:2]\n",
    "all_samples = all_df.iloc[:,2:-1]\n",
    "all_samples.columns = [x.split(\" \")[0] for x in list(all_samples.columns)]"
   ]
  },
  {
   "cell_type": "code",
   "execution_count": null,
   "metadata": {},
   "outputs": [],
   "source": []
  },
  {
   "cell_type": "markdown",
   "metadata": {},
   "source": [
    "## 2. Create samples description dataframe"
   ]
  },
  {
   "cell_type": "code",
   "execution_count": 71,
   "metadata": {},
   "outputs": [],
   "source": [
    "condition = []\n",
    "dataset = []\n",
    "for name in np.array(all_samples.columns):\n",
    "    value = name.split('.')[0].split('_')[0][0]\n",
    "    value2 = name.split('.')[0].split('_')[0][0]\n",
    "    \n",
    "    if (value == 'C' and len(name.split('.')[0].split('_')) == 2 and name.split('.')[0].split('_')[1] == '2'):\n",
    "        condition.append('control')\n",
    "        dataset.append('VL')\n",
    "    elif  (value == 'C'):   \n",
    "        condition.append('control')\n",
    "        dataset.append('Zika')\n",
    "    elif (value == 'Z'):\n",
    "        condition.append('infected')\n",
    "        dataset.append('Zika')\n",
    "    elif (value[0] == 'V'):\n",
    "        condition.append('infected')\n",
    "        dataset.append('VL')\n",
    "    elif (name.split('.')[0][0] == 'A' or name.split('.')[0][0] == 'B'):\n",
    "        dataset.append('HAT')\n",
    "        if name.split('.')[0][4] == 'P':\n",
    "            condition.append('infected')\n",
    "        elif name.split('.')[0][4] == 'C':\n",
    "            condition.append('control')   \n",
    "    elif (value == 'K' and int(name.split('.')[0].split('_')[1])%3 == 1 ):\n",
    "        condition.append('control')\n",
    "        dataset.append('Malaria')\n",
    "    else:\n",
    "        condition.append('infected')\n",
    "        dataset.append('Malaria')\n",
    "        \n",
    "sample_description = pd.DataFrame(data=[list(all_samples.columns),condition,dataset] )\n",
    "sample_description = sample_description.transpose()\n",
    "sample_description.columns = ['Sample Name', 'Condition', 'Dataset']"
   ]
  },
  {
   "cell_type": "code",
   "execution_count": 72,
   "metadata": {},
   "outputs": [],
   "source": [
    "sample_description = pd.read_csv(osp+'sample_description.csv')\n",
    "sample_description = sample_description[sample_description['Dataset'] == dataset_name]"
   ]
  },
  {
   "cell_type": "code",
   "execution_count": 73,
   "metadata": {},
   "outputs": [],
   "source": [
    "sample_description[\"ConditionDataset\"] = sample_description[\"Condition\"]+sample_description[\"Dataset\"]"
   ]
  },
  {
   "cell_type": "code",
   "execution_count": null,
   "metadata": {},
   "outputs": [],
   "source": []
  },
  {
   "cell_type": "code",
   "execution_count": 74,
   "metadata": {
    "scrolled": true
   },
   "outputs": [
    {
     "data": {
      "text/html": [
       "<div>\n",
       "<style scoped>\n",
       "    .dataframe tbody tr th:only-of-type {\n",
       "        vertical-align: middle;\n",
       "    }\n",
       "\n",
       "    .dataframe tbody tr th {\n",
       "        vertical-align: top;\n",
       "    }\n",
       "\n",
       "    .dataframe thead th {\n",
       "        text-align: right;\n",
       "    }\n",
       "</style>\n",
       "<table border=\"1\" class=\"dataframe\">\n",
       "  <thead>\n",
       "    <tr style=\"text-align: right;\">\n",
       "      <th></th>\n",
       "      <th>Sample Name</th>\n",
       "      <th>Condition</th>\n",
       "      <th>Dataset</th>\n",
       "      <th>ConditionDataset</th>\n",
       "    </tr>\n",
       "  </thead>\n",
       "  <tbody>\n",
       "    <tr>\n",
       "      <th>0</th>\n",
       "      <td>KM_10.mzXML</td>\n",
       "      <td>control</td>\n",
       "      <td>Malaria</td>\n",
       "      <td>controlMalaria</td>\n",
       "    </tr>\n",
       "    <tr>\n",
       "      <th>1</th>\n",
       "      <td>KM_9.mzXML</td>\n",
       "      <td>infected</td>\n",
       "      <td>Malaria</td>\n",
       "      <td>infectedMalaria</td>\n",
       "    </tr>\n",
       "    <tr>\n",
       "      <th>2</th>\n",
       "      <td>KM_3.mzXML</td>\n",
       "      <td>infected</td>\n",
       "      <td>Malaria</td>\n",
       "      <td>infectedMalaria</td>\n",
       "    </tr>\n",
       "    <tr>\n",
       "      <th>3</th>\n",
       "      <td>KM_4.mzXML</td>\n",
       "      <td>control</td>\n",
       "      <td>Malaria</td>\n",
       "      <td>controlMalaria</td>\n",
       "    </tr>\n",
       "    <tr>\n",
       "      <th>4</th>\n",
       "      <td>KM_1.mzXML</td>\n",
       "      <td>control</td>\n",
       "      <td>Malaria</td>\n",
       "      <td>controlMalaria</td>\n",
       "    </tr>\n",
       "    <tr>\n",
       "      <th>5</th>\n",
       "      <td>KM_16.mzXML</td>\n",
       "      <td>control</td>\n",
       "      <td>Malaria</td>\n",
       "      <td>controlMalaria</td>\n",
       "    </tr>\n",
       "    <tr>\n",
       "      <th>6</th>\n",
       "      <td>KM_13.mzXML</td>\n",
       "      <td>control</td>\n",
       "      <td>Malaria</td>\n",
       "      <td>controlMalaria</td>\n",
       "    </tr>\n",
       "    <tr>\n",
       "      <th>7</th>\n",
       "      <td>KM_12.mzXML</td>\n",
       "      <td>infected</td>\n",
       "      <td>Malaria</td>\n",
       "      <td>infectedMalaria</td>\n",
       "    </tr>\n",
       "    <tr>\n",
       "      <th>8</th>\n",
       "      <td>KM_19.mzXML</td>\n",
       "      <td>control</td>\n",
       "      <td>Malaria</td>\n",
       "      <td>controlMalaria</td>\n",
       "    </tr>\n",
       "    <tr>\n",
       "      <th>9</th>\n",
       "      <td>KM_18.mzXML</td>\n",
       "      <td>infected</td>\n",
       "      <td>Malaria</td>\n",
       "      <td>infectedMalaria</td>\n",
       "    </tr>\n",
       "    <tr>\n",
       "      <th>10</th>\n",
       "      <td>KM_15.mzXML</td>\n",
       "      <td>infected</td>\n",
       "      <td>Malaria</td>\n",
       "      <td>infectedMalaria</td>\n",
       "    </tr>\n",
       "    <tr>\n",
       "      <th>11</th>\n",
       "      <td>KM_21.mzXML</td>\n",
       "      <td>infected</td>\n",
       "      <td>Malaria</td>\n",
       "      <td>infectedMalaria</td>\n",
       "    </tr>\n",
       "    <tr>\n",
       "      <th>12</th>\n",
       "      <td>KM_7.mzXML</td>\n",
       "      <td>control</td>\n",
       "      <td>Malaria</td>\n",
       "      <td>controlMalaria</td>\n",
       "    </tr>\n",
       "    <tr>\n",
       "      <th>13</th>\n",
       "      <td>KM_6.mzXML</td>\n",
       "      <td>infected</td>\n",
       "      <td>Malaria</td>\n",
       "      <td>infectedMalaria</td>\n",
       "    </tr>\n",
       "  </tbody>\n",
       "</table>\n",
       "</div>"
      ],
      "text/plain": [
       "    Sample Name Condition  Dataset ConditionDataset\n",
       "0   KM_10.mzXML   control  Malaria   controlMalaria\n",
       "1    KM_9.mzXML  infected  Malaria  infectedMalaria\n",
       "2    KM_3.mzXML  infected  Malaria  infectedMalaria\n",
       "3    KM_4.mzXML   control  Malaria   controlMalaria\n",
       "4    KM_1.mzXML   control  Malaria   controlMalaria\n",
       "5   KM_16.mzXML   control  Malaria   controlMalaria\n",
       "6   KM_13.mzXML   control  Malaria   controlMalaria\n",
       "7   KM_12.mzXML  infected  Malaria  infectedMalaria\n",
       "8   KM_19.mzXML   control  Malaria   controlMalaria\n",
       "9   KM_18.mzXML  infected  Malaria  infectedMalaria\n",
       "10  KM_15.mzXML  infected  Malaria  infectedMalaria\n",
       "11  KM_21.mzXML  infected  Malaria  infectedMalaria\n",
       "12   KM_7.mzXML   control  Malaria   controlMalaria\n",
       "13   KM_6.mzXML  infected  Malaria  infectedMalaria"
      ]
     },
     "execution_count": 74,
     "metadata": {},
     "output_type": "execute_result"
    }
   ],
   "source": [
    "sample_description"
   ]
  },
  {
   "cell_type": "code",
   "execution_count": null,
   "metadata": {},
   "outputs": [],
   "source": [
    "#Save the sample description to a csv file.\n",
    "#sample_description = pd.read_csv('/Users/anamaria/Desktop/mzmine/221119/sample_description.csv', sep=',', index_col = 0)"
   ]
  },
  {
   "cell_type": "markdown",
   "metadata": {},
   "source": [
    "## 3. Preprocess intensities dataframe"
   ]
  },
  {
   "cell_type": "markdown",
   "metadata": {},
   "source": [
    "#### 1. Log the sample intensities in order to prepare it for limma analysis."
   ]
  },
  {
   "cell_type": "code",
   "execution_count": 75,
   "metadata": {},
   "outputs": [],
   "source": [
    "all_samples_log = np.log2(all_samples+1)"
   ]
  },
  {
   "cell_type": "code",
   "execution_count": 76,
   "metadata": {},
   "outputs": [
    {
     "name": "stdout",
     "output_type": "stream",
     "text": [
      "The number of samples is: 12868\n"
     ]
    }
   ],
   "source": [
    "print(\"The number of samples is: {}\".format(len(all_samples_log)))"
   ]
  },
  {
   "cell_type": "code",
   "execution_count": 77,
   "metadata": {},
   "outputs": [],
   "source": [
    "all_samples_log = all_samples_log[list(sample_description['Sample Name'])]"
   ]
  },
  {
   "cell_type": "code",
   "execution_count": 172,
   "metadata": {},
   "outputs": [
    {
     "data": {
      "text/plain": [
       "<matplotlib.axes._subplots.AxesSubplot at 0x147ecf9a0>"
      ]
     },
     "execution_count": 172,
     "metadata": {},
     "output_type": "execute_result"
    },
    {
     "data": {
      "image/png": "[encoded data removed]",
      "text/plain": [
       "<Figure size 432x288 with 1 Axes>"
      ]
     },
     "metadata": {
      "needs_background": "light"
     },
     "output_type": "display_data"
    }
   ],
   "source": [
    "all_samples_log.plot.density(legend = False)"
   ]
  },
  {
   "cell_type": "markdown",
   "metadata": {},
   "source": [
    "#### 2. Rearrange the dataframe based on condition."
   ]
  },
  {
   "cell_type": "code",
   "execution_count": 78,
   "metadata": {},
   "outputs": [],
   "source": [
    "alldataset = all_samples_log.transpose()[np.array(sample_description['Dataset'] == dataset_name)].transpose()\n",
    "con = alldataset.transpose()[np.array(sample_description[sample_description[\"Dataset\"] == \n",
    "                                                         dataset_name]['Condition'] ==\"control\")].transpose()\n",
    "inf = alldataset.transpose()[np.array(sample_description[sample_description[\"Dataset\"] == \n",
    "                                                         dataset_name]['Condition'] ==\"infected\")].transpose()\n",
    "\n",
    "pdList = [con, inf]  \n",
    "all_samples_log_rearanged = pd.concat(pdList, axis = 1)"
   ]
  },
  {
   "cell_type": "markdown",
   "metadata": {},
   "source": [
    "#### 3. Plot heatmap of the logged intensities."
   ]
  },
  {
   "cell_type": "code",
   "execution_count": 79,
   "metadata": {},
   "outputs": [
    {
     "data": {
      "image/png": "[encoded data removed]",
      "text/plain": [
       "<Figure size 720x360 with 2 Axes>"
      ]
     },
     "metadata": {
      "needs_background": "light"
     },
     "output_type": "display_data"
    }
   ],
   "source": [
    "plt.figure(figsize=(10,5))\n",
    "plt.imshow(all_samples_log_rearanged,aspect='auto')\n",
    "plt.xticks(list(range(0,len(all_samples_log_rearanged.columns))), all_samples_log_rearanged.columns, rotation = 90)\n",
    "plt.colorbar()\n",
    "plt.show()\n"
   ]
  },
  {
   "cell_type": "code",
   "execution_count": 44,
   "metadata": {},
   "outputs": [
    {
     "data": {
      "text/plain": [
       "<matplotlib.axes._subplots.AxesSubplot at 0x11de1af40>"
      ]
     },
     "execution_count": 44,
     "metadata": {},
     "output_type": "execute_result"
    },
    {
     "data": {
      "image/png": "[encoded data removed]",
      "text/plain": [
       "<Figure size 1152x720 with 1 Axes>"
      ]
     },
     "metadata": {
      "needs_background": "light"
     },
     "output_type": "display_data"
    }
   ],
   "source": [
    "pca_samples = PCA(n_components=3)\n",
    "\n",
    "principalComponents = pca_samples.fit_transform(all_samples_log_rearanged.transpose())\n",
    "principalComponents_df = pd.DataFrame(data = principalComponents, columns= ['PC1','PC2', 'PC3'])\n",
    "principalComponents_df['condition'] = list(sample_description['Condition'])\n",
    "principalComponents_df['dataset'] = list(sample_description['Dataset'])\n",
    "\n",
    "plt.figure(figsize=(16,10))\n",
    "sns.scatterplot(x=\"PC1\", y=\"PC2\",hue=\"condition\",\n",
    "    palette=sns.color_palette(\"hls\", 2),\n",
    "    data=principalComponents_df,\n",
    "    legend=\"full\",\n",
    "    alpha=0.8\n",
    ")"
   ]
  },
  {
   "cell_type": "markdown",
   "metadata": {},
   "source": [
    "#### 4. Filter data, so that 50% of the peaks in each dataset are not 0s.\n",
    "\n",
    "\n",
    "Skip this step for individual datasets."
   ]
  },
  {
   "cell_type": "code",
   "execution_count": 80,
   "metadata": {},
   "outputs": [],
   "source": [
    "def get_ids_for_x_percent(x,dataframe):\n",
    "    idlist = []\n",
    "    for rowid,row in dataframe.iterrows():\n",
    "        total_zero = 0\n",
    "        for i in range(len(row)):\n",
    "            if row[i] == 0.0:\n",
    "                total_zero += 1\n",
    "        percentage = total_zero*100/len(row)\n",
    "        if percentage <= x:\n",
    "            idlist.append(rowid)\n",
    "    return np.array(idlist)"
   ]
  },
  {
   "cell_type": "code",
   "execution_count": 81,
   "metadata": {},
   "outputs": [
    {
     "name": "stdout",
     "output_type": "stream",
     "text": [
      "2152\n"
     ]
    }
   ],
   "source": [
    "iddataset = get_ids_for_x_percent(50, all_samples_log_rearanged[alldataset.columns])\n",
    "inters = set(iddataset)\n",
    "print(len(inters))\n",
    "all_samples_log_filtered_50 = all_samples_log.loc[inters]\n",
    "#all_samples_log_filtered_50.plot.density(legend=False)"
   ]
  },
  {
   "cell_type": "markdown",
   "metadata": {},
   "source": [
    "#### 5. Impute missing values using KNN"
   ]
  },
  {
   "cell_type": "markdown",
   "metadata": {},
   "source": [
    "Skip this step for individual datasets analysis."
   ]
  },
  {
   "cell_type": "code",
   "execution_count": 123,
   "metadata": {},
   "outputs": [],
   "source": [
    "from fancyimpute import KNN\n",
    "def impute_knn(con, dataset):\n",
    "    con_filt = dataset[con.columns]\n",
    "    con_filt.replace(0, np.nan, inplace = True)\n",
    "    con_filled_knn = KNN(k=3).fit_transform(con_filt)\n",
    "    df = pd.DataFrame(con_filled_knn, columns=con_filt.columns, index = con_filt.index)\n",
    "    return df"
   ]
  },
  {
   "cell_type": "code",
   "execution_count": 174,
   "metadata": {},
   "outputs": [
    {
     "name": "stderr",
     "output_type": "stream",
     "text": [
      "/Users/anamaria/.pyenv/versions/3.8.1/lib/python3.8/site-packages/pandas/core/frame.py:4166: SettingWithCopyWarning: \n",
      "A value is trying to be set on a copy of a slice from a DataFrame\n",
      "\n",
      "See the caveats in the documentation: https://pandas.pydata.org/pandas-docs/stable/user_guide/indexing.html#returning-a-view-versus-a-copy\n",
      "  return super().replace(\n"
     ]
    },
    {
     "name": "stdout",
     "output_type": "stream",
     "text": [
      "Imputing row 1/12393 with 0 missing, elapsed time: 33.448\n",
      "Imputing row 101/12393 with 0 missing, elapsed time: 33.483\n",
      "Imputing row 201/12393 with 8 missing, elapsed time: 33.506\n",
      "Imputing row 301/12393 with 0 missing, elapsed time: 33.527\n",
      "Imputing row 401/12393 with 0 missing, elapsed time: 33.550\n",
      "Imputing row 501/12393 with 4 missing, elapsed time: 33.565\n",
      "Imputing row 601/12393 with 0 missing, elapsed time: 33.589\n",
      "Imputing row 701/12393 with 0 missing, elapsed time: 33.606\n",
      "Imputing row 801/12393 with 0 missing, elapsed time: 33.631\n",
      "Imputing row 901/12393 with 9 missing, elapsed time: 33.648\n",
      "Imputing row 1001/12393 with 9 missing, elapsed time: 33.681\n",
      "Imputing row 1101/12393 with 0 missing, elapsed time: 33.699\n",
      "Imputing row 1201/12393 with 8 missing, elapsed time: 33.717\n",
      "Imputing row 1301/12393 with 9 missing, elapsed time: 33.750\n",
      "Imputing row 1401/12393 with 0 missing, elapsed time: 33.771\n",
      "Imputing row 1501/12393 with 1 missing, elapsed time: 33.791\n",
      "Imputing row 1601/12393 with 8 missing, elapsed time: 33.815\n",
      "Imputing row 1701/12393 with 0 missing, elapsed time: 33.837\n",
      "Imputing row 1801/12393 with 9 missing, elapsed time: 33.858\n",
      "Imputing row 1901/12393 with 0 missing, elapsed time: 33.879\n",
      "Imputing row 2001/12393 with 1 missing, elapsed time: 33.905\n",
      "Imputing row 2101/12393 with 9 missing, elapsed time: 33.923\n",
      "Imputing row 2201/12393 with 8 missing, elapsed time: 33.951\n",
      "Imputing row 2301/12393 with 0 missing, elapsed time: 33.973\n",
      "Imputing row 2401/12393 with 0 missing, elapsed time: 33.996\n",
      "Imputing row 2501/12393 with 8 missing, elapsed time: 34.025\n",
      "Imputing row 2601/12393 with 2 missing, elapsed time: 34.045\n",
      "Imputing row 2701/12393 with 0 missing, elapsed time: 34.068\n",
      "Imputing row 2801/12393 with 7 missing, elapsed time: 34.090\n",
      "Imputing row 2901/12393 with 0 missing, elapsed time: 34.115\n",
      "Imputing row 3001/12393 with 6 missing, elapsed time: 34.132\n",
      "Imputing row 3101/12393 with 2 missing, elapsed time: 34.159\n",
      "Imputing row 3201/12393 with 6 missing, elapsed time: 34.191\n",
      "Imputing row 3301/12393 with 9 missing, elapsed time: 34.222\n",
      "Imputing row 3401/12393 with 4 missing, elapsed time: 34.251\n",
      "Imputing row 3501/12393 with 9 missing, elapsed time: 34.282\n",
      "Imputing row 3601/12393 with 8 missing, elapsed time: 34.312\n",
      "Imputing row 3701/12393 with 7 missing, elapsed time: 34.377\n",
      "Imputing row 3801/12393 with 9 missing, elapsed time: 34.427\n",
      "Imputing row 3901/12393 with 6 missing, elapsed time: 34.463\n",
      "Imputing row 4001/12393 with 7 missing, elapsed time: 34.512\n",
      "Imputing row 4101/12393 with 9 missing, elapsed time: 34.548\n",
      "Imputing row 4201/12393 with 8 missing, elapsed time: 34.589\n",
      "Imputing row 4301/12393 with 8 missing, elapsed time: 34.639\n",
      "Imputing row 4401/12393 with 7 missing, elapsed time: 34.680\n",
      "Imputing row 4501/12393 with 7 missing, elapsed time: 34.742\n",
      "Imputing row 4601/12393 with 7 missing, elapsed time: 34.795\n",
      "Imputing row 4701/12393 with 0 missing, elapsed time: 34.839\n",
      "Imputing row 4801/12393 with 8 missing, elapsed time: 34.882\n",
      "Imputing row 4901/12393 with 6 missing, elapsed time: 34.941\n",
      "Imputing row 5001/12393 with 7 missing, elapsed time: 34.987\n",
      "Imputing row 5101/12393 with 4 missing, elapsed time: 35.032\n",
      "Imputing row 5201/12393 with 6 missing, elapsed time: 35.076\n",
      "Imputing row 5301/12393 with 9 missing, elapsed time: 35.118\n",
      "Imputing row 5401/12393 with 8 missing, elapsed time: 35.152\n",
      "Imputing row 5501/12393 with 6 missing, elapsed time: 35.188\n",
      "Imputing row 5601/12393 with 8 missing, elapsed time: 35.220\n",
      "Imputing row 5701/12393 with 9 missing, elapsed time: 35.254\n",
      "Imputing row 5801/12393 with 9 missing, elapsed time: 35.285\n",
      "Imputing row 5901/12393 with 9 missing, elapsed time: 35.321\n",
      "Imputing row 6001/12393 with 7 missing, elapsed time: 35.349\n",
      "Imputing row 6101/12393 with 9 missing, elapsed time: 35.374\n",
      "Imputing row 6201/12393 with 6 missing, elapsed time: 35.410\n",
      "Imputing row 6301/12393 with 8 missing, elapsed time: 35.457\n",
      "Imputing row 6401/12393 with 8 missing, elapsed time: 35.505\n",
      "Imputing row 6501/12393 with 8 missing, elapsed time: 35.547\n",
      "Imputing row 6601/12393 with 8 missing, elapsed time: 35.589\n",
      "Imputing row 6701/12393 with 7 missing, elapsed time: 35.633\n",
      "Imputing row 6801/12393 with 8 missing, elapsed time: 35.667\n",
      "Imputing row 6901/12393 with 9 missing, elapsed time: 35.691\n",
      "Imputing row 7001/12393 with 9 missing, elapsed time: 35.722\n",
      "Imputing row 7101/12393 with 7 missing, elapsed time: 35.752\n",
      "Imputing row 7201/12393 with 8 missing, elapsed time: 35.774\n",
      "Imputing row 7301/12393 with 9 missing, elapsed time: 35.801\n",
      "Imputing row 7401/12393 with 8 missing, elapsed time: 35.826\n",
      "Imputing row 7501/12393 with 8 missing, elapsed time: 35.842\n",
      "Imputing row 7601/12393 with 7 missing, elapsed time: 35.881\n",
      "Imputing row 7701/12393 with 8 missing, elapsed time: 35.924\n",
      "Imputing row 7801/12393 with 8 missing, elapsed time: 35.968\n",
      "Imputing row 7901/12393 with 8 missing, elapsed time: 36.016\n",
      "Imputing row 8001/12393 with 6 missing, elapsed time: 36.103\n",
      "Imputing row 8101/12393 with 6 missing, elapsed time: 36.257\n",
      "Imputing row 8201/12393 with 7 missing, elapsed time: 36.396\n",
      "Imputing row 8301/12393 with 7 missing, elapsed time: 36.524\n",
      "Imputing row 8401/12393 with 8 missing, elapsed time: 36.598\n",
      "Imputing row 8501/12393 with 8 missing, elapsed time: 36.658\n",
      "Imputing row 8601/12393 with 6 missing, elapsed time: 36.713\n",
      "Imputing row 8701/12393 with 8 missing, elapsed time: 36.764\n",
      "Imputing row 8801/12393 with 8 missing, elapsed time: 36.848\n",
      "Imputing row 8901/12393 with 8 missing, elapsed time: 36.939\n",
      "Imputing row 9001/12393 with 9 missing, elapsed time: 36.976\n",
      "Imputing row 9101/12393 with 9 missing, elapsed time: 37.003\n",
      "Imputing row 9201/12393 with 8 missing, elapsed time: 37.041\n",
      "Imputing row 9301/12393 with 8 missing, elapsed time: 37.074\n",
      "Imputing row 9401/12393 with 8 missing, elapsed time: 37.136\n",
      "Imputing row 9501/12393 with 8 missing, elapsed time: 37.180\n",
      "Imputing row 9601/12393 with 8 missing, elapsed time: 37.233\n",
      "Imputing row 9701/12393 with 7 missing, elapsed time: 37.288\n",
      "Imputing row 9801/12393 with 8 missing, elapsed time: 37.341\n",
      "Imputing row 9901/12393 with 8 missing, elapsed time: 37.390\n",
      "Imputing row 10001/12393 with 8 missing, elapsed time: 37.435\n",
      "Imputing row 10101/12393 with 9 missing, elapsed time: 37.467\n",
      "Imputing row 10201/12393 with 9 missing, elapsed time: 37.483\n",
      "Imputing row 10301/12393 with 9 missing, elapsed time: 37.504\n",
      "Imputing row 10401/12393 with 9 missing, elapsed time: 37.519\n",
      "Imputing row 10501/12393 with 8 missing, elapsed time: 37.559\n",
      "Imputing row 10601/12393 with 8 missing, elapsed time: 37.602\n",
      "Imputing row 10701/12393 with 8 missing, elapsed time: 37.642\n",
      "Imputing row 10801/12393 with 9 missing, elapsed time: 37.656\n",
      "Imputing row 10901/12393 with 9 missing, elapsed time: 37.672\n",
      "Imputing row 11001/12393 with 9 missing, elapsed time: 37.689\n",
      "Imputing row 11101/12393 with 9 missing, elapsed time: 37.703\n",
      "Imputing row 11201/12393 with 8 missing, elapsed time: 37.719\n",
      "Imputing row 11301/12393 with 7 missing, elapsed time: 37.768\n",
      "Imputing row 11401/12393 with 7 missing, elapsed time: 37.817\n",
      "Imputing row 11501/12393 with 9 missing, elapsed time: 37.851\n",
      "Imputing row 11601/12393 with 9 missing, elapsed time: 37.865\n",
      "Imputing row 11701/12393 with 9 missing, elapsed time: 37.877\n",
      "Imputing row 11801/12393 with 9 missing, elapsed time: 37.889\n",
      "Imputing row 11901/12393 with 9 missing, elapsed time: 37.904\n",
      "Imputing row 12001/12393 with 9 missing, elapsed time: 37.916\n",
      "Imputing row 12101/12393 with 9 missing, elapsed time: 37.926\n",
      "Imputing row 12201/12393 with 8 missing, elapsed time: 37.947\n",
      "Imputing row 12301/12393 with 8 missing, elapsed time: 37.990\n",
      "[KNN] Warning: 28467/111537 still missing after imputation, replacing with 0\n"
     ]
    },
    {
     "name": "stderr",
     "output_type": "stream",
     "text": [
      "/Users/anamaria/.pyenv/versions/3.8.1/lib/python3.8/site-packages/pandas/core/frame.py:4166: SettingWithCopyWarning: \n",
      "A value is trying to be set on a copy of a slice from a DataFrame\n",
      "\n",
      "See the caveats in the documentation: https://pandas.pydata.org/pandas-docs/stable/user_guide/indexing.html#returning-a-view-versus-a-copy\n",
      "  return super().replace(\n"
     ]
    },
    {
     "name": "stdout",
     "output_type": "stream",
     "text": [
      "Imputing row 1/12393 with 0 missing, elapsed time: 32.587\n",
      "Imputing row 101/12393 with 0 missing, elapsed time: 32.615\n",
      "Imputing row 201/12393 with 9 missing, elapsed time: 32.649\n",
      "Imputing row 301/12393 with 0 missing, elapsed time: 32.670\n",
      "Imputing row 401/12393 with 0 missing, elapsed time: 32.695\n",
      "Imputing row 501/12393 with 5 missing, elapsed time: 32.718\n",
      "Imputing row 601/12393 with 0 missing, elapsed time: 32.756\n",
      "Imputing row 701/12393 with 0 missing, elapsed time: 32.779\n",
      "Imputing row 801/12393 with 1 missing, elapsed time: 32.808\n",
      "Imputing row 901/12393 with 7 missing, elapsed time: 32.832\n",
      "Imputing row 1001/12393 with 8 missing, elapsed time: 32.861\n",
      "Imputing row 1101/12393 with 0 missing, elapsed time: 32.886\n",
      "Imputing row 1201/12393 with 9 missing, elapsed time: 32.910\n",
      "Imputing row 1301/12393 with 9 missing, elapsed time: 32.943\n",
      "Imputing row 1401/12393 with 0 missing, elapsed time: 32.972\n",
      "Imputing row 1501/12393 with 2 missing, elapsed time: 32.999\n",
      "Imputing row 1601/12393 with 9 missing, elapsed time: 33.221\n",
      "Imputing row 1701/12393 with 0 missing, elapsed time: 33.300\n",
      "Imputing row 1801/12393 with 9 missing, elapsed time: 33.371\n",
      "Imputing row 1901/12393 with 0 missing, elapsed time: 33.406\n",
      "Imputing row 2001/12393 with 2 missing, elapsed time: 33.439\n",
      "Imputing row 2101/12393 with 8 missing, elapsed time: 33.466\n",
      "Imputing row 2201/12393 with 9 missing, elapsed time: 33.496\n",
      "Imputing row 2301/12393 with 0 missing, elapsed time: 33.540\n",
      "Imputing row 2401/12393 with 0 missing, elapsed time: 33.568\n",
      "Imputing row 2501/12393 with 9 missing, elapsed time: 33.606\n",
      "Imputing row 2601/12393 with 2 missing, elapsed time: 33.644\n",
      "Imputing row 2701/12393 with 0 missing, elapsed time: 33.668\n",
      "Imputing row 2801/12393 with 9 missing, elapsed time: 33.694\n",
      "Imputing row 2901/12393 with 0 missing, elapsed time: 33.726\n",
      "Imputing row 3001/12393 with 5 missing, elapsed time: 33.749\n",
      "Imputing row 3101/12393 with 3 missing, elapsed time: 33.801\n",
      "Imputing row 3201/12393 with 6 missing, elapsed time: 33.884\n",
      "Imputing row 3301/12393 with 9 missing, elapsed time: 33.967\n",
      "Imputing row 3401/12393 with 3 missing, elapsed time: 34.033\n",
      "Imputing row 3501/12393 with 9 missing, elapsed time: 34.104\n",
      "Imputing row 3601/12393 with 7 missing, elapsed time: 34.188\n",
      "Imputing row 3701/12393 with 7 missing, elapsed time: 34.283\n",
      "Imputing row 3801/12393 with 6 missing, elapsed time: 34.346\n",
      "Imputing row 3901/12393 with 6 missing, elapsed time: 34.404\n",
      "Imputing row 4001/12393 with 9 missing, elapsed time: 34.457\n",
      "Imputing row 4101/12393 with 9 missing, elapsed time: 34.512\n",
      "Imputing row 4201/12393 with 6 missing, elapsed time: 34.573\n",
      "Imputing row 4301/12393 with 8 missing, elapsed time: 34.628\n",
      "Imputing row 4401/12393 with 9 missing, elapsed time: 34.670\n",
      "Imputing row 4501/12393 with 8 missing, elapsed time: 34.706\n",
      "Imputing row 4601/12393 with 9 missing, elapsed time: 34.742\n",
      "Imputing row 4701/12393 with 6 missing, elapsed time: 34.786\n",
      "Imputing row 4801/12393 with 9 missing, elapsed time: 34.830\n",
      "Imputing row 4901/12393 with 6 missing, elapsed time: 34.870\n",
      "Imputing row 5001/12393 with 9 missing, elapsed time: 34.913\n",
      "Imputing row 5101/12393 with 7 missing, elapsed time: 34.950\n",
      "Imputing row 5201/12393 with 4 missing, elapsed time: 34.990\n",
      "Imputing row 5301/12393 with 8 missing, elapsed time: 35.035\n",
      "Imputing row 5401/12393 with 9 missing, elapsed time: 35.095\n",
      "Imputing row 5501/12393 with 8 missing, elapsed time: 35.169\n",
      "Imputing row 5601/12393 with 9 missing, elapsed time: 35.235\n",
      "Imputing row 5701/12393 with 9 missing, elapsed time: 35.293\n",
      "Imputing row 5801/12393 with 9 missing, elapsed time: 35.358\n",
      "Imputing row 5901/12393 with 8 missing, elapsed time: 35.427\n",
      "Imputing row 6001/12393 with 8 missing, elapsed time: 35.494\n",
      "Imputing row 6101/12393 with 9 missing, elapsed time: 35.555\n",
      "Imputing row 6201/12393 with 6 missing, elapsed time: 35.592\n",
      "Imputing row 6301/12393 with 10 missing, elapsed time: 35.624\n",
      "Imputing row 6401/12393 with 10 missing, elapsed time: 35.650\n",
      "Imputing row 6501/12393 with 10 missing, elapsed time: 35.686\n",
      "Imputing row 6601/12393 with 9 missing, elapsed time: 35.716\n",
      "Imputing row 6701/12393 with 10 missing, elapsed time: 35.745\n",
      "Imputing row 6801/12393 with 9 missing, elapsed time: 35.787\n",
      "Imputing row 6901/12393 with 9 missing, elapsed time: 35.830\n",
      "Imputing row 7001/12393 with 9 missing, elapsed time: 35.872\n",
      "Imputing row 7101/12393 with 6 missing, elapsed time: 35.916\n",
      "Imputing row 7201/12393 with 7 missing, elapsed time: 35.960\n",
      "Imputing row 7301/12393 with 9 missing, elapsed time: 36.016\n",
      "Imputing row 7401/12393 with 7 missing, elapsed time: 36.072\n",
      "Imputing row 7501/12393 with 9 missing, elapsed time: 36.123\n",
      "Imputing row 7601/12393 with 9 missing, elapsed time: 36.160\n",
      "Imputing row 7701/12393 with 10 missing, elapsed time: 36.195\n",
      "Imputing row 7801/12393 with 10 missing, elapsed time: 36.231\n",
      "Imputing row 7901/12393 with 9 missing, elapsed time: 36.261\n",
      "Imputing row 8001/12393 with 9 missing, elapsed time: 36.291\n",
      "Imputing row 8101/12393 with 10 missing, elapsed time: 36.317\n",
      "Imputing row 8201/12393 with 10 missing, elapsed time: 36.343\n",
      "Imputing row 8301/12393 with 9 missing, elapsed time: 36.381\n",
      "Imputing row 8401/12393 with 10 missing, elapsed time: 36.420\n",
      "Imputing row 8501/12393 with 10 missing, elapsed time: 36.453\n",
      "Imputing row 8601/12393 with 9 missing, elapsed time: 36.480\n",
      "Imputing row 8701/12393 with 9 missing, elapsed time: 36.502\n",
      "Imputing row 8801/12393 with 9 missing, elapsed time: 36.533\n",
      "Imputing row 8901/12393 with 10 missing, elapsed time: 36.575\n",
      "Imputing row 9001/12393 with 9 missing, elapsed time: 36.634\n",
      "Imputing row 9101/12393 with 9 missing, elapsed time: 36.695\n",
      "Imputing row 9201/12393 with 7 missing, elapsed time: 36.763\n",
      "Imputing row 9301/12393 with 10 missing, elapsed time: 36.813\n",
      "Imputing row 9401/12393 with 10 missing, elapsed time: 36.965\n",
      "Imputing row 9501/12393 with 9 missing, elapsed time: 37.036\n",
      "Imputing row 9601/12393 with 10 missing, elapsed time: 37.112\n",
      "Imputing row 9701/12393 with 9 missing, elapsed time: 37.229\n",
      "Imputing row 9801/12393 with 10 missing, elapsed time: 37.344\n",
      "Imputing row 9901/12393 with 10 missing, elapsed time: 37.502\n",
      "Imputing row 10001/12393 with 10 missing, elapsed time: 37.553\n",
      "Imputing row 10101/12393 with 9 missing, elapsed time: 37.822\n",
      "Imputing row 10201/12393 with 9 missing, elapsed time: 38.049\n",
      "Imputing row 10301/12393 with 9 missing, elapsed time: 38.280\n",
      "Imputing row 10401/12393 with 9 missing, elapsed time: 38.585\n",
      "Imputing row 10501/12393 with 10 missing, elapsed time: 38.643\n",
      "Imputing row 10601/12393 with 9 missing, elapsed time: 38.678\n",
      "Imputing row 10701/12393 with 9 missing, elapsed time: 38.704\n",
      "Imputing row 10801/12393 with 9 missing, elapsed time: 38.874\n",
      "Imputing row 10901/12393 with 9 missing, elapsed time: 39.125\n",
      "Imputing row 11001/12393 with 8 missing, elapsed time: 39.536\n",
      "Imputing row 11101/12393 with 9 missing, elapsed time: 39.862\n",
      "Imputing row 11201/12393 with 10 missing, elapsed time: 40.035\n",
      "Imputing row 11301/12393 with 10 missing, elapsed time: 40.130\n",
      "Imputing row 11401/12393 with 10 missing, elapsed time: 40.194\n",
      "Imputing row 11501/12393 with 9 missing, elapsed time: 40.256\n",
      "Imputing row 11601/12393 with 9 missing, elapsed time: 40.350\n",
      "Imputing row 11701/12393 with 9 missing, elapsed time: 40.457\n",
      "Imputing row 11801/12393 with 9 missing, elapsed time: 40.567\n",
      "Imputing row 11901/12393 with 9 missing, elapsed time: 40.687\n",
      "Imputing row 12001/12393 with 9 missing, elapsed time: 40.957\n",
      "Imputing row 12101/12393 with 9 missing, elapsed time: 41.194\n",
      "Imputing row 12201/12393 with 10 missing, elapsed time: 41.309\n",
      "Imputing row 12301/12393 with 10 missing, elapsed time: 41.331\n",
      "[KNN] Warning: 25480/123930 still missing after imputation, replacing with 0\n"
     ]
    }
   ],
   "source": [
    "all_samples_log_filtered_na = all_samples_log.copy()\n",
    "all_samples_log_filtered_na.replace(0, np.nan, inplace = True)\n",
    "\n",
    "con_filled = impute_knn(con, all_samples_log_filtered_na)\n",
    "inf_filled = impute_knn(inf, all_samples_log_filtered_na)\n"
   ]
  },
  {
   "cell_type": "code",
   "execution_count": 175,
   "metadata": {},
   "outputs": [],
   "source": [
    "pdList = [con_filled, inf_filled]  \n",
    "all_samples_log_filled = pd.concat(pdList, axis = 1)\n",
    "all_samples_log_filled = all_samples_log_filled[all_samples_log.columns]"
   ]
  },
  {
   "cell_type": "code",
   "execution_count": null,
   "metadata": {},
   "outputs": [],
   "source": []
  },
  {
   "cell_type": "markdown",
   "metadata": {},
   "source": [
    "## 4. Limma analysis in R"
   ]
  },
  {
   "cell_type": "code",
   "execution_count": 82,
   "metadata": {},
   "outputs": [],
   "source": [
    "filtered_samples_log = all_samples_log_filtered_50[list(sample_description['Sample Name'])]"
   ]
  },
  {
   "cell_type": "code",
   "execution_count": 83,
   "metadata": {},
   "outputs": [],
   "source": [
    "all_samples_log_file = output_dir+'filtered_samples_log.csv'\n",
    "sample_description_file = output_dir+'sample_description.csv'\n",
    "\n",
    "filtered_samples_log.to_csv(all_samples_log_file, header=True, index=True, sep=',', mode='w')\n",
    "sample_description.to_csv(sample_description_file, header=True, index=None, sep=',', mode='w')\n",
    "\n",
    "file_to_be_analysed = all_samples_log_file"
   ]
  },
  {
   "cell_type": "code",
   "execution_count": 84,
   "metadata": {},
   "outputs": [
    {
     "name": "stdout",
     "output_type": "stream",
     "text": [
      "The rpy2.ipython extension is already loaded. To reload it, use:\n",
      "  %reload_ext rpy2.ipython\n"
     ]
    }
   ],
   "source": [
    "%load_ext rpy2.ipython"
   ]
  },
  {
   "cell_type": "code",
   "execution_count": 85,
   "metadata": {},
   "outputs": [],
   "source": [
    "%%R\n",
    "\n",
    "library(limma)\n",
    "library(Biobase)"
   ]
  },
  {
   "cell_type": "code",
   "execution_count": 86,
   "metadata": {},
   "outputs": [],
   "source": [
    "%%R -i file_to_be_analysed -i sample_description_file -i dataset_name\n",
    "\n",
    "options(error=recover)\n",
    "\n",
    "eset = readExpressionSet(file_to_be_analysed, sample_description_file, \n",
    "                         exprsArgs=list(sep=\",\", header=TRUE,quote=\"\",row.names=1),\n",
    "                         phenoDataArgs=list(sep=\",\", header=TRUE,quote=\"\"))\n",
    "\n",
    "edata = exprs(eset)\n",
    "pheno = pData(eset)\n",
    "\n",
    "#creating the levels for the Condition and Dataset in pData\n",
    "levels(pheno$Condition) = c('control','infected')\n",
    "levels(pheno$Dataset)  = c(dataset_name)\n",
    "pData(eset) = pheno\n",
    "\n"
   ]
  },
  {
   "cell_type": "code",
   "execution_count": 87,
   "metadata": {},
   "outputs": [],
   "source": [
    "limma_table_file = output_dir + 'limma_independent_toptable_filtered.csv'"
   ]
  },
  {
   "cell_type": "code",
   "execution_count": 88,
   "metadata": {},
   "outputs": [],
   "source": [
    "%%R -i limma_table_file\n",
    "\n",
    "eset.dataset = factor(as.character(pData(eset)$Dataset))\n",
    "eset.condition = factor(as.character(pData(eset)$Condition))\n",
    "\n",
    "eset.design = model.matrix(~ 0 + eset.condition)\n",
    "eset.fit = lmFit(eset, eset.design)\n",
    "head(coef(eset.fit))\n",
    "\n",
    "#define the contrasts you want to make, estimate the coefficients \n",
    "#and std errs for these contrasts, eBayes moderation of std errs.\n",
    "\n",
    "contr = makeContrasts(eset.conditioninfected - eset.conditioncontrol, levels=colnames(coef(eset.fit)))\n",
    "eset.fit = contrasts.fit(eset.fit, contr)\n",
    "eset.fit = eBayes(eset.fit)\n",
    "\n",
    "#Extract results per metabolite\n",
    "top.table = topTable(eset.fit, sort.by=\"p\", n=Inf)\n",
    "head(top.table)\n",
    "write.csv(top.table, file = limma_table_file, sep = \",\", quote = FALSE) #should be \\t sep for mummichog to work"
   ]
  },
  {
   "cell_type": "code",
   "execution_count": 89,
   "metadata": {},
   "outputs": [],
   "source": [
    "limma_table = pd.read_csv(limma_table_file, sep=',')\n",
    "limma_table.index = limma_table[limma_table.columns[0]]\n",
    "del limma_table[(limma_table.columns[0])]"
   ]
  },
  {
   "cell_type": "code",
   "execution_count": 95,
   "metadata": {},
   "outputs": [
    {
     "name": "stdout",
     "output_type": "stream",
     "text": [
      "The number of significantly different metabolites is: 5\n"
     ]
    }
   ],
   "source": [
    "print(\"The number of significantly different metabolites is:\",len(limma_table[limma_table['adj.P.Val'] < 0.05]))"
   ]
  },
  {
   "cell_type": "code",
   "execution_count": 93,
   "metadata": {},
   "outputs": [],
   "source": [
    "#Prepare .csv for mummichog\n",
    "data = feature_description.loc[limma_table.index]\n",
    "data['adj-p'] = limma_table['adj.P.Val']\n",
    "data['t-val'] = limma_table['t']\n",
    "#data['logFC'] = limma_table['logFC']\n",
    "data['custom_id'] = list(data.index)\n"
   ]
  },
  {
   "cell_type": "code",
   "execution_count": null,
   "metadata": {},
   "outputs": [],
   "source": []
  },
  {
   "cell_type": "code",
   "execution_count": 92,
   "metadata": {},
   "outputs": [],
   "source": [
    "data.to_csv(output_dir+'limma_independent_toptable_features_filtered.csv', header=True, index=True, sep='\\t', mode='w')\n"
   ]
  },
  {
   "cell_type": "code",
   "execution_count": 94,
   "metadata": {},
   "outputs": [],
   "source": [
    "data.to_csv(output_dir+'limma_independent_toptable_features_mm.csv', header=True, index=None, sep='\\t', mode='w')\n",
    "#needs to be with \\t instead of , , for mummichog to work"
   ]
  },
  {
   "cell_type": "markdown",
   "metadata": {},
   "source": [
    "## 5. Preparing file for mummichog and further analysis"
   ]
  },
  {
   "cell_type": "code",
   "execution_count": null,
   "metadata": {},
   "outputs": [],
   "source": []
  },
  {
   "cell_type": "code",
   "execution_count": 54,
   "metadata": {},
   "outputs": [
    {
     "data": {
      "text/plain": [
       "256"
      ]
     },
     "execution_count": 54,
     "metadata": {},
     "output_type": "execute_result"
    }
   ],
   "source": [
    "import os\n",
    "os.system('mummichog -f'+'/Users/anamaria/Desktop/mzmine/zik_topfeatures.txt'+' -m positive -c 0.05 -u 3 -o mm')"
   ]
  },
  {
   "cell_type": "code",
   "execution_count": 73,
   "metadata": {},
   "outputs": [],
   "source": [
    "compounds = pd.read_csv('1588152677.696043.mm/tables/ListOfEmpiricalCompounds.tsv', sep='\\t')\n",
    "featureoutput = pd.read_csv('1588152677.696043.mm/tables/userInputData.txt', sep='\\t')"
   ]
  },
  {
   "cell_type": "code",
   "execution_count": 74,
   "metadata": {},
   "outputs": [],
   "source": [
    "matching_ids = {}\n",
    "for _,row in featureoutput.iterrows():\n",
    "    key = row['massfeature_rows']\n",
    "    value = row['CompoundID_from_user']\n",
    "    matching_ids[key] = value"
   ]
  },
  {
   "cell_type": "code",
   "execution_count": 75,
   "metadata": {},
   "outputs": [],
   "source": [
    "compounds_dict = {}\n",
    "for _,row in compounds.iterrows():\n",
    "    ids = row['massfeature_rows']\n",
    "    ions = row['str_row_ion']\n",
    "    compoundlist = row['compound_names']\n",
    "    \n",
    "    ids_list = ids.split(';')\n",
    "    ions_list = ions.split(';')\n",
    "    for i in range(len(ids_list)):\n",
    "        compounds_dict[matching_ids[ids_list[i]]] = []\n",
    "        compounds_dict[matching_ids[ids_list[i]]].append(ions_list[i].split('_')[1])\n",
    "        compounds_dict[matching_ids[ids_list[i]]].append(compoundlist)\n",
    "        "
   ]
  },
  {
   "cell_type": "code",
   "execution_count": 76,
   "metadata": {},
   "outputs": [],
   "source": [
    "for row_id,row in data.iterrows():\n",
    "    if row_id in list(compounds_dict.keys()):\n",
    "        \n",
    "        data.at[row_id,'compound_names'] = compounds_dict[row_id][-1]\n",
    "    else:\n",
    "         data.at[row_id,'compound_names'] = 'NaN'\n",
    "    "
   ]
  },
  {
   "cell_type": "code",
   "execution_count": 78,
   "metadata": {},
   "outputs": [],
   "source": [
    "data.to_csv(r'/Users/anamaria/Desktop/mzmine/hat_mm_annotated.txt', header=True, index=None, sep='\\t', mode='w')"
   ]
  },
  {
   "cell_type": "code",
   "execution_count": null,
   "metadata": {},
   "outputs": [],
   "source": []
  }
 ],
 "metadata": {
  "kernelspec": {
   "display_name": "Python 3",
   "language": "python",
   "name": "python3"
  },
  "language_info": {
   "codemirror_mode": {
    "name": "ipython",
    "version": 3
   },
   "file_extension": ".py",
   "mimetype": "text/x-python",
   "name": "python",
   "nbconvert_exporter": "python",
   "pygments_lexer": "ipython3",
   "version": "3.8.1"
  }
 },
 "nbformat": 4,
 "nbformat_minor": 2
}
