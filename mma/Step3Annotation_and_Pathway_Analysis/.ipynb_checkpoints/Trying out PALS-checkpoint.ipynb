{
 "cells": [
  {
   "cell_type": "code",
   "execution_count": 2,
   "metadata": {},
   "outputs": [],
   "source": [
    "sys.path.append('/Users/anamaria/git/PALS')\n",
    "from pals.ORA import ORA\n",
    "from pals.PLAGE import PLAGE\n",
    "from pals.GSEA import GSEA\n",
    "from pals.common import *\n",
    "from pals.feature_extraction import DataSource\n",
    "\n",
    "import pandas as pd"
   ]
  },
  {
   "cell_type": "code",
   "execution_count": 3,
   "metadata": {},
   "outputs": [],
   "source": [
    "%load_ext autoreload\n",
    "%autoreload 2"
   ]
  },
  {
   "cell_type": "code",
   "execution_count": 4,
   "metadata": {},
   "outputs": [],
   "source": [
    "WIN = 'D:/'\n",
    "MAC = '/Volumes/Transcend2/17_20_PhD/19_20_PhD_Metabolomics/'\n",
    "\n",
    "osp = MAC"
   ]
  },
  {
   "cell_type": "code",
   "execution_count": null,
   "metadata": {},
   "outputs": [],
   "source": []
  },
  {
   "cell_type": "code",
   "execution_count": null,
   "metadata": {},
   "outputs": [],
   "source": []
  },
  {
   "cell_type": "code",
   "execution_count": 9,
   "metadata": {},
   "outputs": [],
   "source": [
    "all_samples = pd.read_csv('/Users/anamaria/Desktop/samples_filtered.csv')\n",
    "annotation_data = pd.read_csv('/Users/anamaria/Desktop/annotation.csv')\n",
    "sd = pd.read_csv(osp+'pymz/mzmine/peak_picked_files/sample_description.csv')\n",
    "\n",
    "experimental_design =  {\n",
    "    'comparisons': {'case': 'infected', 'control': 'control', 'name':'infected/control'},\n",
    "    'groups': {'infected': [], 'control': []}\n",
    "}    \n",
    "\n",
    "for case in experimental_design['groups']:\n",
    "    if case == 'infected':\n",
    "        experimental_design['groups'][case] = [s for s in sd[sd['Condition'] == 'infected']['Sample Name']]\n",
    "    if case == 'control':\n",
    "        experimental_design['groups'][case] = [s for s in sd[sd['Condition'] == 'control']['Sample Name']]\n"
   ]
  },
  {
   "cell_type": "code",
   "execution_count": 10,
   "metadata": {},
   "outputs": [],
   "source": []
  },
  {
   "cell_type": "code",
   "execution_count": null,
   "metadata": {},
   "outputs": [],
   "source": [
    "# TODO: correctly initialise the following data structures for your data.\n",
    "# Refer to the paragraphs below.\n",
    "int_df = all_samples\n",
    "annotation_df = annotation_data\n",
    "reactome_species = \"Homo sapiens\"\n",
    "# Using Reactome pathways matching by KEGG ID\n",
    "database_name = 'COMPOUND'\n",
    "\n",
    "# If true, we limit to metabolic pathways only. Otherwise all pathways will be queried.\n",
    "reactome_metabolic_pathway_only = True\n",
    "\n",
    "# If true, we use online mode that queries Reactome on a local Neo4j server. \n",
    "# Otherwise offline mode will be used (using downloaded database files).\n",
    "reactome_query = True\n",
    "\n",
    "# Minimum intensity value for data imputation\n",
    "min_replace = 5000"
   ]
  },
  {
   "cell_type": "code",
   "execution_count": 17,
   "metadata": {},
   "outputs": [
    {
     "name": "stderr",
     "output_type": "stream",
     "text": [
      "2020-10-13 12:31:26.666 | DEBUG    | pals.feature_extraction:__init__:43 - Using COMPOUND as database\n",
      "2020-10-13 12:31:26.671 | DEBUG    | pals.loader:load_data:55 - Retrieving data for Homo sapiens from Reactome COMPOUND metabolic_pathway_only=True\n"
     ]
    },
    {
     "ename": "AttributeError",
     "evalue": "'NoneType' object has no attribute 'run'",
     "output_type": "error",
     "traceback": [
      "\u001b[0;31m---------------------------------------------------------------------------\u001b[0m",
      "\u001b[0;31mAttributeError\u001b[0m                            Traceback (most recent call last)",
      "\u001b[0;32m<ipython-input-17-e9c2c55db92a>\u001b[0m in \u001b[0;36m<module>\u001b[0;34m\u001b[0m\n\u001b[1;32m     18\u001b[0m \u001b[0mmin_replace\u001b[0m \u001b[0;34m=\u001b[0m \u001b[0;36m5000\u001b[0m\u001b[0;34m\u001b[0m\u001b[0;34m\u001b[0m\u001b[0m\n\u001b[1;32m     19\u001b[0m \u001b[0;34m\u001b[0m\u001b[0m\n\u001b[0;32m---> 20\u001b[0;31m ds = DataSource(int_df, annotation_df, experimental_design, database_name,\n\u001b[0m\u001b[1;32m     21\u001b[0m                 \u001b[0mreactome_species\u001b[0m\u001b[0;34m=\u001b[0m\u001b[0;34m\"Homo sapiens\"\u001b[0m\u001b[0;34m,\u001b[0m\u001b[0;34m\u001b[0m\u001b[0;34m\u001b[0m\u001b[0m\n\u001b[1;32m     22\u001b[0m                 \u001b[0mreactome_metabolic_pathway_only\u001b[0m\u001b[0;34m=\u001b[0m\u001b[0mreactome_metabolic_pathway_only\u001b[0m\u001b[0;34m,\u001b[0m\u001b[0;34m\u001b[0m\u001b[0;34m\u001b[0m\u001b[0m\n",
      "\u001b[0;32m~/git/PALS/pals/feature_extraction.py\u001b[0m in \u001b[0;36m__init__\u001b[0;34m(self, measurement_df, annotation_df, experimental_design, database_name, reactome_species, reactome_metabolic_pathway_only, reactome_query, database, min_replace, min_hits)\u001b[0m\n\u001b[1;32m     43\u001b[0m             \u001b[0mlogger\u001b[0m\u001b[0;34m.\u001b[0m\u001b[0mdebug\u001b[0m\u001b[0;34m(\u001b[0m\u001b[0;34m'Using %s as database'\u001b[0m \u001b[0;34m%\u001b[0m \u001b[0mdatabase_name\u001b[0m\u001b[0;34m)\u001b[0m\u001b[0;34m\u001b[0m\u001b[0;34m\u001b[0m\u001b[0m\n\u001b[1;32m     44\u001b[0m             \u001b[0;32massert\u001b[0m \u001b[0mdatabase_name\u001b[0m \u001b[0;32mis\u001b[0m \u001b[0;32mnot\u001b[0m \u001b[0;32mNone\u001b[0m\u001b[0;34m\u001b[0m\u001b[0;34m\u001b[0m\u001b[0m\n\u001b[0;32m---> 45\u001b[0;31m             self.database = self.get_database(database_name, reactome_metabolic_pathway_only, reactome_query,\n\u001b[0m\u001b[1;32m     46\u001b[0m                                               reactome_species)\n\u001b[1;32m     47\u001b[0m         \u001b[0;32melse\u001b[0m\u001b[0;34m:\u001b[0m\u001b[0;34m\u001b[0m\u001b[0;34m\u001b[0m\u001b[0m\n",
      "\u001b[0;32m~/git/PALS/pals/feature_extraction.py\u001b[0m in \u001b[0;36mget_database\u001b[0;34m(self, database_name, mp_only, reactome_query, reactome_species)\u001b[0m\n\u001b[1;32m    124\u001b[0m \u001b[0;34m\u001b[0m\u001b[0m\n\u001b[1;32m    125\u001b[0m         \u001b[0;32massert\u001b[0m \u001b[0mloader\u001b[0m \u001b[0;32mis\u001b[0m \u001b[0;32mnot\u001b[0m \u001b[0;32mNone\u001b[0m\u001b[0;34m\u001b[0m\u001b[0;34m\u001b[0m\u001b[0m\n\u001b[0;32m--> 126\u001b[0;31m         \u001b[0mdatabase\u001b[0m \u001b[0;34m=\u001b[0m \u001b[0mloader\u001b[0m\u001b[0;34m.\u001b[0m\u001b[0mload_data\u001b[0m\u001b[0;34m(\u001b[0m\u001b[0;34m)\u001b[0m\u001b[0;34m\u001b[0m\u001b[0;34m\u001b[0m\u001b[0m\n\u001b[0m\u001b[1;32m    127\u001b[0m         \u001b[0;32mreturn\u001b[0m \u001b[0mdatabase\u001b[0m\u001b[0;34m\u001b[0m\u001b[0;34m\u001b[0m\u001b[0m\n\u001b[1;32m    128\u001b[0m \u001b[0;34m\u001b[0m\u001b[0m\n",
      "\u001b[0;32m~/git/PALS/pals/loader.py\u001b[0m in \u001b[0;36mload_data\u001b[0;34m(self)\u001b[0m\n\u001b[1;32m     55\u001b[0m         logger.debug('Retrieving data for %s from Reactome %s metabolic_pathway_only=%s' %\n\u001b[1;32m     56\u001b[0m                      (self.reactome_species, self.database_name, self.mp_only))\n\u001b[0;32m---> 57\u001b[0;31m         pathway_dict = get_pathway_dict(self.reactome_species,\n\u001b[0m\u001b[1;32m     58\u001b[0m                                         metabolic_pathway_only=self.mp_only)\n\u001b[1;32m     59\u001b[0m         mapping_dict = get_compound_mapping_dict(self.reactome_species, self.database_name,\n",
      "\u001b[0;32m~/git/PALS/pals/reactome.py\u001b[0m in \u001b[0;36mget_pathway_dict\u001b[0;34m(species, metabolic_pathway_only, leaf)\u001b[0m\n\u001b[1;32m     97\u001b[0m             \u001b[0;34m'species'\u001b[0m\u001b[0;34m:\u001b[0m \u001b[0mspecies\u001b[0m\u001b[0;34m\u001b[0m\u001b[0;34m\u001b[0m\u001b[0m\n\u001b[1;32m     98\u001b[0m         }\n\u001b[0;32m---> 99\u001b[0;31m         \u001b[0mquery_res\u001b[0m \u001b[0;34m=\u001b[0m \u001b[0msession\u001b[0m\u001b[0;34m.\u001b[0m\u001b[0mrun\u001b[0m\u001b[0;34m(\u001b[0m\u001b[0mquery\u001b[0m\u001b[0;34m,\u001b[0m \u001b[0mparams\u001b[0m\u001b[0;34m)\u001b[0m\u001b[0;34m\u001b[0m\u001b[0;34m\u001b[0m\u001b[0m\n\u001b[0m\u001b[1;32m    100\u001b[0m         \u001b[0;31m# logger.debug(query)\u001b[0m\u001b[0;34m\u001b[0m\u001b[0;34m\u001b[0m\u001b[0;34m\u001b[0m\u001b[0m\n\u001b[1;32m    101\u001b[0m \u001b[0;34m\u001b[0m\u001b[0m\n",
      "\u001b[0;31mAttributeError\u001b[0m: 'NoneType' object has no attribute 'run'"
     ]
    }
   ],
   "source": [
    "ds = DataSource(int_df, annotation_df, experimental_design, database_name,\n",
    "                reactome_species=reactome_species,\n",
    "                reactome_metabolic_pathway_only=reactome_metabolic_pathway_only,\n",
    "                reactome_query=reactome_query, min_replace=min_replace)"
   ]
  },
  {
   "cell_type": "code",
   "execution_count": null,
   "metadata": {},
   "outputs": [],
   "source": [
    "method = PLAGE(ds)\n",
    "# method = ORA(ds) \n",
    "# method = GSEA(ds)\n",
    "\n",
    "df = method.get_pathway_df()   "
   ]
  },
  {
   "cell_type": "code",
   "execution_count": null,
   "metadata": {},
   "outputs": [],
   "source": []
  }
 ],
 "metadata": {
  "kernelspec": {
   "display_name": "Python 3",
   "language": "python",
   "name": "python3"
  },
  "language_info": {
   "codemirror_mode": {
    "name": "ipython",
    "version": 3
   },
   "file_extension": ".py",
   "mimetype": "text/x-python",
   "name": "python",
   "nbconvert_exporter": "python",
   "pygments_lexer": "ipython3",
   "version": "3.8.1"
  }
 },
 "nbformat": 4,
 "nbformat_minor": 4
}
