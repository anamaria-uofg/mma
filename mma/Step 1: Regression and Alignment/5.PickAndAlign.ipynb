{
 "cells": [
  {
   "cell_type": "code",
   "execution_count": 1,
   "metadata": {},
   "outputs": [],
   "source": []
  },
  {
   "cell_type": "code",
   "execution_count": 11,
   "metadata": {},
   "outputs": [],
   "source": [
    "import os,glob,sys\n",
    "\n",
    "%load_ext autoreload\n",
    "%autoreload 2\n",
    "\n",
    "sys.path.append(\"../..\")"
   ]
  },
  {
   "cell_type": "code",
   "execution_count": 46,
   "metadata": {},
   "outputs": [],
   "source": []
  },
  {
   "cell_type": "code",
   "execution_count": 53,
   "metadata": {},
   "outputs": [],
   "source": [
    "WIN = 'D:/'\n",
    "MAC = '/Volumes/Transcend2/17_20_PhD/19_20_PhD_Metabolomics/'\n",
    "\n",
    "osp = MAC"
   ]
  },
  {
   "cell_type": "code",
   "execution_count": 54,
   "metadata": {},
   "outputs": [],
   "source": [
    "MZMINE_COMMAND = osp+'previous_git/MZmine-2.40.1/startMZmine_MacOSX.command'"
   ]
  },
  {
   "cell_type": "markdown",
   "metadata": {},
   "source": [
    "### Peak detection using MZmine"
   ]
  },
  {
   "cell_type": "markdown",
   "metadata": {},
   "source": [
    "At the moment, this part is performed directly in MZmine."
   ]
  },
  {
   "cell_type": "code",
   "execution_count": null,
   "metadata": {},
   "outputs": [],
   "source": [
    "#for patients\n",
    "# Directory holding mzml files of interest\n",
    "input_dir = '/Volumes/Transcend/Metabolomics_datasets/Zika/Positive/Control'\n",
    "# grab the list -- in this case all the T10 mzML files\n",
    "file_list = glob.glob(os.path.join(input_dir,'**.mzXML'))\n",
    "\n",
    "# # Directory to store all output\n",
    "output_dir = '/Volumes/Transcend/Metabolomics_datasets/Zika/mzmine'"
   ]
  },
  {
   "cell_type": "code",
   "execution_count": null,
   "metadata": {},
   "outputs": [],
   "source": [
    "from mzmine import pick_peaks\n",
    "pick_peaks(file_list,output_dir=output_dir, xml_template = '/Users/anamaria/Desktop/mzmine/peak_picking_to_mztab_csv.xml', mzmine_command=MZMINE_COMMAND)"
   ]
  },
  {
   "cell_type": "markdown",
   "metadata": {},
   "source": [
    "### Alignment"
   ]
  },
  {
   "cell_type": "code",
   "execution_count": 59,
   "metadata": {
    "scrolled": false
   },
   "outputs": [],
   "source": [
    "from mzmine import align\n",
    "files = osp+'pymz/mzmine/peak_picked_files/vl_changed_rt/'\n",
    "xml_template ='/Users/anamaria/git/pymzm_mine/batch_files/align_from_mztab.xml'"
   ]
  },
  {
   "cell_type": "code",
   "execution_count": 60,
   "metadata": {},
   "outputs": [
    {
     "name": "stdout",
     "output_type": "stream",
     "text": [
      "['/Volumes/Transcend2/17_20_PhD/19_20_PhD_Metabolomics/pymz/mzmine/peak_picked_files/vl_changed_rt/C7_2_pp.mzTab', '/Volumes/Transcend2/17_20_PhD/19_20_PhD_Metabolomics/pymz/mzmine/peak_picked_files/vl_changed_rt/C10_2_pp.mzTab', '/Volumes/Transcend2/17_20_PhD/19_20_PhD_Metabolomics/pymz/mzmine/peak_picked_files/vl_changed_rt/VL7_pp.mzTab', '/Volumes/Transcend2/17_20_PhD/19_20_PhD_Metabolomics/pymz/mzmine/peak_picked_files/vl_changed_rt/C18_2_pp.mzTab', '/Volumes/Transcend2/17_20_PhD/19_20_PhD_Metabolomics/pymz/mzmine/peak_picked_files/vl_changed_rt/C2_2_pp.mzTab', '/Volumes/Transcend2/17_20_PhD/19_20_PhD_Metabolomics/pymz/mzmine/peak_picked_files/vl_changed_rt/VL17_pp.mzTab', '/Volumes/Transcend2/17_20_PhD/19_20_PhD_Metabolomics/pymz/mzmine/peak_picked_files/vl_changed_rt/VL16_pp.mzTab', '/Volumes/Transcend2/17_20_PhD/19_20_PhD_Metabolomics/pymz/mzmine/peak_picked_files/vl_changed_rt/C12_2_pp.mzTab', '/Volumes/Transcend2/17_20_PhD/19_20_PhD_Metabolomics/pymz/mzmine/peak_picked_files/vl_changed_rt/C5_2_pp.mzTab', '/Volumes/Transcend2/17_20_PhD/19_20_PhD_Metabolomics/pymz/mzmine/peak_picked_files/vl_changed_rt/C8_2_pp.mzTab', '/Volumes/Transcend2/17_20_PhD/19_20_PhD_Metabolomics/pymz/mzmine/peak_picked_files/vl_changed_rt/VL10_pp.mzTab', '/Volumes/Transcend2/17_20_PhD/19_20_PhD_Metabolomics/pymz/mzmine/peak_picked_files/vl_changed_rt/VL11_pp.mzTab', '/Volumes/Transcend2/17_20_PhD/19_20_PhD_Metabolomics/pymz/mzmine/peak_picked_files/vl_changed_rt/VL1_pp.mzTab', '/Volumes/Transcend2/17_20_PhD/19_20_PhD_Metabolomics/pymz/mzmine/peak_picked_files/vl_changed_rt/C20_2_pp.mzTab', '/Volumes/Transcend2/17_20_PhD/19_20_PhD_Metabolomics/pymz/mzmine/peak_picked_files/vl_changed_rt/C17_2_pp.mzTab', '/Volumes/Transcend2/17_20_PhD/19_20_PhD_Metabolomics/pymz/mzmine/peak_picked_files/vl_changed_rt/VL14_pp.mzTab', '/Volumes/Transcend2/17_20_PhD/19_20_PhD_Metabolomics/pymz/mzmine/peak_picked_files/vl_changed_rt/VL15_pp.mzTab', '/Volumes/Transcend2/17_20_PhD/19_20_PhD_Metabolomics/pymz/mzmine/peak_picked_files/vl_changed_rt/C19_2_pp.mzTab', '/Volumes/Transcend2/17_20_PhD/19_20_PhD_Metabolomics/pymz/mzmine/peak_picked_files/vl_changed_rt/C14_2_pp.mzTab', '/Volumes/Transcend2/17_20_PhD/19_20_PhD_Metabolomics/pymz/mzmine/peak_picked_files/vl_changed_rt/C3_2_pp.mzTab', '/Volumes/Transcend2/17_20_PhD/19_20_PhD_Metabolomics/pymz/mzmine/peak_picked_files/vl_changed_rt/C11_2_pp.mzTab', '/Volumes/Transcend2/17_20_PhD/19_20_PhD_Metabolomics/pymz/mzmine/peak_picked_files/vl_changed_rt/C6_2_pp.mzTab', '/Volumes/Transcend2/17_20_PhD/19_20_PhD_Metabolomics/pymz/mzmine/peak_picked_files/vl_changed_rt/VL5_pp.mzTab', '/Volumes/Transcend2/17_20_PhD/19_20_PhD_Metabolomics/pymz/mzmine/peak_picked_files/vl_changed_rt/VL4_pp.mzTab', '/Volumes/Transcend2/17_20_PhD/19_20_PhD_Metabolomics/pymz/mzmine/peak_picked_files/vl_changed_rt/VL8_pp.mzTab', '/Volumes/Transcend2/17_20_PhD/19_20_PhD_Metabolomics/pymz/mzmine/peak_picked_files/vl_changed_rt/VL9_pp.mzTab', '/Volumes/Transcend2/17_20_PhD/19_20_PhD_Metabolomics/pymz/mzmine/peak_picked_files/vl_changed_rt/C1_2_pp.mzTab', '/Volumes/Transcend2/17_20_PhD/19_20_PhD_Metabolomics/pymz/mzmine/peak_picked_files/vl_changed_rt/C16_2_pp.mzTab', '/Volumes/Transcend2/17_20_PhD/19_20_PhD_Metabolomics/pymz/mzmine/peak_picked_files/vl_changed_rt/VL3_pp.mzTab', '/Volumes/Transcend2/17_20_PhD/19_20_PhD_Metabolomics/pymz/mzmine/peak_picked_files/vl_changed_rt/C4_2_pp.mzTab', '/Volumes/Transcend2/17_20_PhD/19_20_PhD_Metabolomics/pymz/mzmine/peak_picked_files/vl_changed_rt/C13_2_pp.mzTab', '/Volumes/Transcend2/17_20_PhD/19_20_PhD_Metabolomics/pymz/mzmine/peak_picked_files/vl_changed_rt/VL13_pp.mzTab', '/Volumes/Transcend2/17_20_PhD/19_20_PhD_Metabolomics/pymz/mzmine/peak_picked_files/vl_changed_rt/VL12_pp.mzTab', '/Volumes/Transcend2/17_20_PhD/19_20_PhD_Metabolomics/pymz/mzmine/peak_picked_files/vl_changed_rt/C9_2_pp.mzTab', '/Volumes/Transcend2/17_20_PhD/19_20_PhD_Metabolomics/pymz/mzmine/peak_picked_files/vl_changed_rt/VL19_pp.mzTab', '/Volumes/Transcend2/17_20_PhD/19_20_PhD_Metabolomics/pymz/mzmine/peak_picked_files/vl_changed_rt/VL18_pp.mzTab']\n"
     ]
    }
   ],
   "source": [
    "align(files, xml_template = xml_template, mzmine_command = MZMINE_COMMAND, rt_window = 0.5, output_csv_name='pp_aligned.csv')\n"
   ]
  },
  {
   "cell_type": "code",
   "execution_count": null,
   "metadata": {},
   "outputs": [],
   "source": []
  }
 ],
 "metadata": {
  "kernelspec": {
   "display_name": "Python 3",
   "language": "python",
   "name": "python3"
  },
  "language_info": {
   "codemirror_mode": {
    "name": "ipython",
    "version": 3
   },
   "file_extension": ".py",
   "mimetype": "text/x-python",
   "name": "python",
   "nbconvert_exporter": "python",
   "pygments_lexer": "ipython3",
   "version": "3.8.1"
  }
 },
 "nbformat": 4,
 "nbformat_minor": 2
}
