{
 "cells": [
  {
   "cell_type": "code",
   "execution_count": 1,
   "metadata": {},
   "outputs": [],
   "source": [
    "%load_ext autoreload\n",
    "%autoreload 2"
   ]
  },
  {
   "cell_type": "code",
   "execution_count": 36,
   "metadata": {},
   "outputs": [],
   "source": [
    "import glob\n",
    "import os\n",
    "import sys\n",
    "import pickle\n",
    "import numpy as np\n",
    "import pandas as pd\n",
    "import matplotlib.pyplot as plt\n",
    "import mass_spec_utils"
   ]
  },
  {
   "cell_type": "code",
   "execution_count": 8,
   "metadata": {},
   "outputs": [],
   "source": [
    "WIN = 'D:/'\n",
    "MAC = '/Volumes/Transcend2/17_20_PhD/19_20_PhD_Metabolomics/'\n",
    "\n",
    "osp = MAC"
   ]
  },
  {
   "cell_type": "code",
   "execution_count": null,
   "metadata": {},
   "outputs": [],
   "source": []
  },
  {
   "cell_type": "markdown",
   "metadata": {},
   "source": [
    "Running standards. First of all, we need to be able to read the new mzML file or csv file. Let's try first with the mzML file."
   ]
  },
  {
   "cell_type": "code",
   "execution_count": 26,
   "metadata": {},
   "outputs": [],
   "source": [
    "new_mzml_file = \"/Volumes/Transcend2/17_20_PhD/19_20_PhD_Metabolomics/Metabolomics_datasets/Zika/Positive/Standards/Std1_1_23Oct18.mzML\"\n",
    "old_mzml_file = \"/Volumes/Transcend2/17_20_PhD/19_20_PhD_Metabolomics/Metabolomics_datasets/Zika/Positive/Standards/Std1_2_23Oct18.mzML\""
   ]
  },
  {
   "cell_type": "markdown",
   "metadata": {},
   "source": [
    "Next, we need to extract the standards from inside the new_mzml file.\n",
    "In order to do this, I quess I will use the method Simon suggested, i.e. choose m/z with highest intensities\n",
    "(search for method in his code). "
   ]
  },
  {
   "cell_type": "code",
   "execution_count": 24,
   "metadata": {},
   "outputs": [],
   "source": [
    "from mass_spec_utils.data_import.mzml import MZMLFile"
   ]
  },
  {
   "cell_type": "code",
   "execution_count": 28,
   "metadata": {},
   "outputs": [
    {
     "name": "stdout",
     "output_type": "stream",
     "text": [
      "Loaded 1185 scans\n",
      "Loaded 1192 scans\n"
     ]
    }
   ],
   "source": [
    "new_mzml = MZMLFile(new_mzml_file)\n",
    "old_mzml = MZMLFile(old_mzml_file)"
   ]
  },
  {
   "cell_type": "markdown",
   "metadata": {},
   "source": [
    "Next, extract the standards from inside the old_mzml file in the same way as above."
   ]
  },
  {
   "cell_type": "code",
   "execution_count": 53,
   "metadata": {},
   "outputs": [],
   "source": [
    "standards_list_file = \"/Volumes/Transcend2/17_20_PhD/19_20_PhD_Metabolomics/Metabolomics_datasets/standards_list.csv\"\n",
    "standards = pd.read_csv(standards_list_file)"
   ]
  },
  {
   "cell_type": "code",
   "execution_count": 54,
   "metadata": {},
   "outputs": [],
   "source": [
    "sys.path.append(\"../\")\n",
    "import metab_utils"
   ]
  },
  {
   "cell_type": "code",
   "execution_count": 89,
   "metadata": {},
   "outputs": [],
   "source": [
    "standards_list = metab_utils.create_std_dict_by_mz(standards, polarity = '+')"
   ]
  },
  {
   "cell_type": "code",
   "execution_count": 99,
   "metadata": {
    "collapsed": true
   },
   "outputs": [
    {
     "ename": "TypeError",
     "evalue": "unsupported operand type(s) for -: 'list' and 'list'",
     "output_type": "error",
     "traceback": [
      "\u001b[0;31m---------------------------------------------------------------------------\u001b[0m",
      "\u001b[0;31mTypeError\u001b[0m                                 Traceback (most recent call last)",
      "\u001b[0;32m<ipython-input-99-f0eece463825>\u001b[0m in \u001b[0;36m<module>\u001b[0;34m\u001b[0m\n\u001b[1;32m      9\u001b[0m \u001b[0;34m\u001b[0m\u001b[0m\n\u001b[1;32m     10\u001b[0m \u001b[0;32mfrom\u001b[0m \u001b[0mmetab_utils\u001b[0m \u001b[0;32mimport\u001b[0m \u001b[0mtry_gp_regressions\u001b[0m\u001b[0;34m\u001b[0m\u001b[0;34m\u001b[0m\u001b[0m\n\u001b[0;32m---> 11\u001b[0;31m \u001b[0mmodel\u001b[0m\u001b[0;34m,\u001b[0m \u001b[0mkernel\u001b[0m\u001b[0;34m,\u001b[0m \u001b[0mresults\u001b[0m \u001b[0;34m=\u001b[0m \u001b[0mtry_gp_regressions\u001b[0m\u001b[0;34m(\u001b[0m\u001b[0mnew_mzml_rts\u001b[0m\u001b[0;34m,\u001b[0m \u001b[0mold_mzml_rts\u001b[0m\u001b[0;34m-\u001b[0m\u001b[0mnew_mzml_rts\u001b[0m\u001b[0;34m)\u001b[0m\u001b[0;34m\u001b[0m\u001b[0;34m\u001b[0m\u001b[0m\n\u001b[0m",
      "\u001b[0;31mTypeError\u001b[0m: unsupported operand type(s) for -: 'list' and 'list'"
     ]
    }
   ],
   "source": [
    "new_mzml_rts = []\n",
    "old_mzml_rts = []\n",
    "ppm = 0.1\n",
    "for mz in standards_list:\n",
    "    new_rt = new_mzml.get_max_intensity(mz_min = mz - ppm , mz_max = mz +ppm)[1]\n",
    "    new_mzml_rts.append(new_rt/60)\n",
    "    old_rt = old_mzml.get_max_intensity(mz_min = mz - ppm , mz_max = mz +ppm)[1]\n",
    "    old_mzml_rts.append(old_rt/60)"
   ]
  },
  {
   "cell_type": "code",
   "execution_count": 138,
   "metadata": {},
   "outputs": [
    {
     "name": "stdout",
     "output_type": "stream",
     "text": [
      "Choosing the optimal kernel...\n",
      "Cross-Predicted Accuracy for RBF : -0.02374298407141029\n",
      "Mean absolute error for RBF : 0.023185903893535344\n",
      "Mean squared error for RBF : 0.0008304628192384405\n",
      "Cross-Predicted Accuracy for MLP : -0.023731728941047914\n",
      "Mean absolute error for MLP : 0.023185817730390537\n",
      "Mean squared error for MLP : 0.0008304536890490891\n"
     ]
    },
    {
     "name": "stderr",
     "output_type": "stream",
     "text": [
      " /Users/anamaria/.pyenv/versions/3.8.1/lib/python3.8/site-packages/GPy/kern/src/rbf.py:52: RuntimeWarning:overflow encountered in square\n",
      " /Users/anamaria/.pyenv/versions/3.8.1/lib/python3.8/site-packages/GPy/kern/src/stationary.py:168: RuntimeWarning:overflow encountered in true_divide\n",
      " /Users/anamaria/.pyenv/versions/3.8.1/lib/python3.8/site-packages/GPy/kern/src/rbf.py:76: RuntimeWarning:invalid value encountered in multiply\n"
     ]
    },
    {
     "name": "stdout",
     "output_type": "stream",
     "text": [
      "Cross-Predicted Accuracy for MLP+RBF : 0.0006497385495928265\n",
      "Mean absolute error for MLP+RBF : 0.023448190464706066\n",
      "Mean squared error for MLP+RBF : 0.00081067538282918\n",
      "Cross-Predicted Accuracy for MLP*RBF : 0.19930708724168245\n",
      "Mean absolute error for MLP*RBF : 0.022213923876467787\n",
      "Mean squared error for MLP*RBF : 0.0006495240543959892\n",
      "Cross-Predicted Accuracy for Cosine*RBF : 0.17520470570321045\n",
      "Mean absolute error for Cosine*RBF : 0.02241888562213524\n",
      "Mean squared error for Cosine*RBF : 0.000669075965407087\n",
      "Cross-Predicted Accuracy for Cosine+RBF : -0.023742995522954224\n",
      "Mean absolute error for Cosine+RBF : 0.023185903221073945\n",
      "Mean squared error for Cosine+RBF : 0.000830462828527961\n",
      "Final kernel: MLP*RBF\n"
     ]
    }
   ],
   "source": [
    "from metab_utils import return_data_with_no_outliers\n",
    "new_mzml_rts_mod, old_mzml_rts_mod = return_data_with_no_outliers(new_mzml_rts, old_mzml_rts, np.subtract(new_mzml_rts,old_mzml_rts), 1)\n",
    "\n",
    "print(\"Choosing the optimal kernel...\")\n",
    "from metab_utils import try_gp_regressions\n",
    "model, kernel, results = try_gp_regressions(np.array(new_mzml_rts_mod), np.array(old_mzml_rts_mod)-np.array(new_mzml_rts_mod))"
   ]
  },
  {
   "cell_type": "code",
   "execution_count": 122,
   "metadata": {},
   "outputs": [
    {
     "name": "stdout",
     "output_type": "stream",
     "text": [
      "  \u001b[1mmul.               \u001b[0;0m  |                  value  |  constraints  |  priors\n",
      "  \u001b[1mmlp.variance       \u001b[0;0m  |    0.00859869660799844  |      +ve      |        \n",
      "  \u001b[1mmlp.weight_variance\u001b[0;0m  |    0.08449223528336045  |      +ve      |        \n",
      "  \u001b[1mmlp.bias_variance  \u001b[0;0m  |  3.842095366246017e-06  |      +ve      |        \n",
      "  \u001b[1mrbf.variance       \u001b[0;0m  |     0.2163663945107785  |      +ve      |        \n",
      "  \u001b[1mrbf.lengthscale    \u001b[0;0m  |      4.817996008776943  |      +ve      |        \n",
      "Optimization restart 1/10, f = -95.4689809652259\n",
      "Optimization restart 2/10, f = -95.4689788678081\n",
      "Optimization restart 3/10, f = -95.46898102327347\n",
      "Optimization restart 4/10, f = -95.46898021160862\n",
      "Optimization restart 5/10, f = -95.46898099331186\n",
      "Optimization restart 6/10, f = -95.46897850025124\n",
      "Optimization restart 7/10, f = -95.46898114570247\n",
      "Optimization restart 8/10, f = -95.46897832427607\n",
      "Optimization restart 9/10, f = -95.46898122079565\n",
      "Optimization restart 10/10, f = -95.46898130706933\n"
     ]
    },
    {
     "data": {
      "text/plain": [
       "{'dataplot': [<matplotlib.collections.PathCollection at 0x115345700>],\n",
       " 'gpmean': [[<matplotlib.lines.Line2D at 0x115345ee0>]],\n",
       " 'gpconfidence': [<matplotlib.collections.PolyCollection at 0x11d4f38e0>]}"
      ]
     },
     "execution_count": 122,
     "metadata": {},
     "output_type": "execute_result"
    },
    {
     "data": {
      "image/png": "[encoded data removed]",
      "text/plain": [
       "<Figure size 432x288 with 1 Axes>"
      ]
     },
     "metadata": {
      "needs_background": "light"
     },
     "output_type": "display_data"
    }
   ],
   "source": [
    "model.optimize_restarts(10)\n",
    "print(model.parameters[0])\n",
    "model.plot()"
   ]
  },
  {
   "cell_type": "markdown",
   "metadata": {},
   "source": [
    "From Simon: Write a method which takest a list of m/z values (of the standards), ppm tolerances, RT-ranges and then two files, and it finds the position of each standard (defined as the highest intensity in the RT_range and mz tolerance and then learns a regression function"
   ]
  },
  {
   "cell_type": "markdown",
   "metadata": {},
   "source": [
    "Create method encapsulating the code in this notebook."
   ]
  },
  {
   "cell_type": "code",
   "execution_count": 141,
   "metadata": {},
   "outputs": [],
   "source": [
    "def get_gp_for_new_file(new_mzml_file, old_mzml_file, standards_list, mz_ppm = 0.1, zscore = 1):\n",
    "    from mass_spec_utils.data_import.mzml import MZMLFile\n",
    "    print(\"Creating MZMLFile objects...\")\n",
    "    new_mzml = MZMLFile(new_mzml_file)\n",
    "    old_mzml = MZMLFile(old_mzml_file)\n",
    "    \n",
    "    new_mzml_rts = []\n",
    "    old_mzml_rts = []\n",
    "   \n",
    "    for mz in standards_list:\n",
    "        new_rt = new_mzml.get_max_intensity(mz_min = mz - mz_ppm , mz_max = mz + mz_ppm)[1]\n",
    "        new_mzml_rts.append(new_rt/60)\n",
    "        old_rt = old_mzml.get_max_intensity(mz_min = mz - mz_ppm , mz_max = mz + mz_ppm)[1]\n",
    "        old_mzml_rts.append(old_rt/60)\n",
    "        \n",
    "    from metab_utils import return_data_with_no_outliers\n",
    "    new_mzml_rts_mod, old_mzml_rts_mod = return_data_with_no_outliers(new_mzml_rts, old_mzml_rts, np.subtract(new_mzml_rts,old_mzml_rts), zscore)\n",
    "    \n",
    "    print(\"Choosing the optimal kernel\")\n",
    "    from metab_utils import try_gp_regressions\n",
    "    model, kernel, results = try_gp_regressions(np.array(new_mzml_rts_mod), np.array(old_mzml_rts_mod)-np.array(new_mzml_rts_mod))\n",
    "    \n",
    "    model.optimize_restarts(10)\n",
    "    print(\"Kernel hyperparameters:\",model.parameters[0])\n",
    "    model.plot()"
   ]
  },
  {
   "cell_type": "code",
   "execution_count": 142,
   "metadata": {},
   "outputs": [
    {
     "name": "stdout",
     "output_type": "stream",
     "text": [
      "Creating MZMLFile objects...\n",
      "Loaded 1185 scans\n",
      "Loaded 1192 scans\n",
      "Choosing the optimal kernel\n",
      "Cross-Predicted Accuracy for RBF : -0.02374298407141029\n",
      "Mean absolute error for RBF : 0.023185903893535344\n",
      "Mean squared error for RBF : 0.0008304628192384405\n",
      "Cross-Predicted Accuracy for MLP : -0.023731728941047914\n",
      "Mean absolute error for MLP : 0.023185817730390537\n",
      "Mean squared error for MLP : 0.0008304536890490891\n"
     ]
    },
    {
     "name": "stderr",
     "output_type": "stream",
     "text": [
      " /Users/anamaria/.pyenv/versions/3.8.1/lib/python3.8/site-packages/GPy/kern/src/rbf.py:52: RuntimeWarning:overflow encountered in square\n",
      " /Users/anamaria/.pyenv/versions/3.8.1/lib/python3.8/site-packages/GPy/kern/src/stationary.py:168: RuntimeWarning:overflow encountered in true_divide\n",
      " /Users/anamaria/.pyenv/versions/3.8.1/lib/python3.8/site-packages/GPy/kern/src/rbf.py:76: RuntimeWarning:invalid value encountered in multiply\n"
     ]
    },
    {
     "name": "stdout",
     "output_type": "stream",
     "text": [
      "Cross-Predicted Accuracy for MLP+RBF : 0.0006497385495928265\n",
      "Mean absolute error for MLP+RBF : 0.023448190464706066\n",
      "Mean squared error for MLP+RBF : 0.00081067538282918\n",
      "Cross-Predicted Accuracy for MLP*RBF : 0.19930708724168245\n",
      "Mean absolute error for MLP*RBF : 0.022213923876467787\n",
      "Mean squared error for MLP*RBF : 0.0006495240543959892\n",
      "Cross-Predicted Accuracy for Cosine*RBF : 0.17520470570321045\n",
      "Mean absolute error for Cosine*RBF : 0.02241888562213524\n",
      "Mean squared error for Cosine*RBF : 0.000669075965407087\n",
      "Cross-Predicted Accuracy for Cosine+RBF : -0.023742995522954224\n",
      "Mean absolute error for Cosine+RBF : 0.023185903221073945\n",
      "Mean squared error for Cosine+RBF : 0.000830462828527961\n",
      "Final kernel: MLP*RBF\n",
      "Optimization restart 1/10, f = -95.4689809652259\n",
      "Optimization restart 2/10, f = -95.46898110449027\n",
      "Optimization restart 3/10, f = -95.46898136122059\n",
      "Optimization restart 4/10, f = -95.46898113473549\n",
      "Optimization restart 5/10, f = -95.46897577041662\n",
      "Optimization restart 6/10, f = -95.46898071849539\n",
      "Optimization restart 7/10, f = -95.46898043323776\n",
      "Optimization restart 8/10, f = -95.46897650467973\n",
      "Optimization restart 9/10, f = -95.46897886284154\n",
      "Optimization restart 10/10, f = -95.46898118283794\n",
      "Kernel hyperparameters:   \u001b[1mmul.               \u001b[0;0m  |                  value  |  constraints  |  priors\n",
      "  \u001b[1mmlp.variance       \u001b[0;0m  |    0.12585374435198723  |      +ve      |        \n",
      "  \u001b[1mmlp.weight_variance\u001b[0;0m  |    0.08458951002265026  |      +ve      |        \n",
      "  \u001b[1mmlp.bias_variance  \u001b[0;0m  |  8.449240232892274e-07  |      +ve      |        \n",
      "  \u001b[1mrbf.variance       \u001b[0;0m  |   0.014775283140732842  |      +ve      |        \n",
      "  \u001b[1mrbf.lengthscale    \u001b[0;0m  |      4.817841712934297  |      +ve      |        \n"
     ]
    },
    {
     "data": {
      "image/png": "[encoded data removed]",
      "text/plain": [
       "<Figure size 432x288 with 1 Axes>"
      ]
     },
     "metadata": {
      "needs_background": "light"
     },
     "output_type": "display_data"
    }
   ],
   "source": [
    "get_gp_for_new_file(new_mzml_file, old_mzml_file, standards_list)"
   ]
  },
  {
   "cell_type": "code",
   "execution_count": null,
   "metadata": {},
   "outputs": [],
   "source": []
  },
  {
   "cell_type": "code",
   "execution_count": null,
   "metadata": {},
   "outputs": [],
   "source": []
  },
  {
   "cell_type": "markdown",
   "metadata": {},
   "source": [
    "Check fragmentation file"
   ]
  },
  {
   "cell_type": "code",
   "execution_count": 131,
   "metadata": {},
   "outputs": [],
   "source": [
    "frag_mzml_file = \"/Volumes/Transcend2/17_20_PhD/19_20_PhD_Metabolomics/Metabolomics_datasets/Zika/FRAG/FRAG_POS.mzML\""
   ]
  },
  {
   "cell_type": "code",
   "execution_count": 132,
   "metadata": {},
   "outputs": [
    {
     "name": "stdout",
     "output_type": "stream",
     "text": [
      "Loaded 9657 scans\n"
     ]
    }
   ],
   "source": [
    "frag_mzml = MZMLFile(frag_mzml_file)"
   ]
  },
  {
   "cell_type": "code",
   "execution_count": 135,
   "metadata": {},
   "outputs": [
    {
     "name": "stdout",
     "output_type": "stream",
     "text": [
      "('melatonin', 257.4, '+', 2046167614)\n",
      "(233.17469787597656, 213.828558, 320414.59375)\n",
      "================================\n",
      "('phenylhydrazine', 288.0, '+', 8384383)\n",
      "(109.07607095524386, 627.2918400000001, 192844.0813080791)\n",
      "================================\n",
      "('nicotinate', 437.4, '+', 593840852)\n",
      "(123.96447312441632, 410.150082, 1146245.9571218835)\n",
      "================================\n",
      "('pyridoxine', 445.79999999999995, '+', 3992986142)\n",
      "(170.0924530029297, 629.1161999999999, 3514035.25)\n",
      "================================\n",
      "('riboflavin', 463.2, '+', 16465628)\n",
      "(377.1741027832031, 528.035166, 223553.0625)\n",
      "================================\n",
      "('adenine', 525.0, '+', 1645830897)\n",
      "(136.04823303222656, 516.660042, 5259965.5)\n",
      "================================\n",
      "('creatinine', 538.8000000000001, '+', 1662180782)\n",
      "(114.06620788574219, 516.660042, 338174176.0)\n",
      "================================\n",
      "('l-phenylalanine', 549.0, '+', 489171784)\n",
      "(166.0863037109375, 528.035166, 52072224.0)\n",
      "================================\n",
      "('l-leucine', 576.5999999999999, '+', 215023034)\n",
      "(132.07676696777344, 706.69722, 177232240.0)\n",
      "================================\n",
      "('inosine', 588.0, '+', 167162672)\n",
      "(269.0879821777344, 570.508302, 3215549.5)\n",
      "================================\n",
      "('2-phenylglycine', 605.4, '+', 110631677)\n",
      "(152.02218627929688, 514.473042, 710326.75)\n",
      "================================\n",
      "('selenomethionine', 605.4, '+', 3561650)\n",
      "(192.0689239501953, 403.71051, 257431.984375)\n",
      "================================\n",
      "('l-methionine', 610.8, '+', 350754691)\n",
      "(150.05838012695312, 586.5390540000001, 15342688.0)\n",
      "================================\n",
      "('imidazole-4-acetate', 624.0, '+', 1886781792)\n",
      "(127.09786224365234, 1132.03002, 653755.5)\n",
      "================================\n",
      "('l-tryptophan', 620.4, '+', 134951099)\n",
      "(205.09727478027344, 603.6551999999999, 7986491.0)\n",
      "================================\n",
      "('n-acetyl-d-glucosamine', 620.4, '+', 73176907)\n",
      "(222.1700439453125, 207.32267399999998, 300052.09375)\n",
      "================================\n",
      "('cytidine', 631.8, '+', 173683264)\n",
      "(244.0791473388672, 732.0542399999999, 1074029.25)\n",
      "================================\n",
      "('guanine', 665.4, '+', 85427744)\n",
      "(152.02218627929688, 514.473042, 710326.75)\n",
      "================================\n",
      "('l-valine', 650.4, '+', 242715581)\n",
      "(118.08622741699219, 573.191052, 152279024.0)\n",
      "================================\n",
      "('l-proline', 660.6, '+', 1163492927)\n",
      "(116.07059478759766, 637.7076000000001, 192025776.0)\n",
      "================================\n",
      "('sn-glycero-3-phosphocholine', 702.0, '+', 907884629)\n",
      "(258.110107421875, 673.9698599999999, 3292518.0)\n",
      "================================\n",
      "('l-threonine', 727.1999999999999, '+', 49595838)\n",
      "(120.08086120666736, 528.305778, 13390014.657666327)\n",
      "================================\n",
      "('5-aminolevulinate', 696.0, '+', 117468272)\n",
      "(132.07676696777344, 706.69722, 177232240.0)\n",
      "================================\n",
      "('n2-acetyl-l-lysine', 727.1999999999999, '+', 743632812)\n",
      "(189.1346435546875, 1159.21362, 1236193.25)\n",
      "================================\n",
      "('d-glucosamine', 756.0, '+', 3291359)\n",
      "(180.0655059814453, 403.71051, 4305192.5)\n",
      "================================\n",
      "('l-glutamine', 739.2, '+', 245430777)\n",
      "(147.07635498046875, 715.92858, 91310240.0)\n",
      "================================\n",
      "('taurine', 766.1999999999999, '+', 2883130)\n",
      "(126.02201080322266, 742.40922, 865853.0)\n",
      "================================\n",
      "('l-aspartate', 736.8, '+', 2399778)\n",
      "(134.11758422851562, 1345.45344, 2606805.0)\n",
      "================================\n",
      "('l-asparagine', 756.0, '+', 9522625)\n",
      "(133.08009338378906, 706.69722, 7915752.0)\n",
      "================================\n",
      "('beta-alanine', 750.6, '+', 83562505)\n",
      "(90.055014450573, 710.50194, 11887869.060968932)\n",
      "================================\n",
      "('glycine', 768.6, '+', 1489947)\n",
      "(76.0757064819336, 558.799806, 2478501.5)\n",
      "================================\n",
      "('l-serine', 776.4, '+', 4503387)\n",
      "(106.04991149902344, 751.70454, 629316.8125)\n",
      "================================\n",
      "('ethanolamine phosphate', 748.2, '+', 1329108)\n",
      "(142.0863800048828, 441.504138, 1407556.75)\n",
      "================================\n",
      "('l-citrulline', 768.6, '+', 108998311)\n",
      "(176.10304260253906, 745.12884, 1535511.0)\n",
      "================================\n",
      "('meso-2_6-diaminoheptanedioate', 834.0, '+', 587594)\n",
      "(191.16421508789062, 215.30605799999998, 927247.0)\n",
      "================================\n",
      "('l-lysine', 1101.0, '+', 437556)\n",
      "(147.07635498046875, 715.92858, 91310240.0)\n",
      "================================\n",
      "('l-arginine', 1195.8, '+', 18216551)\n",
      "(175.11903381347656, 1132.03002, 20583378.0)\n",
      "================================\n",
      "('thiopurine s-methylether', 359.40000000000003, '+', 904422285)\n",
      "(167.08963012695312, 528.035166, 5013262.0)\n",
      "================================\n",
      "(\"5'-methylthioadenosine\", 365.4, '+', 524356477)\n",
      "(298.1146545410156, 520.489662, 89747.7578125)\n",
      "================================\n",
      "('nicotinamide', 390.59999999999997, '+', 1740532795)\n",
      "(123.05526733398438, 403.71051, 7302080.5)\n",
      "================================\n",
      "('4-(beta-acetylaminoethyl)imidazole', 408.0, '+', 3666183277)\n",
      "(154.06918334960938, 405.33138, 1766723.875)\n",
      "================================\n",
      "('pyridoxal', 456.6, '+', 889847527)\n",
      "(168.1231231689453, 301.80033, 947275.3125)\n",
      "================================\n",
      "('6-methylaminopurine', 435.59999999999997, '+', 1950746313)\n",
      "(150.05838012695312, 586.5390540000001, 15342688.0)\n",
      "================================\n",
      "('deoxyadenosine', 445.2, '+', 1211290733)\n",
      "(252.14404296875, 403.71051, 303716.78125)\n",
      "================================\n",
      "('pantothenate', 492.6, '+', 838972108)\n",
      "(220.1180419921875, 477.691518, 454343.90625)\n",
      "================================\n",
      "('picolinic acid', 499.8, '+', 41585742)\n",
      "(123.96447312441632, 410.150082, 1146245.9571218835)\n",
      "================================\n",
      "('thymine', 419.40000000000003, '+', 11765736)\n",
      "(127.09786224365234, 1132.03002, 653755.5)\n",
      "================================\n",
      "('adenosine', 491.4, '+', 422979860)\n",
      "(268.1404113769531, 550.2753, 1165760.0)\n",
      "================================\n",
      "('hypoxanthine', 564.0, '+', 100595112)\n",
      "(137.0458526611328, 543.978174, 61926340.0)\n",
      "================================\n",
      "('5-oxoproline', 580.2, '+', 70105872)\n",
      "(130.04991149902344, 715.92858, 21529422.0)\n",
      "================================\n",
      "('hepes', 576.5999999999999, '+', 256803296)\n",
      "(239.13894653320312, 402.180996, 10251463.0)\n",
      "================================\n",
      "('l-kynurenine', 580.2, '+', 84699030)\n",
      "(209.09219360351562, 560.153556, 1796133.0)\n",
      "================================\n",
      "('betaine', 599.4, '+', 4552981067)\n",
      "(118.08622741699219, 573.191052, 152279024.0)\n",
      "================================\n",
      "('cytosine', 613.2, '+', 685005504)\n",
      "(112.0870593955951, 631.7631600000001, 406617.21835365286)\n",
      "================================\n",
      "('l-isoleucine', 623.4000000000001, '+', 885111581)\n",
      "(132.07676696777344, 706.69722, 177232240.0)\n",
      "================================\n",
      "('methylcysteine', 631.1999999999999, '+', 73661632)\n",
      "(136.04823303222656, 516.660042, 5259965.5)\n",
      "================================\n",
      "('ala-gly', 644.4, '+', 43935836)\n",
      "(147.07635498046875, 715.92858, 91310240.0)\n",
      "================================\n",
      "('guanosine', 662.4, '+', 3856885)\n",
      "(284.19683837890625, 1322.23596, 665252.6875)\n",
      "================================\n",
      "('damp', 633.0, '+', 11568498)\n",
      "(332.0965270996094, 568.900686, 558349.9375)\n",
      "================================\n",
      "('n(pi)-methyl-l-histidine', 655.8, '+', 461704354)\n",
      "(170.0924530029297, 629.1161999999999, 3514035.25)\n",
      "================================\n",
      "('l-carnitine', 672.6, '+', 921584521)\n",
      "(162.1124725341797, 642.57858, 145900144.0)\n",
      "================================\n",
      "('eflornithine', 676.1999999999999, '+', 226209658)\n",
      "(183.16238403320312, 730.19322, 2750101.0)\n",
      "================================\n",
      "('l-tyrosine', 679.8, '+', 39740700)\n",
      "(182.081298828125, 656.68398, 5893311.0)\n",
      "================================\n",
      "('4-trimethylammoniobutanoate', 666.0, '+', 7634059076)\n",
      "(146.11761474609375, 640.9834800000001, 3048879.0)\n",
      "================================\n",
      "('s-adenosyl-l-homocysteine', 659.4, '+', 11855257)\n",
      "(385.1969299316406, 491.16165, 17599.025390625)\n",
      "================================\n",
      "('amp', 672.6, '+', 891093)\n",
      "(347.9762268066406, 518.278914, 44606.796875)\n",
      "================================\n",
      "('glycylglycine', 712.1999999999999, '+', 4813167)\n",
      "(133.08009338378906, 706.69722, 7915752.0)\n",
      "================================\n",
      "('l-alanine', 737.4, '+', 19042955)\n",
      "(90.055014450573, 710.50194, 11887869.060968932)\n",
      "================================\n",
      "('choline phosphate', 706.8, '+', 435627129)\n"
     ]
    },
    {
     "name": "stdout",
     "output_type": "stream",
     "text": [
      "(184.07341593437522, 192.526074, 56247983.18879289)\n",
      "================================\n",
      "('dcmp', 709.2, '+', 426273)\n",
      "(308.0065612792969, 624.02208, 51016.59375)\n",
      "================================\n",
      "('l-2-aminoadipate', 726.0, '+', 4607679)\n",
      "(162.1124725341797, 642.57858, 145900144.0)\n",
      "================================\n",
      "('l-homoserine', 742.8000000000001, '+', 134553196)\n",
      "(120.08086120666736, 528.305778, 13390014.657666327)\n",
      "================================\n",
      "('n-acetylornithine', 737.4, '+', 247009406)\n",
      "(175.11903381347656, 1132.03002, 20583378.0)\n",
      "================================\n",
      "('4-aminobutanoate', 752.4, '+', 205910257)\n",
      "(104.10697174072266, 1000.1087400000001, 14486916.0)\n",
      "================================\n",
      "('l-cystathionine', 795.6, '+', 139185)\n",
      "(223.09666442871094, 208.94767800000002, 296848.21875)\n",
      "================================\n",
      "('choline', 1045.8, '+', 392195944)\n",
      "(104.10697174072266, 1000.1087400000001, 14486916.0)\n",
      "================================\n",
      "('1-aminopropan-2-ol', 1125.0, '+', 24700144)\n",
      "(76.0757064819336, 558.799806, 2478501.5)\n",
      "================================\n",
      "('l-ornithine', 1038.6, '+', 2655807)\n",
      "(133.08009338378906, 706.69722, 7915752.0)\n",
      "================================\n",
      "('taurocholate', 253.8, '+', 2634703)\n",
      "(516.3385620117188, 205.75790999999998, 111861.5390625)\n",
      "================================\n",
      "('lipoate', 265.2, '+', 166523)\n",
      "(207.11293029785156, 528.035166, 1768277.5)\n",
      "================================\n",
      "('phenylacetylglycine', 347.4, '+', 521142752)\n",
      "(194.08468627929688, 555.434682, 824851.9375)\n",
      "================================\n",
      "('lipoamide', 273.59999999999997, '+', 820195961)\n",
      "(206.1005859375, 603.6551999999999, 964007.0)\n",
      "================================\n",
      "('2-aminobutan-4-olide', 376.8, '+', 20617729)\n",
      "(102.09144111790967, 642.1779, 3498027.8004186386)\n",
      "================================\n",
      "('isonicotinic acid', 451.2, '+', 3439069645)\n",
      "(123.96447312441632, 410.150082, 1146245.9571218835)\n",
      "================================\n",
      "('o-acetylcarnitine', 576.5999999999999, '+', 4650224635)\n",
      "(204.1231689453125, 550.2753, 38840204.0)\n",
      "================================\n",
      "('o-acetyl-l-serine', 703.2, '+', 47465680)\n",
      "(148.0426483154297, 403.71051, 20301830.0)\n",
      "================================\n",
      "('gamma-l-glutamyl-l-cysteine', 711.0, '+', 9513001)\n",
      "(251.06788635253906, 554.8488060000001, 141417.75)\n",
      "================================\n",
      "('acetylcholine', 811.1999999999999, '+', 3062188675)\n",
      "(146.11761474609375, 640.9834800000001, 3048879.0)\n",
      "================================\n",
      "('l-cystine', 774.6, '+', 2760178)\n",
      "(241.0310821533203, 749.8215, 275515.9375)\n",
      "================================\n",
      "('homocystine', 771.0, '+', 83272)\n",
      "(269.0879821777344, 570.508302, 3215549.5)\n",
      "================================\n",
      "('mercaptoethanol', 385.79999999999995, '+', 2885531953)\n",
      "(79.0212173461914, 1317.6348, 1237970.0)\n",
      "================================\n",
      "('d-glucono-1_4-lactone', 478.2, '+', 2482380)\n",
      "(179.12783813476562, 260.634444, 504304.0)\n",
      "================================\n",
      "('maleic acid', 694.2, '+', 161216)\n",
      "(117.07390594482422, 637.7076000000001, 11173923.0)\n",
      "================================\n"
     ]
    }
   ],
   "source": [
    "for mz in standards_list:\n",
    "    print(standards_list[mz])\n",
    "    print(frag_mzml.get_max_intensity(mz_min = mz - ppm , mz_max = mz +ppm))\n",
    "    print(\"================================\")"
   ]
  },
  {
   "cell_type": "code",
   "execution_count": null,
   "metadata": {},
   "outputs": [],
   "source": []
  }
 ],
 "metadata": {
  "kernelspec": {
   "display_name": "Python 3",
   "language": "python",
   "name": "python3"
  },
  "language_info": {
   "codemirror_mode": {
    "name": "ipython",
    "version": 3
   },
   "file_extension": ".py",
   "mimetype": "text/x-python",
   "name": "python",
   "nbconvert_exporter": "python",
   "pygments_lexer": "ipython3",
   "version": "3.8.1"
  }
 },
 "nbformat": 4,
 "nbformat_minor": 4
}
